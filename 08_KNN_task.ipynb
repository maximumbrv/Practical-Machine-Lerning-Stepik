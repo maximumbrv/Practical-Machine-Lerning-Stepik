{
  "cells": [
    {
      "attachments": {},
      "cell_type": "markdown",
      "metadata": {
        "id": "AkS7Lxm8nTLB"
      },
      "source": [
        "# Метрические алгоритмы. Практика"
      ]
    },
    {
      "attachments": {},
      "cell_type": "markdown",
      "metadata": {
        "id": "3jgxaKLXynLQ"
      },
      "source": [
        "В этом домашнем задании вы будете решать задачу классификации бутылок вина по различным характеристикам."
      ]
    },
    {
      "attachments": {},
      "cell_type": "markdown",
      "metadata": {
        "id": "ow7CdXlWyrfI"
      },
      "source": [
        "## Импорт библиотек, установка константных значений"
      ]
    },
    {
      "cell_type": "code",
      "execution_count": 1,
      "metadata": {
        "id": "shgV5ZT-oLG2"
      },
      "outputs": [],
      "source": [
        "import pandas as pd\n",
        "import numpy as np"
      ]
    },
    {
      "cell_type": "code",
      "execution_count": 3,
      "metadata": {
        "id": "85Rgp6ivyvZq"
      },
      "outputs": [],
      "source": [
        "RANDOM_STATE = 42\n",
        "TRAIN_SIZE = 0.75"
      ]
    },
    {
      "cell_type": "code",
      "execution_count": 4,
      "metadata": {
        "id": "QGpwI1GxyySs"
      },
      "outputs": [],
      "source": [
        "rng = np.random.default_rng(RANDOM_STATE)"
      ]
    },
    {
      "attachments": {},
      "cell_type": "markdown",
      "metadata": {
        "id": "uOk2Swygyxho"
      },
      "source": [
        "## Загрузка данных"
      ]
    },
    {
      "cell_type": "code",
      "execution_count": 5,
      "metadata": {
        "id": "_8RhxtHwwzTG"
      },
      "outputs": [],
      "source": [
        "from sklearn.datasets import load_wine\n",
        "\n",
        "data = load_wine(as_frame=True)\n",
        "\n",
        "X = data.data\n",
        "y = data.target"
      ]
    },
    {
      "attachments": {},
      "cell_type": "markdown",
      "metadata": {
        "id": "KvNTy4_yzOwY"
      },
      "source": [
        "## Задание 1"
      ]
    },
    {
      "attachments": {},
      "cell_type": "markdown",
      "metadata": {
        "id": "PNKeCjtEncob"
      },
      "source": [
        "Посмотрите на количество классов и количество объектов каждого класса в датасете."
      ]
    },
    {
      "attachments": {},
      "cell_type": "markdown",
      "metadata": {
        "id": "1O1xV6KWzW8e"
      },
      "source": [
        "**Вопрос**:\n",
        "Сколько классов в задаче?"
      ]
    },
    {
      "cell_type": "code",
      "execution_count": 8,
      "metadata": {
        "id": "vnIXJMT9nh78"
      },
      "outputs": [
        {
          "data": {
            "text/plain": [
              "1    71\n",
              "0    59\n",
              "2    48\n",
              "Name: target, dtype: int64"
            ]
          },
          "execution_count": 8,
          "metadata": {},
          "output_type": "execute_result"
        }
      ],
      "source": [
        "# ваш код здесь\n",
        "y.value_counts()"
      ]
    },
    {
      "attachments": {},
      "cell_type": "markdown",
      "metadata": {
        "id": "jk9RqS69z6af"
      },
      "source": [
        "## Задание 2"
      ]
    },
    {
      "attachments": {},
      "cell_type": "markdown",
      "metadata": {
        "id": "S8dnUB81nkG0"
      },
      "source": [
        "Мы имеем дело с многоклассовой классификацией. Кроме того, классы не очень хорошо сбалансированы, поэтому для оценки качества модели метрика *accuracy* не подойдет."
      ]
    },
    {
      "attachments": {},
      "cell_type": "markdown",
      "metadata": {
        "id": "qM6ZTfphyL8W"
      },
      "source": [
        "Разбейте данные на тренировочную и тестовую части:\n",
        "тестовая часть - 25% от всех данных, зафиксируйте `random_state = RANDOM_STATE`."
      ]
    },
    {
      "cell_type": "code",
      "execution_count": 9,
      "metadata": {
        "id": "f16RkGUaxUh4"
      },
      "outputs": [],
      "source": [
        "from sklearn.model_selection import train_test_split\n",
        "\n",
        "X_train, X_test, y_train, y_test = train_test_split(X, y, random_state=RANDOM_STATE, train_size=TRAIN_SIZE)"
      ]
    },
    {
      "attachments": {},
      "cell_type": "markdown",
      "metadata": {
        "id": "bX6Vv4dryREe"
      },
      "source": [
        "**Вопрос:**\n",
        "\n",
        "Все ли признаки в данных одного масштаба?\n",
        "Проверьте это, выведя основные числовые характеристики матрицы `X_train` методом `describe` из библиотеки `pandas`.\n",
        "\n",
        "По полученной таблице числовых характеристик определите, какой признак измеряется в сотнях?\n",
        "(если вариантов несколько, выберите признак с наибольшим средним значением)."
      ]
    },
    {
      "cell_type": "code",
      "execution_count": 10,
      "metadata": {
        "id": "VTOG8ggByUSZ"
      },
      "outputs": [
        {
          "data": {
            "text/html": [
              "<div>\n",
              "<style scoped>\n",
              "    .dataframe tbody tr th:only-of-type {\n",
              "        vertical-align: middle;\n",
              "    }\n",
              "\n",
              "    .dataframe tbody tr th {\n",
              "        vertical-align: top;\n",
              "    }\n",
              "\n",
              "    .dataframe thead th {\n",
              "        text-align: right;\n",
              "    }\n",
              "</style>\n",
              "<table border=\"1\" class=\"dataframe\">\n",
              "  <thead>\n",
              "    <tr style=\"text-align: right;\">\n",
              "      <th></th>\n",
              "      <th>alcohol</th>\n",
              "      <th>malic_acid</th>\n",
              "      <th>ash</th>\n",
              "      <th>alcalinity_of_ash</th>\n",
              "      <th>magnesium</th>\n",
              "      <th>total_phenols</th>\n",
              "      <th>flavanoids</th>\n",
              "      <th>nonflavanoid_phenols</th>\n",
              "      <th>proanthocyanins</th>\n",
              "      <th>color_intensity</th>\n",
              "      <th>hue</th>\n",
              "      <th>od280/od315_of_diluted_wines</th>\n",
              "      <th>proline</th>\n",
              "    </tr>\n",
              "  </thead>\n",
              "  <tbody>\n",
              "    <tr>\n",
              "      <th>count</th>\n",
              "      <td>133.000000</td>\n",
              "      <td>133.000000</td>\n",
              "      <td>133.000000</td>\n",
              "      <td>133.000000</td>\n",
              "      <td>133.000000</td>\n",
              "      <td>133.000000</td>\n",
              "      <td>133.000000</td>\n",
              "      <td>133.000000</td>\n",
              "      <td>133.000000</td>\n",
              "      <td>133.000000</td>\n",
              "      <td>133.000000</td>\n",
              "      <td>133.000000</td>\n",
              "      <td>133.000000</td>\n",
              "    </tr>\n",
              "    <tr>\n",
              "      <th>mean</th>\n",
              "      <td>12.972857</td>\n",
              "      <td>2.386842</td>\n",
              "      <td>2.362180</td>\n",
              "      <td>19.433835</td>\n",
              "      <td>100.759398</td>\n",
              "      <td>2.277068</td>\n",
              "      <td>2.021203</td>\n",
              "      <td>0.363534</td>\n",
              "      <td>1.608647</td>\n",
              "      <td>5.017594</td>\n",
              "      <td>0.959444</td>\n",
              "      <td>2.610000</td>\n",
              "      <td>742.992481</td>\n",
              "    </tr>\n",
              "    <tr>\n",
              "      <th>std</th>\n",
              "      <td>0.829993</td>\n",
              "      <td>1.098905</td>\n",
              "      <td>0.280606</td>\n",
              "      <td>3.467312</td>\n",
              "      <td>14.999571</td>\n",
              "      <td>0.645696</td>\n",
              "      <td>1.005537</td>\n",
              "      <td>0.126923</td>\n",
              "      <td>0.576964</td>\n",
              "      <td>2.202516</td>\n",
              "      <td>0.234545</td>\n",
              "      <td>0.729961</td>\n",
              "      <td>306.867593</td>\n",
              "    </tr>\n",
              "    <tr>\n",
              "      <th>min</th>\n",
              "      <td>11.030000</td>\n",
              "      <td>0.890000</td>\n",
              "      <td>1.360000</td>\n",
              "      <td>10.600000</td>\n",
              "      <td>70.000000</td>\n",
              "      <td>0.980000</td>\n",
              "      <td>0.340000</td>\n",
              "      <td>0.130000</td>\n",
              "      <td>0.420000</td>\n",
              "      <td>1.740000</td>\n",
              "      <td>0.480000</td>\n",
              "      <td>1.270000</td>\n",
              "      <td>278.000000</td>\n",
              "    </tr>\n",
              "    <tr>\n",
              "      <th>25%</th>\n",
              "      <td>12.290000</td>\n",
              "      <td>1.640000</td>\n",
              "      <td>2.210000</td>\n",
              "      <td>17.200000</td>\n",
              "      <td>88.000000</td>\n",
              "      <td>1.700000</td>\n",
              "      <td>1.200000</td>\n",
              "      <td>0.260000</td>\n",
              "      <td>1.250000</td>\n",
              "      <td>3.250000</td>\n",
              "      <td>0.780000</td>\n",
              "      <td>1.830000</td>\n",
              "      <td>500.000000</td>\n",
              "    </tr>\n",
              "    <tr>\n",
              "      <th>50%</th>\n",
              "      <td>12.990000</td>\n",
              "      <td>1.900000</td>\n",
              "      <td>2.360000</td>\n",
              "      <td>19.400000</td>\n",
              "      <td>98.000000</td>\n",
              "      <td>2.230000</td>\n",
              "      <td>2.140000</td>\n",
              "      <td>0.340000</td>\n",
              "      <td>1.560000</td>\n",
              "      <td>4.800000</td>\n",
              "      <td>0.970000</td>\n",
              "      <td>2.810000</td>\n",
              "      <td>675.000000</td>\n",
              "    </tr>\n",
              "    <tr>\n",
              "      <th>75%</th>\n",
              "      <td>13.690000</td>\n",
              "      <td>3.170000</td>\n",
              "      <td>2.540000</td>\n",
              "      <td>21.500000</td>\n",
              "      <td>108.000000</td>\n",
              "      <td>2.800000</td>\n",
              "      <td>2.880000</td>\n",
              "      <td>0.450000</td>\n",
              "      <td>1.960000</td>\n",
              "      <td>6.130000</td>\n",
              "      <td>1.120000</td>\n",
              "      <td>3.200000</td>\n",
              "      <td>970.000000</td>\n",
              "    </tr>\n",
              "    <tr>\n",
              "      <th>max</th>\n",
              "      <td>14.830000</td>\n",
              "      <td>5.800000</td>\n",
              "      <td>3.230000</td>\n",
              "      <td>30.000000</td>\n",
              "      <td>162.000000</td>\n",
              "      <td>3.880000</td>\n",
              "      <td>5.080000</td>\n",
              "      <td>0.660000</td>\n",
              "      <td>3.580000</td>\n",
              "      <td>10.800000</td>\n",
              "      <td>1.710000</td>\n",
              "      <td>4.000000</td>\n",
              "      <td>1547.000000</td>\n",
              "    </tr>\n",
              "  </tbody>\n",
              "</table>\n",
              "</div>"
            ],
            "text/plain": [
              "          alcohol  malic_acid         ash  alcalinity_of_ash   magnesium  \\\n",
              "count  133.000000  133.000000  133.000000         133.000000  133.000000   \n",
              "mean    12.972857    2.386842    2.362180          19.433835  100.759398   \n",
              "std      0.829993    1.098905    0.280606           3.467312   14.999571   \n",
              "min     11.030000    0.890000    1.360000          10.600000   70.000000   \n",
              "25%     12.290000    1.640000    2.210000          17.200000   88.000000   \n",
              "50%     12.990000    1.900000    2.360000          19.400000   98.000000   \n",
              "75%     13.690000    3.170000    2.540000          21.500000  108.000000   \n",
              "max     14.830000    5.800000    3.230000          30.000000  162.000000   \n",
              "\n",
              "       total_phenols  flavanoids  nonflavanoid_phenols  proanthocyanins  \\\n",
              "count     133.000000  133.000000            133.000000       133.000000   \n",
              "mean        2.277068    2.021203              0.363534         1.608647   \n",
              "std         0.645696    1.005537              0.126923         0.576964   \n",
              "min         0.980000    0.340000              0.130000         0.420000   \n",
              "25%         1.700000    1.200000              0.260000         1.250000   \n",
              "50%         2.230000    2.140000              0.340000         1.560000   \n",
              "75%         2.800000    2.880000              0.450000         1.960000   \n",
              "max         3.880000    5.080000              0.660000         3.580000   \n",
              "\n",
              "       color_intensity         hue  od280/od315_of_diluted_wines      proline  \n",
              "count       133.000000  133.000000                    133.000000   133.000000  \n",
              "mean          5.017594    0.959444                      2.610000   742.992481  \n",
              "std           2.202516    0.234545                      0.729961   306.867593  \n",
              "min           1.740000    0.480000                      1.270000   278.000000  \n",
              "25%           3.250000    0.780000                      1.830000   500.000000  \n",
              "50%           4.800000    0.970000                      2.810000   675.000000  \n",
              "75%           6.130000    1.120000                      3.200000   970.000000  \n",
              "max          10.800000    1.710000                      4.000000  1547.000000  "
            ]
          },
          "execution_count": 10,
          "metadata": {},
          "output_type": "execute_result"
        }
      ],
      "source": [
        "# ваш код здесь\n",
        "X_train.describe()"
      ]
    },
    {
      "attachments": {},
      "cell_type": "markdown",
      "metadata": {
        "id": "6VANARbT0Vu5"
      },
      "source": [
        "## Задание 3"
      ]
    },
    {
      "attachments": {},
      "cell_type": "markdown",
      "metadata": {
        "id": "e1dfCiISo_GH"
      },
      "source": [
        "KNN требует того, чтобы все признаки были одного масштаба, поэтому масштабируйте данные при помощи `StandardScaler`.\n",
        "\n",
        "Напоминаем, что обучать метод нужно только по тренировочным данным, а применять и к трейну, и к тесту.\n",
        "\n",
        "После применения `StandardScaler` преобразуйте `X_train` и `X_test` к типу `pd.DataFrame`, названия новых объектов оставьте `X_train` и `X_test`."
      ]
    },
    {
      "cell_type": "code",
      "execution_count": 11,
      "metadata": {
        "id": "IMWxZOLMpLg_"
      },
      "outputs": [],
      "source": [
        "from sklearn.preprocessing import StandardScaler\n",
        "\n",
        "scaler = StandardScaler()\n",
        "scaler.fit(X_train)\n",
        "X_train = pd.DataFrame(scaler.transform(X_train), columns=X_train.columns)\n",
        "X_test = pd.DataFrame(scaler.transform(X_test), columns=X_test.columns)"
      ]
    },
    {
      "cell_type": "code",
      "execution_count": 13,
      "metadata": {},
      "outputs": [
        {
          "data": {
            "text/html": [
              "<div>\n",
              "<style scoped>\n",
              "    .dataframe tbody tr th:only-of-type {\n",
              "        vertical-align: middle;\n",
              "    }\n",
              "\n",
              "    .dataframe tbody tr th {\n",
              "        vertical-align: top;\n",
              "    }\n",
              "\n",
              "    .dataframe thead th {\n",
              "        text-align: right;\n",
              "    }\n",
              "</style>\n",
              "<table border=\"1\" class=\"dataframe\">\n",
              "  <thead>\n",
              "    <tr style=\"text-align: right;\">\n",
              "      <th></th>\n",
              "      <th>alcohol</th>\n",
              "      <th>malic_acid</th>\n",
              "      <th>ash</th>\n",
              "      <th>alcalinity_of_ash</th>\n",
              "      <th>magnesium</th>\n",
              "      <th>total_phenols</th>\n",
              "      <th>flavanoids</th>\n",
              "      <th>nonflavanoid_phenols</th>\n",
              "      <th>proanthocyanins</th>\n",
              "      <th>color_intensity</th>\n",
              "      <th>hue</th>\n",
              "      <th>od280/od315_of_diluted_wines</th>\n",
              "      <th>proline</th>\n",
              "    </tr>\n",
              "  </thead>\n",
              "  <tbody>\n",
              "    <tr>\n",
              "      <th>count</th>\n",
              "      <td>1.330000e+02</td>\n",
              "      <td>1.330000e+02</td>\n",
              "      <td>1.330000e+02</td>\n",
              "      <td>1.330000e+02</td>\n",
              "      <td>1.330000e+02</td>\n",
              "      <td>1.330000e+02</td>\n",
              "      <td>1.330000e+02</td>\n",
              "      <td>1.330000e+02</td>\n",
              "      <td>1.330000e+02</td>\n",
              "      <td>1.330000e+02</td>\n",
              "      <td>1.330000e+02</td>\n",
              "      <td>1.330000e+02</td>\n",
              "      <td>1.330000e+02</td>\n",
              "    </tr>\n",
              "    <tr>\n",
              "      <th>mean</th>\n",
              "      <td>-1.616084e-15</td>\n",
              "      <td>1.857328e-17</td>\n",
              "      <td>1.794721e-15</td>\n",
              "      <td>5.175476e-17</td>\n",
              "      <td>-3.245107e-16</td>\n",
              "      <td>-1.961672e-17</td>\n",
              "      <td>-4.487847e-16</td>\n",
              "      <td>5.290254e-16</td>\n",
              "      <td>5.509377e-17</td>\n",
              "      <td>-2.320617e-16</td>\n",
              "      <td>3.038505e-16</td>\n",
              "      <td>1.803069e-16</td>\n",
              "      <td>1.919935e-17</td>\n",
              "    </tr>\n",
              "    <tr>\n",
              "      <th>std</th>\n",
              "      <td>1.003781e+00</td>\n",
              "      <td>1.003781e+00</td>\n",
              "      <td>1.003781e+00</td>\n",
              "      <td>1.003781e+00</td>\n",
              "      <td>1.003781e+00</td>\n",
              "      <td>1.003781e+00</td>\n",
              "      <td>1.003781e+00</td>\n",
              "      <td>1.003781e+00</td>\n",
              "      <td>1.003781e+00</td>\n",
              "      <td>1.003781e+00</td>\n",
              "      <td>1.003781e+00</td>\n",
              "      <td>1.003781e+00</td>\n",
              "      <td>1.003781e+00</td>\n",
              "    </tr>\n",
              "    <tr>\n",
              "      <th>min</th>\n",
              "      <td>-2.349661e+00</td>\n",
              "      <td>-1.367272e+00</td>\n",
              "      <td>-3.584985e+00</td>\n",
              "      <td>-2.557379e+00</td>\n",
              "      <td>-2.058438e+00</td>\n",
              "      <td>-2.016383e+00</td>\n",
              "      <td>-1.678267e+00</td>\n",
              "      <td>-1.846925e+00</td>\n",
              "      <td>-2.067963e+00</td>\n",
              "      <td>-1.493740e+00</td>\n",
              "      <td>-2.051875e+00</td>\n",
              "      <td>-1.842656e+00</td>\n",
              "      <td>-1.521016e+00</td>\n",
              "    </tr>\n",
              "    <tr>\n",
              "      <th>25%</th>\n",
              "      <td>-8.258367e-01</td>\n",
              "      <td>-6.821936e-01</td>\n",
              "      <td>-5.443776e-01</td>\n",
              "      <td>-6.466911e-01</td>\n",
              "      <td>-8.538670e-01</td>\n",
              "      <td>-8.970924e-01</td>\n",
              "      <td>-8.197687e-01</td>\n",
              "      <td>-8.188072e-01</td>\n",
              "      <td>-6.239601e-01</td>\n",
              "      <td>-8.055682e-01</td>\n",
              "      <td>-7.679649e-01</td>\n",
              "      <td>-1.072591e+00</td>\n",
              "      <td>-7.948417e-01</td>\n",
              "    </tr>\n",
              "    <tr>\n",
              "      <th>50%</th>\n",
              "      <td>2.073230e-02</td>\n",
              "      <td>-4.446998e-01</td>\n",
              "      <td>-7.799877e-03</td>\n",
              "      <td>-9.795052e-03</td>\n",
              "      <td>-1.846607e-01</td>\n",
              "      <td>-7.317002e-02</td>\n",
              "      <td>1.185895e-01</td>\n",
              "      <td>-1.861196e-01</td>\n",
              "      <td>-8.463358e-02</td>\n",
              "      <td>-9.916689e-02</td>\n",
              "      <td>4.517819e-02</td>\n",
              "      <td>2.750233e-01</td>\n",
              "      <td>-2.224071e-01</td>\n",
              "    </tr>\n",
              "    <tr>\n",
              "      <th>75%</th>\n",
              "      <td>8.673013e-01</td>\n",
              "      <td>7.153658e-01</td>\n",
              "      <td>6.360934e-01</td>\n",
              "      <td>5.981512e-01</td>\n",
              "      <td>4.845456e-01</td>\n",
              "      <td>8.129352e-01</td>\n",
              "      <td>8.572970e-01</td>\n",
              "      <td>6.838259e-01</td>\n",
              "      <td>6.112716e-01</td>\n",
              "      <td>5.069710e-01</td>\n",
              "      <td>6.871333e-01</td>\n",
              "      <td>8.113187e-01</td>\n",
              "      <td>7.425540e-01</td>\n",
              "    </tr>\n",
              "    <tr>\n",
              "      <th>max</th>\n",
              "      <td>2.245999e+00</td>\n",
              "      <td>3.117706e+00</td>\n",
              "      <td>3.104351e+00</td>\n",
              "      <td>3.058886e+00</td>\n",
              "      <td>4.098260e+00</td>\n",
              "      <td>2.491871e+00</td>\n",
              "      <td>3.053455e+00</td>\n",
              "      <td>2.344631e+00</td>\n",
              "      <td>3.429688e+00</td>\n",
              "      <td>2.635290e+00</td>\n",
              "      <td>3.212157e+00</td>\n",
              "      <td>1.911412e+00</td>\n",
              "      <td>2.629953e+00</td>\n",
              "    </tr>\n",
              "  </tbody>\n",
              "</table>\n",
              "</div>"
            ],
            "text/plain": [
              "            alcohol    malic_acid           ash  alcalinity_of_ash  \\\n",
              "count  1.330000e+02  1.330000e+02  1.330000e+02       1.330000e+02   \n",
              "mean  -1.616084e-15  1.857328e-17  1.794721e-15       5.175476e-17   \n",
              "std    1.003781e+00  1.003781e+00  1.003781e+00       1.003781e+00   \n",
              "min   -2.349661e+00 -1.367272e+00 -3.584985e+00      -2.557379e+00   \n",
              "25%   -8.258367e-01 -6.821936e-01 -5.443776e-01      -6.466911e-01   \n",
              "50%    2.073230e-02 -4.446998e-01 -7.799877e-03      -9.795052e-03   \n",
              "75%    8.673013e-01  7.153658e-01  6.360934e-01       5.981512e-01   \n",
              "max    2.245999e+00  3.117706e+00  3.104351e+00       3.058886e+00   \n",
              "\n",
              "          magnesium  total_phenols    flavanoids  nonflavanoid_phenols  \\\n",
              "count  1.330000e+02   1.330000e+02  1.330000e+02          1.330000e+02   \n",
              "mean  -3.245107e-16  -1.961672e-17 -4.487847e-16          5.290254e-16   \n",
              "std    1.003781e+00   1.003781e+00  1.003781e+00          1.003781e+00   \n",
              "min   -2.058438e+00  -2.016383e+00 -1.678267e+00         -1.846925e+00   \n",
              "25%   -8.538670e-01  -8.970924e-01 -8.197687e-01         -8.188072e-01   \n",
              "50%   -1.846607e-01  -7.317002e-02  1.185895e-01         -1.861196e-01   \n",
              "75%    4.845456e-01   8.129352e-01  8.572970e-01          6.838259e-01   \n",
              "max    4.098260e+00   2.491871e+00  3.053455e+00          2.344631e+00   \n",
              "\n",
              "       proanthocyanins  color_intensity           hue  \\\n",
              "count     1.330000e+02     1.330000e+02  1.330000e+02   \n",
              "mean      5.509377e-17    -2.320617e-16  3.038505e-16   \n",
              "std       1.003781e+00     1.003781e+00  1.003781e+00   \n",
              "min      -2.067963e+00    -1.493740e+00 -2.051875e+00   \n",
              "25%      -6.239601e-01    -8.055682e-01 -7.679649e-01   \n",
              "50%      -8.463358e-02    -9.916689e-02  4.517819e-02   \n",
              "75%       6.112716e-01     5.069710e-01  6.871333e-01   \n",
              "max       3.429688e+00     2.635290e+00  3.212157e+00   \n",
              "\n",
              "       od280/od315_of_diluted_wines       proline  \n",
              "count                  1.330000e+02  1.330000e+02  \n",
              "mean                   1.803069e-16  1.919935e-17  \n",
              "std                    1.003781e+00  1.003781e+00  \n",
              "min                   -1.842656e+00 -1.521016e+00  \n",
              "25%                   -1.072591e+00 -7.948417e-01  \n",
              "50%                    2.750233e-01 -2.224071e-01  \n",
              "75%                    8.113187e-01  7.425540e-01  \n",
              "max                    1.911412e+00  2.629953e+00  "
            ]
          },
          "execution_count": 13,
          "metadata": {},
          "output_type": "execute_result"
        }
      ],
      "source": [
        "X_train.describe()"
      ]
    },
    {
      "attachments": {},
      "cell_type": "markdown",
      "metadata": {
        "id": "wfjxuX1hyOpd"
      },
      "source": [
        "Обучите KNN с параметрами по умолчанию на тренировочных данных и сделайте предсказание на тесте."
      ]
    },
    {
      "cell_type": "code",
      "execution_count": 28,
      "metadata": {
        "id": "VeyYEAO2yQhL"
      },
      "outputs": [
        {
          "name": "stderr",
          "output_type": "stream",
          "text": [
            "c:\\ProgramData\\Anaconda3\\lib\\site-packages\\sklearn\\neighbors\\_classification.py:228: FutureWarning: Unlike other reduction functions (e.g. `skew`, `kurtosis`), the default behavior of `mode` typically preserves the axis it acts along. In SciPy 1.11.0, this behavior will change: the default value of `keepdims` will become False, the `axis` over which the statistic is taken will be eliminated, and the value None will no longer be accepted. Set `keepdims` to True or False to avoid this warning.\n",
            "  mode, _ = stats.mode(_y[neigh_ind, k], axis=1)\n"
          ]
        }
      ],
      "source": [
        "from sklearn.neighbors import KNeighborsClassifier\n",
        "\n",
        "clf = KNeighborsClassifier()\n",
        "clf.fit(X_train, y_train)\n",
        "y_pred = clf.predict(X_test)"
      ]
    },
    {
      "attachments": {},
      "cell_type": "markdown",
      "metadata": {
        "id": "E18N3QNMrQLw"
      },
      "source": [
        "Будем измерять качество модели по метрике weighted $f1$-score.\n",
        "\n",
        "Чтобы выбрать тип усреднения (micro, macro, weighted) в функции `f1_score` необходимо задать этот тип в гиперпараметре `average`.\n",
        "\n",
        "Вычислите $f1$-score на тестовых данных."
      ]
    },
    {
      "attachments": {},
      "cell_type": "markdown",
      "metadata": {
        "id": "aLaSCeCf0uPd"
      },
      "source": [
        "**Вопрос:**\n",
        "\n",
        "Чему равен $f1$-score на тестовых данных?"
      ]
    },
    {
      "cell_type": "code",
      "execution_count": 29,
      "metadata": {
        "id": "TdhIWbULrnPv"
      },
      "outputs": [
        {
          "data": {
            "text/plain": [
              "0.9550512333965844"
            ]
          },
          "execution_count": 29,
          "metadata": {},
          "output_type": "execute_result"
        }
      ],
      "source": [
        "from sklearn.metrics import f1_score\n",
        "\n",
        "score = f1_score(y_test, y_pred, average='weighted')\n",
        "score"
      ]
    },
    {
      "attachments": {},
      "cell_type": "markdown",
      "metadata": {
        "id": "kco77ab200s9"
      },
      "source": [
        "## Задание 4"
      ]
    },
    {
      "attachments": {},
      "cell_type": "markdown",
      "metadata": {
        "id": "BONbGWi1yVIQ"
      },
      "source": [
        "Попробуем улучшить модель.\n",
        "\n",
        "Подберите оптимальное количество соседей (`n_neigbors`) из диапазона *от 3 до 30 с шагом 2* и веса соседей (`weights`):\n",
        "`uniform`, `distance` по кросс-валидации с тремя фолдами на тренировочных данных.\n",
        "\n",
        "Используйте `GridSearchCV` и метрику `f1_weighted`."
      ]
    },
    {
      "cell_type": "code",
      "execution_count": 21,
      "metadata": {},
      "outputs": [
        {
          "data": {
            "text/plain": [
              "array([ 3,  5,  7,  9, 11, 13, 15, 17, 19, 21, 23, 25, 27, 29])"
            ]
          },
          "execution_count": 21,
          "metadata": {},
          "output_type": "execute_result"
        }
      ],
      "source": [
        "np.arange(3, 31, 2)"
      ]
    },
    {
      "cell_type": "code",
      "execution_count": 24,
      "metadata": {
        "id": "6nM_wc6iydB-"
      },
      "outputs": [
        {
          "name": "stdout",
          "output_type": "stream",
          "text": [
            "Fitting 3 folds for each of 28 candidates, totalling 84 fits\n",
            "{'n_neighbors': 19, 'weights': 'distance'}\n",
            "0.9623290498688744\n"
          ]
        }
      ],
      "source": [
        "from sklearn.model_selection import GridSearchCV\n",
        "\n",
        "params = {'n_neighbors': np.arange(3, 30, 2), 'weights': ['uniform', 'distance']}\n",
        "gs = GridSearchCV(KNeighborsClassifier(), param_grid=params, scoring='f1_weighted', cv=3, verbose=2, n_jobs=-1)\n",
        "gs.fit(X_train, y_train)\n",
        "\n",
        "print(gs.best_params_)\n",
        "print(gs.best_score_)\n"
      ]
    },
    {
      "attachments": {},
      "cell_type": "markdown",
      "metadata": {
        "id": "b6mM-XXps5Af"
      },
      "source": [
        "Возьмите best_estimator_, полученный при обучении GridSearchCV и с помощью него\n",
        "сделайте предсказание на тесте и вычислите метрику `f1_weighted`."
      ]
    },
    {
      "cell_type": "code",
      "execution_count": 30,
      "metadata": {
        "id": "6Sn00daNtGWd"
      },
      "outputs": [
        {
          "data": {
            "text/plain": [
              "0.9550512333965844"
            ]
          },
          "execution_count": 30,
          "metadata": {},
          "output_type": "execute_result"
        }
      ],
      "source": [
        "best_knn = gs.best_estimator_\n",
        "best_knn.fit(X_train, y_train)\n",
        "y_pred = best_knn.predict(X_test)\n",
        "score = f1_score(y_test, y_pred, average='weighted')\n",
        "score"
      ]
    },
    {
      "attachments": {},
      "cell_type": "markdown",
      "metadata": {
        "id": "HzAQzK3JtT7h"
      },
      "source": [
        "**Вопрос:**\n",
        "\n",
        "Удалось ли при помощи подбора гиперпараметров улучшить качество модели на тестовых данных?"
      ]
    },
    {
      "attachments": {},
      "cell_type": "markdown",
      "metadata": {
        "id": "iLzHwlkj1cjs"
      },
      "source": [
        "## Задание 5"
      ]
    },
    {
      "attachments": {},
      "cell_type": "markdown",
      "metadata": {
        "id": "tdm2A5SSylYQ"
      },
      "source": [
        "Выведите на экран матрицу ошибок.\n",
        "\n",
        "Используйте модель с подобранными при помощи `GridSearch` гиперпараметрами.\n"
      ]
    },
    {
      "attachments": {},
      "cell_type": "markdown",
      "metadata": {
        "id": "FHgD2EQG1i1V"
      },
      "source": [
        "**Вопрос:**\n",
        "По этой матрице определите, какие классы между собой путает модель?"
      ]
    },
    {
      "cell_type": "code",
      "execution_count": 34,
      "metadata": {
        "id": "I5u0A5a0yqge"
      },
      "outputs": [
        {
          "data": {
            "text/html": [
              "<div>\n",
              "<style scoped>\n",
              "    .dataframe tbody tr th:only-of-type {\n",
              "        vertical-align: middle;\n",
              "    }\n",
              "\n",
              "    .dataframe tbody tr th {\n",
              "        vertical-align: top;\n",
              "    }\n",
              "\n",
              "    .dataframe thead th {\n",
              "        text-align: right;\n",
              "    }\n",
              "</style>\n",
              "<table border=\"1\" class=\"dataframe\">\n",
              "  <thead>\n",
              "    <tr style=\"text-align: right;\">\n",
              "      <th></th>\n",
              "      <th>0</th>\n",
              "      <th>1</th>\n",
              "      <th>2</th>\n",
              "    </tr>\n",
              "  </thead>\n",
              "  <tbody>\n",
              "    <tr>\n",
              "      <th>0</th>\n",
              "      <td>15</td>\n",
              "      <td>0</td>\n",
              "      <td>0</td>\n",
              "    </tr>\n",
              "    <tr>\n",
              "      <th>1</th>\n",
              "      <td>1</td>\n",
              "      <td>16</td>\n",
              "      <td>1</td>\n",
              "    </tr>\n",
              "    <tr>\n",
              "      <th>2</th>\n",
              "      <td>0</td>\n",
              "      <td>0</td>\n",
              "      <td>12</td>\n",
              "    </tr>\n",
              "  </tbody>\n",
              "</table>\n",
              "</div>"
            ],
            "text/plain": [
              "    0   1   2\n",
              "0  15   0   0\n",
              "1   1  16   1\n",
              "2   0   0  12"
            ]
          },
          "execution_count": 34,
          "metadata": {},
          "output_type": "execute_result"
        }
      ],
      "source": [
        "from sklearn.metrics import confusion_matrix\n",
        "\n",
        "pd.DataFrame(confusion_matrix(y_test, y_pred), columns=[0, 1, 2])"
      ]
    },
    {
      "attachments": {},
      "cell_type": "markdown",
      "metadata": {
        "id": "9qKKGd2eyq6E"
      },
      "source": [
        "## Бонус (эксперименты с LSH)"
      ]
    },
    {
      "attachments": {},
      "cell_type": "markdown",
      "metadata": {
        "id": "l-_YTZzg1qnq"
      },
      "source": [
        "Скопируйте все функции из [ноутбука в уроке \"Быстрый поиск соседей\"](https://colab.research.google.com/drive/181MMOcTnzdMVzJr0pWzqtEG0-BV9BIHH)."
      ]
    },
    {
      "cell_type": "code",
      "execution_count": 37,
      "metadata": {
        "id": "ia2GsrwKy5co"
      },
      "outputs": [],
      "source": [
        "rng = np.random.default_rng(RANDOM_STATE)"
      ]
    },
    {
      "cell_type": "code",
      "execution_count": null,
      "metadata": {},
      "outputs": [],
      "source": [
        "m = 100000\n",
        "n = 10000   "
      ]
    },
    {
      "cell_type": "code",
      "execution_count": null,
      "metadata": {},
      "outputs": [],
      "source": [
        "X = rng.normal(size=(m, n))  # датасет\n",
        "q = rng.normal(size=n)       # вектор запроса"
      ]
    },
    {
      "cell_type": "code",
      "execution_count": 35,
      "metadata": {},
      "outputs": [],
      "source": [
        "def knn_search(query, data, k=5):\n",
        "\n",
        "    dists = np.sqrt(np.sum((data - query) ** 2, axis=1))  # вычисляем расстояния от объекта query до всех точек датасета\n",
        "    inds = np.argsort(dists)  # сортируем по возрастанию расстояний\n",
        "    inds_k = inds[:k]         # берем top-k точек с наименьшими расстояниями\n",
        "    \n",
        "    return data[inds_k], dists[inds_k]"
      ]
    },
    {
      "cell_type": "code",
      "execution_count": 36,
      "metadata": {},
      "outputs": [],
      "source": [
        "def generate_hyperplanes(data, bucket_size=16):\n",
        "    m = data.shape[0]            # число объектов\n",
        "    n = data.shape[1]            # число признаков\n",
        "    b = m // bucket_size         # количество корзин\n",
        "    h = int(np.log2(b))          # количество гиперплоскостей\n",
        "    H = rng.normal(size=(h, n))  # гиперплоскости, заданные своими нормалями\n",
        "    return H"
      ]
    },
    {
      "cell_type": "code",
      "execution_count": 43,
      "metadata": {},
      "outputs": [
        {
          "data": {
            "text/plain": [
              "array([[ 8.06832067e-01,  6.51425164e-01,  7.07637133e-01,\n",
              "        -1.22568751e+00,  1.01991065e+00,  6.57478171e-01,\n",
              "         1.00703506e+00, -1.53058075e+00,  8.93427142e-02,\n",
              "         3.75559480e-02,  2.38118688e-03,  1.03133729e+00,\n",
              "         3.33672190e-01],\n",
              "       [ 1.49618109e+00,  1.51005641e+00,  2.78374927e-01,\n",
              "        -1.54544155e-01,  6.85307503e-01,  8.90663763e-01,\n",
              "         6.27698755e-01, -5.02463378e-01, -6.23960098e-01,\n",
              "         1.01359940e-01, -3.82791880e-01,  9.90083798e-01,\n",
              "         1.10237008e+00],\n",
              "       [-5.18307538e-02,  3.86528289e-01,  1.20844304e+00,\n",
              "         4.53402076e-01, -3.18501945e-01, -1.14582374e+00,\n",
              "        -1.51854612e+00,  1.31651351e+00, -1.49384158e+00,\n",
              "        -1.90315452e-01, -8.10761955e-01, -4.12534916e-01,\n",
              "        -4.67736251e-01],\n",
              "       [ 9.15676650e-01, -8.10074836e-01,  1.20844304e+00,\n",
              "         8.87649384e-01,  1.61012042e-02,  1.12384935e+00,\n",
              "         1.22665081e+00, -5.81549330e-01,  1.34197204e+00,\n",
              "         3.11001628e-01,  9.86712358e-01,  1.37511639e-01,\n",
              "         1.77293633e+00],\n",
              "       [-7.29085937e-01, -1.11150921e+00, -1.58176130e+00,\n",
              "         4.81045890e-02, -1.52307328e+00, -2.59718488e-01,\n",
              "        -2.11659750e-02, -7.39721234e-01, -9.89310319e-01,\n",
              "        -1.53856028e-01,  6.87133306e-01,  1.19635126e+00,\n",
              "        -7.62131188e-01],\n",
              "       [ 1.60502568e+00, -4.26431086e-01,  1.27998674e+00,\n",
              "         1.63903871e-01,  1.28759317e+00,  8.12935232e-01,\n",
              "         1.11684294e+00, -2.65205523e-01,  6.28669231e-01,\n",
              "         5.38873028e-01,  4.73148269e-01,  5.50046554e-02,\n",
              "         1.75658105e+00],\n",
              "       [-1.17655811e+00,  9.52859539e-01, -1.29558650e+00,\n",
              "        -1.25594334e-01, -9.20787614e-01, -4.30721255e-01,\n",
              "        -3.80537210e-01,  5.11382847e-02,  4.54692935e-01,\n",
              "        -1.70338155e+00, -1.26009835e-01,  6.05051210e-01,\n",
              "        -5.85494226e-01],\n",
              "       [ 5.16579846e-01,  1.39130954e+00,  4.21462329e-01,\n",
              "         1.03239849e+00,  8.30218341e-02, -7.41635377e-01,\n",
              "        -1.26898276e+00,  5.25653996e-01, -3.45598025e-01,\n",
              "         1.04019011e+00, -1.11034101e+00, -1.44387221e+00,\n",
              "         2.29219784e-02],\n",
              "       [-1.64821797e+00, -9.47090461e-01,  1.20844304e+00,\n",
              "         1.63903871e-01, -4.52343205e-01,  7.19660996e-01,\n",
              "         8.97227181e-01, -5.81549330e-01,  1.53334597e+00,\n",
              "        -1.07901391e+00,  2.38118688e-03,  8.93825651e-01,\n",
              "        -2.06051862e-01],\n",
              "       [ 4.68204476e-01,  1.58168914e-01, -4.35717277e-02,\n",
              "         1.63903871e-01, -7.86946354e-01, -1.36346362e+00,\n",
              "        -1.51854612e+00,  5.11382847e-02, -1.68521550e+00,\n",
              "         2.65427348e-01, -1.11034101e+00, -1.92516294e-01,\n",
              "         1.21053624e-01],\n",
              "       [ 6.37518272e-01, -5.26909211e-01,  8.86496386e-01,\n",
              "         1.63903871e-01, -3.18501945e-01,  3.93201168e-01,\n",
              "         5.87768618e-01, -6.60635282e-01,  8.93427142e-02,\n",
              "        -6.82517676e-01,  6.87133306e-01,  1.66389083e+00,\n",
              "         3.33672190e-01],\n",
              "       [ 6.37518272e-01,  6.69693914e-01,  9.22268236e-01,\n",
              "         1.32189669e+00,  1.48835506e+00, -1.36346362e+00,\n",
              "        -4.50414950e-01, -1.13515099e+00, -6.23960098e-01,\n",
              "         1.63265575e+00, -1.58110809e+00, -1.80140247e+00,\n",
              "        -7.94841737e-01],\n",
              "       [ 5.28673689e-01,  1.32736891e+00, -8.66324290e-01,\n",
              "        -1.83493975e-01, -7.20025724e-01,  2.68835519e-01,\n",
              "         6.57646358e-01, -7.39721234e-01, -2.23814618e-01,\n",
              "        -3.36153148e-01, -2.11603850e-01,  5.36295390e-01,\n",
              "         9.55172614e-01],\n",
              "       [-2.45332235e-01,  9.52859539e-01, -1.36713020e+00,\n",
              "        -9.94088950e-01, -1.38923202e+00, -1.00591238e+00,\n",
              "        -7.69856048e-01,  5.25653996e-01, -1.35466054e+00,\n",
              "        -7.37206812e-01, -1.11034101e+00, -6.73807029e-01,\n",
              "        -1.21353676e+00],\n",
              "       [ 7.94738225e-01, -5.26909211e-01,  1.20844304e+00,\n",
              "        -6.46691104e-01,  7.52228133e-01,  8.90663763e-01,\n",
              "         8.87244647e-01, -5.02463378e-01, -2.58609877e-01,\n",
              "         1.04019011e+00,  1.37188543e+00,  3.71281424e-01,\n",
              "         1.85471270e+00],\n",
              "       [-5.47678298e-01,  3.94220395e-02, -6.87465037e-01,\n",
              "         4.53402076e-01, -8.53866984e-01,  4.24292580e-01,\n",
              "         2.48362451e-01, -8.18807186e-01, -6.76152987e-01,\n",
              "        -1.37524673e+00, -2.54400858e-01,  2.33769786e-01,\n",
              "        -1.36727634e+00],\n",
              "       [-1.89009482e+00, -1.50428734e+00,  4.93006030e-01,\n",
              "         4.53402076e-01, -8.53866984e-01,  3.15472637e-01,\n",
              "        -1.11834407e-02,  4.46568044e-01, -2.93405136e-01,\n",
              "        -8.83044508e-01,  6.01539291e-01, -4.12534916e-01,\n",
              "        -1.01073136e+00],\n",
              "       [-1.07980737e+00, -1.14804671e+00,  5.28777881e-01,\n",
              "         1.32189669e+00, -1.52307328e+00, -4.30721255e-01,\n",
              "        -4.40432416e-01,  2.88396140e-01, -3.62995654e-01,\n",
              "        -1.28409817e+00,  1.50027645e+00,  1.51262802e-01,\n",
              "        -3.69604605e-01],\n",
              "       [ 1.07289660e+00, -9.47090461e-01, -3.29746532e-01,\n",
              "        -9.94088950e-01, -1.84660685e-01,  1.09275794e+00,\n",
              "         1.12682547e+00, -1.13515099e+00,  4.19897676e-01,\n",
              "         1.00373068e+00,  2.16366224e-01,  1.29260940e+00,\n",
              "         9.87883162e-01],\n",
              "       [-1.07980737e+00, -9.10552961e-01,  4.93006030e-01,\n",
              "         8.87649384e-01, -1.12154950e+00,  4.39838286e-01,\n",
              "         2.68327520e-01,  5.25653996e-01, -9.89310319e-01,\n",
              "        -9.65078212e-01, -1.26009835e-01,  7.97567504e-01,\n",
              "        -1.17101305e+00],\n",
              "       [ 1.47199341e+00, -7.27865461e-01,  4.21462329e-01,\n",
              "        -8.49339847e-01,  4.84545613e-01,  1.59022054e+00,\n",
              "         1.90546315e+00, -3.44291475e-01,  4.37295306e-01,\n",
              "         1.67823003e+00,  1.15790039e+00,  2.88774441e-01,\n",
              "         3.06500300e+00],\n",
              "       [ 1.65858412e-01, -1.25765921e+00, -2.36874201e+00,\n",
              "        -1.28358716e+00, -1.52307328e+00,  1.09275794e+00,\n",
              "         1.15677307e+00, -8.18807186e-01,  1.16799575e+00,\n",
              "         1.28704508e-01,  6.87133306e-01,  7.83816340e-01,\n",
              "        -7.88299627e-01],\n",
              "       [-7.77461307e-01, -1.17544984e+00, -2.93974681e-01,\n",
              "        -9.94088950e-01,  1.61012042e-02, -3.52992725e-01,\n",
              "        -9.29576597e-01,  2.10737303e+00, -2.08536098e+00,\n",
              "        -7.96453376e-01,  1.24349440e+00, -1.29260940e+00,\n",
              "        -2.06051862e-01],\n",
              "       [ 5.16579846e-01,  2.02158141e+00,  1.78079265e+00,\n",
              "         1.61139490e+00,  7.52228133e-01, -4.61812668e-01,\n",
              "        -1.05934954e+00, -7.39721234e-01, -8.67526912e-01,\n",
              "         1.58708147e+00, -1.23873203e+00, -9.48830306e-01,\n",
              "        -3.69604605e-01],\n",
              "       [-2.45332235e-01,  2.88453947e-03, -2.93974681e-01,\n",
              "         1.91547685e-02, -9.87708244e-01, -1.37900933e+00,\n",
              "        -1.50856359e+00,  9.21083755e-01, -1.68521550e+00,\n",
              "         2.22512093e+00, -1.66670210e+00, -1.34761406e+00,\n",
              "        -8.92973383e-01],\n",
              "       [ 9.76145863e-01,  3.40856414e-01, -2.22430980e-01,\n",
              "         7.42900282e-01, -7.20025724e-01, -1.44119215e+00,\n",
              "        -1.33886050e+00,  3.67482092e-01, -1.00670795e+00,\n",
              "         2.07928369e+00, -1.11034101e+00, -1.27885824e+00,\n",
              "        -4.18670428e-01],\n",
              "       [-6.68616724e-01, -7.09596711e-01, -6.15921336e-01,\n",
              "         8.87649384e-01,  4.84545613e-01, -4.30721255e-01,\n",
              "         6.86768337e-02, -1.86119571e-01,  2.35456641e-03,\n",
              "        -1.34790216e+00,  4.30351261e-01,  4.81290735e-01,\n",
              "        -1.30185524e+00],\n",
              "       [-7.29085937e-01, -1.07497171e+00,  7.07637133e-01,\n",
              "        -3.86142719e-01, -1.84660685e-01,  2.22198401e-01,\n",
              "         6.27698755e-01,  5.11382847e-02,  8.20043156e-01,\n",
              "        -1.90315452e-01,  9.86712358e-01, -4.26286080e-01,\n",
              "        -2.12593972e-01],\n",
              "       [-1.07980737e+00, -5.08640461e-01, -1.50887279e-01,\n",
              "        -2.70343437e-01, -1.32231139e+00, -1.05254950e+00,\n",
              "        -5.20292690e-01,  1.23742756e+00,  5.45474551e-02,\n",
              "        -1.19294961e+00,  5.15945276e-01, -4.67539571e-01,\n",
              "        -8.60262834e-01],\n",
              "       [ 7.10081327e-01, -5.99984211e-01,  3.49918628e-01,\n",
              "         3.08652974e-01,  1.01991065e+00,  1.06166653e+00,\n",
              "         7.57471701e-01, -1.29332290e+00,  1.46375545e+00,\n",
              "         5.61660168e-01,  8.79752018e-02,  5.77548882e-01,\n",
              "         1.23321228e+00],\n",
              "       [ 1.26639808e+00, -6.45656086e-01, -5.44377635e-01,\n",
              "        -9.94088950e-01, -3.18501945e-01,  5.79749641e-01,\n",
              "         3.08257657e-01, -8.18807186e-01,  6.46066860e-01,\n",
              "        -1.44741172e-01,  3.44757247e-01,  1.34761406e+00,\n",
              "         9.55172614e-01],\n",
              "       [-7.29085937e-01, -6.91327961e-01, -2.22430980e-01,\n",
              "         1.46664579e+00, -8.53866984e-01, -8.87157213e-02,\n",
              "         4.28048069e-01,  2.88396140e-01,  5.06885824e-01,\n",
              "        -1.32055760e+00, -2.97197865e-01,  2.33769786e-01,\n",
              "        -1.31166840e+00],\n",
              "       [ 2.26327625e-01,  1.08074079e+00, -7.59008738e-01,\n",
              "         4.53402076e-01,  8.30218341e-02, -1.20800656e+00,\n",
              "        -1.46863345e+00,  5.25653996e-01, -5.36971950e-01,\n",
              "        -4.63761132e-01, -1.53831108e+00, -1.27885824e+00,\n",
              "         2.84606367e-01],\n",
              "       [ 7.34269012e-01, -6.63924836e-01, -7.79987718e-03,\n",
              "        -9.66445136e-02,  3.50704354e-01,  9.06209469e-01,\n",
              "         1.16675561e+00, -1.13515099e+00,  5.93873972e-01,\n",
              "         8.57892988e-01,  5.58742284e-01,  3.71281424e-01,\n",
              "         2.52527895e+00],\n",
              "       [ 9.39864336e-01, -5.99984211e-01,  1.71059375e-01,\n",
              "        -9.94088950e-01, -7.86946354e-01,  5.02021110e-01,\n",
              "         7.37506632e-01, -5.81549330e-01,  3.50307158e-01,\n",
              "         2.65427348e-01,  8.15524329e-01,  3.98783752e-01,\n",
              "         1.88742325e+00],\n",
              "       [ 1.09708429e+00, -4.53834211e-01,  8.14952685e-01,\n",
              "        -1.28358716e+00,  1.61012042e-02,  1.51249201e+00,\n",
              "         1.53610938e+00, -1.53058075e+00,  1.58933232e-01,\n",
              "         1.87951072e-01, -3.39994873e-01,  1.30636057e+00,\n",
              "         1.15143591e+00],\n",
              "       [ 1.65340105e+00, -6.45656086e-01,  1.20844304e+00,\n",
              "         1.61139490e+00, -1.84660685e-01,  8.12935232e-01,\n",
              "        -7.09960842e-01,  1.31651351e+00,  1.89869619e+00,\n",
              "         3.63792407e+00, -1.66670210e+00, -8.93825651e-01,\n",
              "        -2.71472959e-01],\n",
              "       [-5.35584456e-01,  2.85280954e+00,  9.93811937e-01,\n",
              "         1.61139490e+00, -3.18501945e-01, -7.57181083e-01,\n",
              "        -1.41872078e+00,  2.10737303e+00, -8.84924541e-01,\n",
              "        -8.01833197e-03, -5.96776918e-01, -1.26510707e+00,\n",
              "        -7.45775914e-01],\n",
              "       [-7.29085937e-01, -1.20285296e+00, -9.37867991e-01,\n",
              "        -2.70343437e-01, -8.53866984e-01,  1.93222607e+00,\n",
              "         1.72577753e+00, -9.76979090e-01,  5.93873972e-01,\n",
              "        -2.35889732e-01,  3.44757247e-01,  2.20018622e-01,\n",
              "        -2.71472959e-01],\n",
              "       [ 6.13330587e-01, -6.54790461e-01,  9.93811937e-01,\n",
              "         8.87649384e-01, -7.86946354e-01,  5.02021110e-01,\n",
              "        -9.19594062e-01,  1.23742756e+00,  1.18539338e+00,\n",
              "         3.06824557e+00, -1.66670210e+00, -1.14134660e+00,\n",
              "        -4.02315154e-01],\n",
              "       [ 1.17483042e-01, -8.10074836e-01, -9.37867991e-01,\n",
              "        -1.13883805e+00, -1.84660685e-01,  1.91106988e-01,\n",
              "         6.17716220e-01, -6.60635282e-01, -4.15188543e-01,\n",
              "        -6.00483972e-01,  9.43915351e-01,  1.10009311e-01,\n",
              "         9.06106791e-01],\n",
              "       [-9.10493575e-01, -1.00189671e+00, -1.51021760e+00,\n",
              "        -1.25594334e-01, -5.86184465e-01,  1.28924164e-01,\n",
              "         1.87641622e-02,  2.09310188e-01,  8.20043156e-01,\n",
              "        -1.05622677e+00, -4.25588888e-01,  5.63797718e-01,\n",
              "        -1.40980005e+00],\n",
              "       [-3.66270660e-01, -1.28506234e+00, -4.37062083e-01,\n",
              "        -4.15092539e-01, -1.17740056e-01, -1.19807133e-01,\n",
              "        -8.10611808e-02, -5.02463378e-01, -2.58609877e-01,\n",
              "        -1.09268620e+00,  1.15790039e+00,  7.56314012e-01,\n",
              "        -9.58394480e-01],\n",
              "       [ 4.44016791e-01, -1.32159984e+00, -7.79987718e-03,\n",
              "        -7.04590745e-01,  6.18386873e-01,  3.93201168e-01,\n",
              "        -7.19943376e-01,  1.47468542e+00, -2.06796335e+00,\n",
              "        -8.42027656e-01,  2.59163232e-01, -9.35079142e-01,\n",
              "         2.29219784e-02],\n",
              "       [ 7.82644382e-01,  2.34128454e+00, -4.35717277e-02,\n",
              "         1.63903871e-01, -5.86184465e-01, -4.30721255e-01,\n",
              "        -1.21907009e+00,  8.41997803e-01, -1.02410558e+00,\n",
              "        -2.81464012e-01, -2.11603850e-01, -7.70065176e-01,\n",
              "        -6.31288994e-01]])"
            ]
          },
          "execution_count": 43,
          "metadata": {},
          "output_type": "execute_result"
        }
      ],
      "source": [
        "X_test.values"
      ]
    },
    {
      "cell_type": "code",
      "execution_count": 54,
      "metadata": {},
      "outputs": [],
      "source": [
        "results = knn_search(X_test.iloc[0].values, X_train.values, k=2)"
      ]
    },
    {
      "cell_type": "code",
      "execution_count": 55,
      "metadata": {},
      "outputs": [
        {
          "data": {
            "text/plain": [
              "(array([[ 1.50827494,  1.46438454,  0.52877788, -1.80468392,  1.82295821,\n",
              "          1.12384935,  1.01701759, -1.2933229 ,  0.82004316,  0.03755595,\n",
              "         -0.29719787,  1.26510707,  0.05563253],\n",
              "        [ 0.92777049, -0.65479046, -0.40129023, -0.87828967,  1.15375191,\n",
              "          0.50202111,  0.87726211, -1.21423695,  0.0197522 ,  0.37936305,\n",
              "         -0.16880684,  0.81131867,  1.03694899]]),\n",
              " array([1.7873321 , 1.98096241]))"
            ]
          },
          "execution_count": 55,
          "metadata": {},
          "output_type": "execute_result"
        }
      ],
      "source": [
        "results"
      ]
    },
    {
      "cell_type": "code",
      "execution_count": 46,
      "metadata": {},
      "outputs": [
        {
          "data": {
            "text/plain": [
              "array([ 0.80683207,  0.65142516,  0.70763713, -1.22568751,  1.01991065,\n",
              "        0.65747817,  1.00703506, -1.53058075,  0.08934271,  0.03755595,\n",
              "        0.00238119,  1.03133729,  0.33367219])"
            ]
          },
          "execution_count": 46,
          "metadata": {},
          "output_type": "execute_result"
        }
      ],
      "source": [
        "X_test.iloc[0].values"
      ]
    },
    {
      "attachments": {},
      "cell_type": "markdown",
      "metadata": {
        "id": "nYFSYav3vzVC"
      },
      "source": [
        "При помощи `knn_search` найдите ближайших соседей к вину `X_test.iloc[0]` в **тренировочных** данных.\n",
        "\n",
        "Обратите внимание, что функция `knn_search` принимает на вход `np.array`, а не `pd.DataFrame`. Поэтому переведите аргументы в `np.array`, приписав к необходимому объекту $X$: `X.values`."
      ]
    },
    {
      "cell_type": "code",
      "execution_count": null,
      "metadata": {
        "id": "NB-UNOgUunot"
      },
      "outputs": [],
      "source": [
        "%%time\n",
        "\n",
        "# ваш код здесь"
      ]
    },
    {
      "attachments": {},
      "cell_type": "markdown",
      "metadata": {
        "id": "y86BRzABvLHB"
      },
      "source": [
        "Выведите на экран признаки объекта `X_test.iloc[0]` и признаки ближайшего найденного соседа."
      ]
    },
    {
      "cell_type": "code",
      "execution_count": null,
      "metadata": {
        "id": "Mi18Sp2WvQYE"
      },
      "outputs": [],
      "source": [
        "# ваш код здесь"
      ]
    },
    {
      "attachments": {},
      "cell_type": "markdown",
      "metadata": {
        "id": "3aeCTiYnx2_q"
      },
      "source": [
        "**Вопрос:**\n",
        "\n",
        "Можно ли сказать, что в тренировочных данных есть вино, почти такое же как `X_test.iloc[0]`? (все признаки почти одинаковые)\n",
        "\n",
        "Какое расстояние между объектом запроса и первым ближайшим соседом?"
      ]
    },
    {
      "attachments": {},
      "cell_type": "markdown",
      "metadata": {
        "id": "zWEBfyAay53O"
      },
      "source": [
        "Теперь найдите ближайшего соседа при помощи `approx_knn_search`."
      ]
    },
    {
      "cell_type": "code",
      "execution_count": null,
      "metadata": {
        "id": "ezxEITyiy-1a"
      },
      "outputs": [],
      "source": [
        "%%time\n",
        "\n",
        "# ваш код здесь"
      ]
    },
    {
      "attachments": {},
      "cell_type": "markdown",
      "metadata": {
        "id": "sCPx6pgnwRqX"
      },
      "source": [
        "Ближайший сосед при помощи KNN+LSH может быть найден не точно или не с первого запуска.\n",
        "Запустите последнюю ячейку несколько раз и убедитесь, что ближайший сосед находится верно за несколько запусков."
      ]
    },
    {
      "attachments": {},
      "cell_type": "markdown",
      "metadata": {
        "id": "Rpj5qiwi2IJq"
      },
      "source": [
        "**Вопрос:**\n",
        "\n",
        "Запустите `knn_search` и `appox_knn_search` несколько раз и сравните время запусков. Какой из подходов в этой задаче работает быстрее?"
      ]
    }
  ],
  "metadata": {
    "colab": {
      "provenance": []
    },
    "kernelspec": {
      "display_name": "Python 3",
      "name": "python3"
    },
    "language_info": {
      "codemirror_mode": {
        "name": "ipython",
        "version": 3
      },
      "file_extension": ".py",
      "mimetype": "text/x-python",
      "name": "python",
      "nbconvert_exporter": "python",
      "pygments_lexer": "ipython3",
      "version": "3.9.13"
    }
  },
  "nbformat": 4,
  "nbformat_minor": 0
}
