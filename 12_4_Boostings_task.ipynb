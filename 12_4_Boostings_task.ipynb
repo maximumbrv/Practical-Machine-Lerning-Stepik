{
  "cells": [
    {
      "attachments": {},
      "cell_type": "markdown",
      "metadata": {
        "id": "8bieQL5lwfBD"
      },
      "source": [
        "# Прогнозируем задержки самолетов"
      ]
    },
    {
      "cell_type": "code",
      "execution_count": null,
      "metadata": {
        "colab": {
          "base_uri": "https://localhost:8080/"
        },
        "id": "DARqocv0wz0z",
        "outputId": "6a67a371-88dc-4e02-8724-55b02e0e65f7"
      },
      "outputs": [
        {
          "name": "stdout",
          "output_type": "stream",
          "text": [
            "\u001b[2K     \u001b[90m━━━━━━━━━━━━━━━━━━━━━━━━━━━━━━━━━━━━━━━━\u001b[0m \u001b[32m76.6/76.6 MB\u001b[0m \u001b[31m11.6 MB/s\u001b[0m eta \u001b[36m0:00:00\u001b[0m\n",
            "\u001b[2K     \u001b[90m━━━━━━━━━━━━━━━━━━━━━━━━━━━━━━━━━━━━━━\u001b[0m \u001b[32m365.3/365.3 KB\u001b[0m \u001b[31m26.2 MB/s\u001b[0m eta \u001b[36m0:00:00\u001b[0m\n",
            "\u001b[2K     \u001b[90m━━━━━━━━━━━━━━━━━━━━━━━━━━━━━━━━━━━━━━\u001b[0m \u001b[32m210.5/210.5 KB\u001b[0m \u001b[31m17.4 MB/s\u001b[0m eta \u001b[36m0:00:00\u001b[0m\n",
            "\u001b[2K     \u001b[90m━━━━━━━━━━━━━━━━━━━━━━━━━━━━━━━━━━━━━━━━\u001b[0m \u001b[32m78.7/78.7 KB\u001b[0m \u001b[31m8.0 MB/s\u001b[0m eta \u001b[36m0:00:00\u001b[0m\n",
            "\u001b[?25h"
          ]
        }
      ],
      "source": [
        "!pip install catboost lightgbm optuna -q"
      ]
    },
    {
      "cell_type": "code",
      "execution_count": 1,
      "metadata": {
        "id": "U-gc09zSwvyF"
      },
      "outputs": [],
      "source": [
        "from sklearn.model_selection import train_test_split, cross_val_score\n",
        "from sklearn.metrics import roc_auc_score\n",
        "import pandas as pd\n",
        "import numpy as np\n",
        "\n",
        "from catboost import CatBoostClassifier\n",
        "from lightgbm import LGBMClassifier"
      ]
    },
    {
      "cell_type": "code",
      "execution_count": 2,
      "metadata": {
        "id": "C4LFGZPXweF2"
      },
      "outputs": [],
      "source": [
        "RANDOM_STATE = 111\n",
        "DATASET_PATH = 'https://raw.githubusercontent.com/evgpat/edu_stepik_practical_ml/main/datasets/flight_delays_train.csv'"
      ]
    },
    {
      "cell_type": "code",
      "execution_count": 3,
      "metadata": {
        "colab": {
          "base_uri": "https://localhost:8080/",
          "height": 228
        },
        "id": "m788vNOUxBNU",
        "outputId": "42974e99-32f3-45ff-fb4e-54c588d902e5"
      },
      "outputs": [
        {
          "data": {
            "text/html": [
              "<div>\n",
              "<style scoped>\n",
              "    .dataframe tbody tr th:only-of-type {\n",
              "        vertical-align: middle;\n",
              "    }\n",
              "\n",
              "    .dataframe tbody tr th {\n",
              "        vertical-align: top;\n",
              "    }\n",
              "\n",
              "    .dataframe thead th {\n",
              "        text-align: right;\n",
              "    }\n",
              "</style>\n",
              "<table border=\"1\" class=\"dataframe\">\n",
              "  <thead>\n",
              "    <tr style=\"text-align: right;\">\n",
              "      <th></th>\n",
              "      <th>Month</th>\n",
              "      <th>DayofMonth</th>\n",
              "      <th>DayOfWeek</th>\n",
              "      <th>DepTime</th>\n",
              "      <th>UniqueCarrier</th>\n",
              "      <th>Origin</th>\n",
              "      <th>Dest</th>\n",
              "      <th>Distance</th>\n",
              "    </tr>\n",
              "  </thead>\n",
              "  <tbody>\n",
              "    <tr>\n",
              "      <th>0</th>\n",
              "      <td>c-8</td>\n",
              "      <td>c-21</td>\n",
              "      <td>c-7</td>\n",
              "      <td>1934</td>\n",
              "      <td>AA</td>\n",
              "      <td>ATL</td>\n",
              "      <td>DFW</td>\n",
              "      <td>732</td>\n",
              "    </tr>\n",
              "    <tr>\n",
              "      <th>1</th>\n",
              "      <td>c-4</td>\n",
              "      <td>c-20</td>\n",
              "      <td>c-3</td>\n",
              "      <td>1548</td>\n",
              "      <td>US</td>\n",
              "      <td>PIT</td>\n",
              "      <td>MCO</td>\n",
              "      <td>834</td>\n",
              "    </tr>\n",
              "    <tr>\n",
              "      <th>2</th>\n",
              "      <td>c-9</td>\n",
              "      <td>c-2</td>\n",
              "      <td>c-5</td>\n",
              "      <td>1422</td>\n",
              "      <td>XE</td>\n",
              "      <td>RDU</td>\n",
              "      <td>CLE</td>\n",
              "      <td>416</td>\n",
              "    </tr>\n",
              "    <tr>\n",
              "      <th>3</th>\n",
              "      <td>c-11</td>\n",
              "      <td>c-25</td>\n",
              "      <td>c-6</td>\n",
              "      <td>1015</td>\n",
              "      <td>OO</td>\n",
              "      <td>DEN</td>\n",
              "      <td>MEM</td>\n",
              "      <td>872</td>\n",
              "    </tr>\n",
              "    <tr>\n",
              "      <th>4</th>\n",
              "      <td>c-10</td>\n",
              "      <td>c-7</td>\n",
              "      <td>c-6</td>\n",
              "      <td>1828</td>\n",
              "      <td>WN</td>\n",
              "      <td>MDW</td>\n",
              "      <td>OMA</td>\n",
              "      <td>423</td>\n",
              "    </tr>\n",
              "  </tbody>\n",
              "</table>\n",
              "</div>"
            ],
            "text/plain": [
              "  Month DayofMonth DayOfWeek  DepTime UniqueCarrier Origin Dest  Distance\n",
              "0   c-8       c-21       c-7     1934            AA    ATL  DFW       732\n",
              "1   c-4       c-20       c-3     1548            US    PIT  MCO       834\n",
              "2   c-9        c-2       c-5     1422            XE    RDU  CLE       416\n",
              "3  c-11       c-25       c-6     1015            OO    DEN  MEM       872\n",
              "4  c-10        c-7       c-6     1828            WN    MDW  OMA       423"
            ]
          },
          "execution_count": 3,
          "metadata": {},
          "output_type": "execute_result"
        }
      ],
      "source": [
        "data = pd.read_csv(DATASET_PATH)\n",
        "\n",
        "X = data.drop('dep_delayed_15min', axis=1)\n",
        "y = data['dep_delayed_15min'] == 'Y'\n",
        "\n",
        "X.head()"
      ]
    },
    {
      "cell_type": "code",
      "execution_count": 4,
      "metadata": {},
      "outputs": [
        {
          "name": "stdout",
          "output_type": "stream",
          "text": [
            "<class 'pandas.core.frame.DataFrame'>\n",
            "RangeIndex: 100000 entries, 0 to 99999\n",
            "Data columns (total 8 columns):\n",
            " #   Column         Non-Null Count   Dtype \n",
            "---  ------         --------------   ----- \n",
            " 0   Month          100000 non-null  object\n",
            " 1   DayofMonth     100000 non-null  object\n",
            " 2   DayOfWeek      100000 non-null  object\n",
            " 3   DepTime        100000 non-null  int64 \n",
            " 4   UniqueCarrier  100000 non-null  object\n",
            " 5   Origin         100000 non-null  object\n",
            " 6   Dest           100000 non-null  object\n",
            " 7   Distance       100000 non-null  int64 \n",
            "dtypes: int64(2), object(6)\n",
            "memory usage: 6.1+ MB\n"
          ]
        }
      ],
      "source": [
        "X.info()"
      ]
    },
    {
      "cell_type": "code",
      "execution_count": 5,
      "metadata": {},
      "outputs": [],
      "source": [
        "cat_indices = np.where(X.dtypes == 'object')[0]\n",
        "cat_cols = list(X.dtypes[X.dtypes == 'object'].index)"
      ]
    },
    {
      "attachments": {},
      "cell_type": "markdown",
      "metadata": {
        "id": "WoeAqm7x7Of9"
      },
      "source": [
        "Создайте список номеров колонок с категориальными признаками для бустингов\n",
        "\n",
        "## Quiz\n",
        "Какой длины получился список?\n",
        "\n",
        "(подсказка: колонка `DepTime` числовая)"
      ]
    },
    {
      "cell_type": "code",
      "execution_count": 6,
      "metadata": {
        "id": "f2_RDMSdxgtC"
      },
      "outputs": [
        {
          "data": {
            "text/plain": [
              "6"
            ]
          },
          "execution_count": 6,
          "metadata": {},
          "output_type": "execute_result"
        }
      ],
      "source": [
        "cat_features = cat_indices\n",
        "len(cat_features)"
      ]
    },
    {
      "attachments": {},
      "cell_type": "markdown",
      "metadata": {
        "id": "AFUsTHb_7Tm0"
      },
      "source": [
        "Разобъем данные на обучение и контроль"
      ]
    },
    {
      "cell_type": "code",
      "execution_count": 7,
      "metadata": {
        "id": "b5hPnUwvwu_Z"
      },
      "outputs": [],
      "source": [
        "Xtrain, Xtest, ytrain, ytest = train_test_split(X, y, test_size=0.25, random_state=RANDOM_STATE)"
      ]
    },
    {
      "cell_type": "code",
      "execution_count": 8,
      "metadata": {
        "colab": {
          "base_uri": "https://localhost:8080/",
          "height": 228
        },
        "id": "EysJWEMy00fZ",
        "outputId": "ffdf59e5-f8b5-4c50-ac46-d52b0ef29503"
      },
      "outputs": [
        {
          "data": {
            "text/html": [
              "<div>\n",
              "<style scoped>\n",
              "    .dataframe tbody tr th:only-of-type {\n",
              "        vertical-align: middle;\n",
              "    }\n",
              "\n",
              "    .dataframe tbody tr th {\n",
              "        vertical-align: top;\n",
              "    }\n",
              "\n",
              "    .dataframe thead th {\n",
              "        text-align: right;\n",
              "    }\n",
              "</style>\n",
              "<table border=\"1\" class=\"dataframe\">\n",
              "  <thead>\n",
              "    <tr style=\"text-align: right;\">\n",
              "      <th></th>\n",
              "      <th>Month</th>\n",
              "      <th>DayofMonth</th>\n",
              "      <th>DayOfWeek</th>\n",
              "      <th>DepTime</th>\n",
              "      <th>UniqueCarrier</th>\n",
              "      <th>Origin</th>\n",
              "      <th>Dest</th>\n",
              "      <th>Distance</th>\n",
              "    </tr>\n",
              "  </thead>\n",
              "  <tbody>\n",
              "    <tr>\n",
              "      <th>41207</th>\n",
              "      <td>c-4</td>\n",
              "      <td>c-18</td>\n",
              "      <td>c-1</td>\n",
              "      <td>1457</td>\n",
              "      <td>CO</td>\n",
              "      <td>EWR</td>\n",
              "      <td>TPA</td>\n",
              "      <td>998</td>\n",
              "    </tr>\n",
              "    <tr>\n",
              "      <th>28283</th>\n",
              "      <td>c-11</td>\n",
              "      <td>c-1</td>\n",
              "      <td>c-2</td>\n",
              "      <td>1225</td>\n",
              "      <td>UA</td>\n",
              "      <td>DEN</td>\n",
              "      <td>BOS</td>\n",
              "      <td>1754</td>\n",
              "    </tr>\n",
              "    <tr>\n",
              "      <th>34619</th>\n",
              "      <td>c-6</td>\n",
              "      <td>c-16</td>\n",
              "      <td>c-5</td>\n",
              "      <td>1650</td>\n",
              "      <td>YV</td>\n",
              "      <td>IAD</td>\n",
              "      <td>CAE</td>\n",
              "      <td>401</td>\n",
              "    </tr>\n",
              "    <tr>\n",
              "      <th>8789</th>\n",
              "      <td>c-5</td>\n",
              "      <td>c-18</td>\n",
              "      <td>c-4</td>\n",
              "      <td>923</td>\n",
              "      <td>AA</td>\n",
              "      <td>SLC</td>\n",
              "      <td>DFW</td>\n",
              "      <td>988</td>\n",
              "    </tr>\n",
              "    <tr>\n",
              "      <th>38315</th>\n",
              "      <td>c-2</td>\n",
              "      <td>c-14</td>\n",
              "      <td>c-2</td>\n",
              "      <td>1839</td>\n",
              "      <td>AA</td>\n",
              "      <td>STL</td>\n",
              "      <td>SAN</td>\n",
              "      <td>1558</td>\n",
              "    </tr>\n",
              "  </tbody>\n",
              "</table>\n",
              "</div>"
            ],
            "text/plain": [
              "      Month DayofMonth DayOfWeek  DepTime UniqueCarrier Origin Dest  Distance\n",
              "41207   c-4       c-18       c-1     1457            CO    EWR  TPA       998\n",
              "28283  c-11        c-1       c-2     1225            UA    DEN  BOS      1754\n",
              "34619   c-6       c-16       c-5     1650            YV    IAD  CAE       401\n",
              "8789    c-5       c-18       c-4      923            AA    SLC  DFW       988\n",
              "38315   c-2       c-14       c-2     1839            AA    STL  SAN      1558"
            ]
          },
          "execution_count": 8,
          "metadata": {},
          "output_type": "execute_result"
        }
      ],
      "source": [
        "Xtrain.head()"
      ]
    },
    {
      "attachments": {},
      "cell_type": "markdown",
      "metadata": {
        "id": "8E9ZC9UXymeu"
      },
      "source": [
        "## Модели с параметрами по умолчанию"
      ]
    },
    {
      "attachments": {},
      "cell_type": "markdown",
      "metadata": {
        "id": "BiT-smHxypQx"
      },
      "source": [
        "Обучите CatBoost с гиперпараметрами по умолчанию.\n",
        "\n",
        "## Quiz\n",
        "Чему равен ROC-AUC на тестовых данных? Ответ округлите до сотых."
      ]
    },
    {
      "cell_type": "code",
      "execution_count": 9,
      "metadata": {
        "id": "vdjpjT1Gw8ff"
      },
      "outputs": [],
      "source": [
        "# your code here\n",
        "cb = CatBoostClassifier(random_seed=RANDOM_STATE)"
      ]
    },
    {
      "cell_type": "code",
      "execution_count": 11,
      "metadata": {},
      "outputs": [
        {
          "data": {
            "text/plain": [
              "<catboost.core.CatBoostClassifier at 0x1c016088550>"
            ]
          },
          "execution_count": 11,
          "metadata": {},
          "output_type": "execute_result"
        }
      ],
      "source": [
        "cb.fit(\n",
        "    Xtrain, ytrain,\n",
        "    cat_features=cat_features,\n",
        "    logging_level='Silent',\n",
        "    plot=False)"
      ]
    },
    {
      "cell_type": "code",
      "execution_count": 12,
      "metadata": {},
      "outputs": [
        {
          "data": {
            "text/plain": [
              "0.7666402289246762"
            ]
          },
          "execution_count": 12,
          "metadata": {},
          "output_type": "execute_result"
        }
      ],
      "source": [
        "cb_pred = cb.predict_proba(Xtest)[:,1]\n",
        "score_cb_def = roc_auc_score(ytest, cb_pred)\n",
        "score_cb_def"
      ]
    },
    {
      "attachments": {},
      "cell_type": "markdown",
      "metadata": {
        "id": "fBO2HEaAy61O"
      },
      "source": [
        "Обучите LightGBM с гиперпараметрами по умолчанию.\n",
        "\n",
        "## Quiz\n",
        "Чему равен ROC-AUC на тестовых данных? Ответ округлите до сотых."
      ]
    },
    {
      "cell_type": "code",
      "execution_count": 13,
      "metadata": {
        "id": "G_g3Ead3yZ5v"
      },
      "outputs": [],
      "source": [
        "for c in X.columns:\n",
        "    col_type = X[c].dtype\n",
        "    if col_type == 'object' or col_type.name == 'category':\n",
        "        Xtrain[c] = Xtrain[c].astype('category')\n",
        "        Xtest[c] = Xtest[c].astype('category')"
      ]
    },
    {
      "cell_type": "code",
      "execution_count": 14,
      "metadata": {
        "id": "Z2jPIID3xUPw"
      },
      "outputs": [
        {
          "data": {
            "text/html": [
              "<style>#sk-container-id-1 {color: black;background-color: white;}#sk-container-id-1 pre{padding: 0;}#sk-container-id-1 div.sk-toggleable {background-color: white;}#sk-container-id-1 label.sk-toggleable__label {cursor: pointer;display: block;width: 100%;margin-bottom: 0;padding: 0.3em;box-sizing: border-box;text-align: center;}#sk-container-id-1 label.sk-toggleable__label-arrow:before {content: \"▸\";float: left;margin-right: 0.25em;color: #696969;}#sk-container-id-1 label.sk-toggleable__label-arrow:hover:before {color: black;}#sk-container-id-1 div.sk-estimator:hover label.sk-toggleable__label-arrow:before {color: black;}#sk-container-id-1 div.sk-toggleable__content {max-height: 0;max-width: 0;overflow: hidden;text-align: left;background-color: #f0f8ff;}#sk-container-id-1 div.sk-toggleable__content pre {margin: 0.2em;color: black;border-radius: 0.25em;background-color: #f0f8ff;}#sk-container-id-1 input.sk-toggleable__control:checked~div.sk-toggleable__content {max-height: 200px;max-width: 100%;overflow: auto;}#sk-container-id-1 input.sk-toggleable__control:checked~label.sk-toggleable__label-arrow:before {content: \"▾\";}#sk-container-id-1 div.sk-estimator input.sk-toggleable__control:checked~label.sk-toggleable__label {background-color: #d4ebff;}#sk-container-id-1 div.sk-label input.sk-toggleable__control:checked~label.sk-toggleable__label {background-color: #d4ebff;}#sk-container-id-1 input.sk-hidden--visually {border: 0;clip: rect(1px 1px 1px 1px);clip: rect(1px, 1px, 1px, 1px);height: 1px;margin: -1px;overflow: hidden;padding: 0;position: absolute;width: 1px;}#sk-container-id-1 div.sk-estimator {font-family: monospace;background-color: #f0f8ff;border: 1px dotted black;border-radius: 0.25em;box-sizing: border-box;margin-bottom: 0.5em;}#sk-container-id-1 div.sk-estimator:hover {background-color: #d4ebff;}#sk-container-id-1 div.sk-parallel-item::after {content: \"\";width: 100%;border-bottom: 1px solid gray;flex-grow: 1;}#sk-container-id-1 div.sk-label:hover label.sk-toggleable__label {background-color: #d4ebff;}#sk-container-id-1 div.sk-serial::before {content: \"\";position: absolute;border-left: 1px solid gray;box-sizing: border-box;top: 0;bottom: 0;left: 50%;z-index: 0;}#sk-container-id-1 div.sk-serial {display: flex;flex-direction: column;align-items: center;background-color: white;padding-right: 0.2em;padding-left: 0.2em;position: relative;}#sk-container-id-1 div.sk-item {position: relative;z-index: 1;}#sk-container-id-1 div.sk-parallel {display: flex;align-items: stretch;justify-content: center;background-color: white;position: relative;}#sk-container-id-1 div.sk-item::before, #sk-container-id-1 div.sk-parallel-item::before {content: \"\";position: absolute;border-left: 1px solid gray;box-sizing: border-box;top: 0;bottom: 0;left: 50%;z-index: -1;}#sk-container-id-1 div.sk-parallel-item {display: flex;flex-direction: column;z-index: 1;position: relative;background-color: white;}#sk-container-id-1 div.sk-parallel-item:first-child::after {align-self: flex-end;width: 50%;}#sk-container-id-1 div.sk-parallel-item:last-child::after {align-self: flex-start;width: 50%;}#sk-container-id-1 div.sk-parallel-item:only-child::after {width: 0;}#sk-container-id-1 div.sk-dashed-wrapped {border: 1px dashed gray;margin: 0 0.4em 0.5em 0.4em;box-sizing: border-box;padding-bottom: 0.4em;background-color: white;}#sk-container-id-1 div.sk-label label {font-family: monospace;font-weight: bold;display: inline-block;line-height: 1.2em;}#sk-container-id-1 div.sk-label-container {text-align: center;}#sk-container-id-1 div.sk-container {/* jupyter's `normalize.less` sets `[hidden] { display: none; }` but bootstrap.min.css set `[hidden] { display: none !important; }` so we also need the `!important` here to be able to override the default hidden behavior on the sphinx rendered scikit-learn.org. See: https://github.com/scikit-learn/scikit-learn/issues/21755 */display: inline-block !important;position: relative;}#sk-container-id-1 div.sk-text-repr-fallback {display: none;}</style><div id=\"sk-container-id-1\" class=\"sk-top-container\"><div class=\"sk-text-repr-fallback\"><pre>LGBMClassifier(random_state=111)</pre><b>In a Jupyter environment, please rerun this cell to show the HTML representation or trust the notebook. <br />On GitHub, the HTML representation is unable to render, please try loading this page with nbviewer.org.</b></div><div class=\"sk-container\" hidden><div class=\"sk-item\"><div class=\"sk-estimator sk-toggleable\"><input class=\"sk-toggleable__control sk-hidden--visually\" id=\"sk-estimator-id-1\" type=\"checkbox\" checked><label for=\"sk-estimator-id-1\" class=\"sk-toggleable__label sk-toggleable__label-arrow\">LGBMClassifier</label><div class=\"sk-toggleable__content\"><pre>LGBMClassifier(random_state=111)</pre></div></div></div></div></div>"
            ],
            "text/plain": [
              "LGBMClassifier(random_state=111)"
            ]
          },
          "execution_count": 14,
          "metadata": {},
          "output_type": "execute_result"
        }
      ],
      "source": [
        "# your code here\n",
        "lgbm = LGBMClassifier(random_state=RANDOM_STATE)\n",
        "lgbm.fit(Xtrain, ytrain)"
      ]
    },
    {
      "cell_type": "code",
      "execution_count": 17,
      "metadata": {},
      "outputs": [
        {
          "data": {
            "text/plain": [
              "0.7341149074685321"
            ]
          },
          "execution_count": 17,
          "metadata": {},
          "output_type": "execute_result"
        }
      ],
      "source": [
        "lgbm_pred = lgbm.predict_proba(Xtest)[:,1]\n",
        "score_lgbm_def = roc_auc_score(ytest, lgbm_pred)\n",
        "score_lgbm_def"
      ]
    },
    {
      "attachments": {},
      "cell_type": "markdown",
      "metadata": {
        "id": "zazHv43vzn2e"
      },
      "source": [
        "## Optuna"
      ]
    },
    {
      "attachments": {},
      "cell_type": "markdown",
      "metadata": {
        "id": "MGaTMoDr7cvz"
      },
      "source": [
        "Выделим дополнительную валидационную выборку."
      ]
    },
    {
      "cell_type": "code",
      "execution_count": 20,
      "metadata": {},
      "outputs": [],
      "source": [
        "import optuna"
      ]
    },
    {
      "cell_type": "code",
      "execution_count": 18,
      "metadata": {
        "id": "meyw3CyV1aF_"
      },
      "outputs": [],
      "source": [
        "Xtrain_new, Xval, ytrain_new, yval = train_test_split(Xtrain, ytrain, test_size=0.25, random_state=RANDOM_STATE)"
      ]
    },
    {
      "attachments": {},
      "cell_type": "markdown",
      "metadata": {
        "id": "RatJBHjn1tq2"
      },
      "source": [
        "Создайте функцию objective_lgbm, в которой среди гиперпараметров\n",
        "\n",
        "* num_leaves = trial.suggest_int(\"num_leaves\", 10, 100)\n",
        "* n_estimators = trial.suggest_int(\"n_estimators\", 10, 1000)\n",
        "\n",
        "подберите оптимальные, обучая LGBM на Xtrain_new, ytrain_new и проверяя качество (ROC-AUC) на Xval.\n",
        "\n",
        "Используйте 30 эпох обучения Optuna.\n"
      ]
    },
    {
      "cell_type": "code",
      "execution_count": 55,
      "metadata": {
        "id": "YgOH1GMFzhW1"
      },
      "outputs": [],
      "source": [
        "# your code here\n",
        "def objective_lgmb(trial):\n",
        "    num_leaves = trial.suggest_int('num_leaves', 10, 100)\n",
        "    n_estimators = trial.suggest_int('n_estimators', 10, 1000)\n",
        "    max_depth = trial.suggest_int('max_depth', 2, 15)\n",
        "    max_bin = trial.suggest_int('max_bin', 5, 50)\n",
        "    model = LGBMClassifier(random_state=RANDOM_STATE, num_leaves=num_leaves, n_estimators=n_estimators, max_depth=max_depth, max_bin=max_bin, n_jobs=-1)\n",
        "    model.fit(Xtrain_new, ytrain_new)\n",
        "    pred = model.predict_proba(Xval)[:, 1]\n",
        "    return roc_auc_score(yval, pred)"
      ]
    },
    {
      "cell_type": "code",
      "execution_count": 56,
      "metadata": {},
      "outputs": [
        {
          "name": "stderr",
          "output_type": "stream",
          "text": [
            "[I 2023-06-18 20:01:08,508] A new study created in memory with name: no-name-410ddf52-2498-47d3-ab3e-e035bd3af8b4\n",
            "[I 2023-06-18 20:01:09,943] Trial 0 finished with value: 0.713568577200022 and parameters: {'num_leaves': 17, 'n_estimators': 191, 'max_depth': 11, 'max_bin': 18}. Best is trial 0 with value: 0.713568577200022.\n",
            "[I 2023-06-18 20:01:10,095] Trial 8 finished with value: 0.7106105626024037 and parameters: {'num_leaves': 71, 'n_estimators': 49, 'max_depth': 2, 'max_bin': 17}. Best is trial 0 with value: 0.713568577200022.\n",
            "[I 2023-06-18 20:01:10,199] Trial 2 finished with value: 0.7162906282051432 and parameters: {'num_leaves': 22, 'n_estimators': 218, 'max_depth': 5, 'max_bin': 34}. Best is trial 2 with value: 0.7162906282051432.\n",
            "[I 2023-06-18 20:01:10,538] Trial 9 finished with value: 0.7213970755060106 and parameters: {'num_leaves': 69, 'n_estimators': 74, 'max_depth': 4, 'max_bin': 27}. Best is trial 9 with value: 0.7213970755060106.\n",
            "[I 2023-06-18 20:01:10,938] Trial 5 finished with value: 0.7163438949806508 and parameters: {'num_leaves': 10, 'n_estimators': 527, 'max_depth': 15, 'max_bin': 47}. Best is trial 9 with value: 0.7213970755060106.\n",
            "[I 2023-06-18 20:01:11,389] Trial 4 finished with value: 0.7089991284349487 and parameters: {'num_leaves': 18, 'n_estimators': 403, 'max_depth': 8, 'max_bin': 17}. Best is trial 9 with value: 0.7213970755060106.\n",
            "[I 2023-06-18 20:01:12,772] Trial 3 finished with value: 0.7115477654779545 and parameters: {'num_leaves': 95, 'n_estimators': 264, 'max_depth': 6, 'max_bin': 27}. Best is trial 9 with value: 0.7213970755060106.\n",
            "[I 2023-06-18 20:01:13,518] Trial 12 finished with value: 0.7044554542108199 and parameters: {'num_leaves': 14, 'n_estimators': 570, 'max_depth': 13, 'max_bin': 11}. Best is trial 9 with value: 0.7213970755060106.\n",
            "[I 2023-06-18 20:01:16,690] Trial 10 finished with value: 0.704861569974891 and parameters: {'num_leaves': 43, 'n_estimators': 624, 'max_depth': 10, 'max_bin': 26}. Best is trial 9 with value: 0.7213970755060106.\n",
            "[I 2023-06-18 20:01:17,730] Trial 1 finished with value: 0.6929685243242958 and parameters: {'num_leaves': 45, 'n_estimators': 894, 'max_depth': 6, 'max_bin': 13}. Best is trial 9 with value: 0.7213970755060106.\n",
            "[I 2023-06-18 20:01:17,840] Trial 17 finished with value: 0.7003508243028942 and parameters: {'num_leaves': 73, 'n_estimators': 23, 'max_depth': 2, 'max_bin': 42}. Best is trial 9 with value: 0.7213970755060106.\n",
            "[I 2023-06-18 20:01:19,702] Trial 11 finished with value: 0.7038370936448551 and parameters: {'num_leaves': 45, 'n_estimators': 913, 'max_depth': 7, 'max_bin': 28}. Best is trial 9 with value: 0.7213970755060106.\n",
            "[I 2023-06-18 20:01:20,334] Trial 16 finished with value: 0.7094171492776623 and parameters: {'num_leaves': 18, 'n_estimators': 755, 'max_depth': 5, 'max_bin': 37}. Best is trial 9 with value: 0.7213970755060106.\n",
            "[I 2023-06-18 20:01:20,754] Trial 7 finished with value: 0.6999053843189629 and parameters: {'num_leaves': 42, 'n_estimators': 935, 'max_depth': 14, 'max_bin': 18}. Best is trial 9 with value: 0.7213970755060106.\n",
            "[I 2023-06-18 20:01:21,789] Trial 14 finished with value: 0.7075634106699912 and parameters: {'num_leaves': 53, 'n_estimators': 595, 'max_depth': 14, 'max_bin': 31}. Best is trial 9 with value: 0.7213970755060106.\n",
            "[I 2023-06-18 20:01:23,490] Trial 15 finished with value: 0.6999563669274247 and parameters: {'num_leaves': 39, 'n_estimators': 899, 'max_depth': 11, 'max_bin': 22}. Best is trial 9 with value: 0.7213970755060106.\n",
            "[I 2023-06-18 20:01:24,909] Trial 23 finished with value: 0.7140561646342818 and parameters: {'num_leaves': 75, 'n_estimators': 414, 'max_depth': 4, 'max_bin': 49}. Best is trial 9 with value: 0.7213970755060106.\n",
            "[I 2023-06-18 20:01:25,442] Trial 13 finished with value: 0.6962822476876188 and parameters: {'num_leaves': 99, 'n_estimators': 677, 'max_depth': 8, 'max_bin': 16}. Best is trial 9 with value: 0.7213970755060106.\n",
            "[I 2023-06-18 20:01:27,501] Trial 21 finished with value: 0.7104751023599211 and parameters: {'num_leaves': 68, 'n_estimators': 396, 'max_depth': 12, 'max_bin': 48}. Best is trial 9 with value: 0.7213970755060106.\n",
            "[I 2023-06-18 20:01:27,743] Trial 20 finished with value: 0.710258398863954 and parameters: {'num_leaves': 70, 'n_estimators': 409, 'max_depth': 14, 'max_bin': 47}. Best is trial 9 with value: 0.7213970755060106.\n",
            "[I 2023-06-18 20:01:28,728] Trial 22 finished with value: 0.709752245719946 and parameters: {'num_leaves': 68, 'n_estimators': 413, 'max_depth': 12, 'max_bin': 50}. Best is trial 9 with value: 0.7213970755060106.\n",
            "[I 2023-06-18 20:01:29,406] Trial 28 finished with value: 0.7194394895277703 and parameters: {'num_leaves': 26, 'n_estimators': 149, 'max_depth': 4, 'max_bin': 35}. Best is trial 9 with value: 0.7213970755060106.\n",
            "[I 2023-06-18 20:01:29,729] Trial 6 finished with value: 0.6980963788387163 and parameters: {'num_leaves': 89, 'n_estimators': 856, 'max_depth': 14, 'max_bin': 18}. Best is trial 9 with value: 0.7213970755060106.\n",
            "[I 2023-06-18 20:01:29,982] Trial 29 finished with value: 0.7211955206058913 and parameters: {'num_leaves': 30, 'n_estimators': 111, 'max_depth': 3, 'max_bin': 40}. Best is trial 9 with value: 0.7213970755060106.\n",
            "[I 2023-06-18 20:01:30,151] Trial 30 finished with value: 0.7080865397434832 and parameters: {'num_leaves': 29, 'n_estimators': 131, 'max_depth': 3, 'max_bin': 5}. Best is trial 9 with value: 0.7213970755060106.\n",
            "[I 2023-06-18 20:01:30,361] Trial 31 finished with value: 0.7210916001419765 and parameters: {'num_leaves': 33, 'n_estimators': 120, 'max_depth': 3, 'max_bin': 39}. Best is trial 9 with value: 0.7213970755060106.\n",
            "[I 2023-06-18 20:01:30,720] Trial 32 finished with value: 0.7203963179665782 and parameters: {'num_leaves': 32, 'n_estimators': 117, 'max_depth': 4, 'max_bin': 40}. Best is trial 9 with value: 0.7213970755060106.\n",
            "[I 2023-06-18 20:01:31,180] Trial 33 finished with value: 0.721065725097682 and parameters: {'num_leaves': 52, 'n_estimators': 299, 'max_depth': 3, 'max_bin': 41}. Best is trial 9 with value: 0.7213970755060106.\n",
            "[I 2023-06-18 20:01:31,348] Trial 35 finished with value: 0.7159078018082708 and parameters: {'num_leaves': 63, 'n_estimators': 72, 'max_depth': 2, 'max_bin': 43}. Best is trial 9 with value: 0.7213970755060106.\n",
            "[I 2023-06-18 20:01:31,741] Trial 18 finished with value: 0.7067630933571598 and parameters: {'num_leaves': 69, 'n_estimators': 725, 'max_depth': 15, 'max_bin': 48}. Best is trial 9 with value: 0.7213970755060106.\n",
            "[I 2023-06-18 20:01:31,960] Trial 34 finished with value: 0.7216847160937512 and parameters: {'num_leaves': 55, 'n_estimators': 310, 'max_depth': 3, 'max_bin': 43}. Best is trial 34 with value: 0.7216847160937512.\n",
            "[I 2023-06-18 20:01:32,464] Trial 37 finished with value: 0.7220470946272297 and parameters: {'num_leaves': 81, 'n_estimators': 222, 'max_depth': 3, 'max_bin': 31}. Best is trial 37 with value: 0.7220470946272297.\n",
            "[I 2023-06-18 20:01:32,659] Trial 36 finished with value: 0.7196422321947533 and parameters: {'num_leaves': 59, 'n_estimators': 312, 'max_depth': 3, 'max_bin': 32}. Best is trial 37 with value: 0.7220470946272297.\n",
            "[I 2023-06-18 20:01:32,692] Trial 38 finished with value: 0.7227230253394161 and parameters: {'num_leaves': 84, 'n_estimators': 202, 'max_depth': 3, 'max_bin': 38}. Best is trial 38 with value: 0.7227230253394161.\n",
            "[I 2023-06-18 20:01:33,583] Trial 19 finished with value: 0.709470671879879 and parameters: {'num_leaves': 69, 'n_estimators': 695, 'max_depth': 14, 'max_bin': 48}. Best is trial 38 with value: 0.7227230253394161.\n",
            "[I 2023-06-18 20:01:34,168] Trial 25 finished with value: 0.7092388746080736 and parameters: {'num_leaves': 84, 'n_estimators': 346, 'max_depth': 15, 'max_bin': 50}. Best is trial 38 with value: 0.7227230253394161.\n",
            "[I 2023-06-18 20:01:34,469] Trial 40 finished with value: 0.7130975819551827 and parameters: {'num_leaves': 82, 'n_estimators': 208, 'max_depth': 5, 'max_bin': 23}. Best is trial 38 with value: 0.7227230253394161.\n",
            "[I 2023-06-18 20:01:34,608] Trial 41 finished with value: 0.7127060391768637 and parameters: {'num_leaves': 84, 'n_estimators': 206, 'max_depth': 5, 'max_bin': 30}. Best is trial 38 with value: 0.7227230253394161.\n",
            "[I 2023-06-18 20:01:35,034] Trial 39 finished with value: 0.7105044493381251 and parameters: {'num_leaves': 83, 'n_estimators': 291, 'max_depth': 5, 'max_bin': 33}. Best is trial 38 with value: 0.7227230253394161.\n",
            "[I 2023-06-18 20:01:35,926] Trial 24 finished with value: 0.6843711297073576 and parameters: {'num_leaves': 86, 'n_estimators': 441, 'max_depth': 9, 'max_bin': 5}. Best is trial 38 with value: 0.7227230253394161.\n",
            "[I 2023-06-18 20:01:36,801] Trial 42 finished with value: 0.7072698129745951 and parameters: {'num_leaves': 81, 'n_estimators': 228, 'max_depth': 6, 'max_bin': 24}. Best is trial 38 with value: 0.7227230253394161.\n",
            "[I 2023-06-18 20:01:37,004] Trial 43 finished with value: 0.7105329191961838 and parameters: {'num_leaves': 80, 'n_estimators': 202, 'max_depth': 6, 'max_bin': 23}. Best is trial 38 with value: 0.7227230253394161.\n",
            "[I 2023-06-18 20:01:37,200] Trial 49 finished with value: 0.7166417595000883 and parameters: {'num_leaves': 91, 'n_estimators': 81, 'max_depth': 2, 'max_bin': 44}. Best is trial 38 with value: 0.7227230253394161.\n",
            "[I 2023-06-18 20:01:37,626] Trial 48 finished with value: 0.7194743733268933 and parameters: {'num_leaves': 78, 'n_estimators': 162, 'max_depth': 4, 'max_bin': 45}. Best is trial 38 with value: 0.7227230253394161.\n",
            "[I 2023-06-18 20:01:37,826] Trial 44 finished with value: 0.7080802354424369 and parameters: {'num_leaves': 79, 'n_estimators': 238, 'max_depth': 6, 'max_bin': 30}. Best is trial 38 with value: 0.7227230253394161.\n",
            "[I 2023-06-18 20:01:38,575] Trial 51 finished with value: 0.7216938527619343 and parameters: {'num_leaves': 93, 'n_estimators': 251, 'max_depth': 3, 'max_bin': 36}. Best is trial 38 with value: 0.7227230253394161.\n",
            "[I 2023-06-18 20:01:38,613] Trial 45 finished with value: 0.7090987181181445 and parameters: {'num_leaves': 79, 'n_estimators': 269, 'max_depth': 6, 'max_bin': 44}. Best is trial 38 with value: 0.7227230253394161.\n",
            "[I 2023-06-18 20:01:38,772] Trial 50 finished with value: 0.7193369030174103 and parameters: {'num_leaves': 77, 'n_estimators': 252, 'max_depth': 4, 'max_bin': 36}. Best is trial 38 with value: 0.7227230253394161.\n",
            "[I 2023-06-18 20:01:38,915] Trial 46 finished with value: 0.7104451523616166 and parameters: {'num_leaves': 91, 'n_estimators': 247, 'max_depth': 6, 'max_bin': 44}. Best is trial 38 with value: 0.7227230253394161.\n",
            "[I 2023-06-18 20:01:39,019] Trial 52 finished with value: 0.7220684013374328 and parameters: {'num_leaves': 93, 'n_estimators': 263, 'max_depth': 3, 'max_bin': 36}. Best is trial 38 with value: 0.7227230253394161.\n",
            "[I 2023-06-18 20:01:39,471] Trial 56 finished with value: 0.719115850467388 and parameters: {'num_leaves': 96, 'n_estimators': 176, 'max_depth': 2, 'max_bin': 34}. Best is trial 38 with value: 0.7227230253394161.\n",
            "[I 2023-06-18 20:01:39,761] Trial 53 finished with value: 0.7222546431816772 and parameters: {'num_leaves': 93, 'n_estimators': 339, 'max_depth': 2, 'max_bin': 37}. Best is trial 38 with value: 0.7227230253394161.\n",
            "[I 2023-06-18 20:01:40,186] Trial 54 finished with value: 0.7214969941092612 and parameters: {'num_leaves': 94, 'n_estimators': 483, 'max_depth': 2, 'max_bin': 36}. Best is trial 38 with value: 0.7227230253394161.\n",
            "[I 2023-06-18 20:01:40,331] Trial 55 finished with value: 0.7210708416318645 and parameters: {'num_leaves': 92, 'n_estimators': 477, 'max_depth': 2, 'max_bin': 38}. Best is trial 38 with value: 0.7227230253394161.\n",
            "[I 2023-06-18 20:01:40,544] Trial 57 finished with value: 0.721012440048838 and parameters: {'num_leaves': 100, 'n_estimators': 491, 'max_depth': 2, 'max_bin': 37}. Best is trial 38 with value: 0.7227230253394161.\n",
            "[I 2023-06-18 20:01:40,964] Trial 47 finished with value: 0.7105987945737839 and parameters: {'num_leaves': 79, 'n_estimators': 253, 'max_depth': 6, 'max_bin': 36}. Best is trial 38 with value: 0.7227230253394161.\n",
            "[I 2023-06-18 20:01:41,224] Trial 58 finished with value: 0.7205774067299674 and parameters: {'num_leaves': 94, 'n_estimators': 336, 'max_depth': 3, 'max_bin': 38}. Best is trial 38 with value: 0.7227230253394161.\n",
            "[I 2023-06-18 20:01:41,573] Trial 59 finished with value: 0.7204309824856648 and parameters: {'num_leaves': 100, 'n_estimators': 344, 'max_depth': 3, 'max_bin': 38}. Best is trial 38 with value: 0.7227230253394161.\n",
            "[I 2023-06-18 20:01:41,951] Trial 60 finished with value: 0.7204350026196655 and parameters: {'num_leaves': 100, 'n_estimators': 350, 'max_depth': 3, 'max_bin': 38}. Best is trial 38 with value: 0.7227230253394161.\n",
            "[I 2023-06-18 20:01:42,126] Trial 61 finished with value: 0.7204758252531077 and parameters: {'num_leaves': 98, 'n_estimators': 363, 'max_depth': 3, 'max_bin': 38}. Best is trial 38 with value: 0.7227230253394161.\n",
            "[I 2023-06-18 20:01:42,271] Trial 62 finished with value: 0.7176970538119057 and parameters: {'num_leaves': 87, 'n_estimators': 345, 'max_depth': 3, 'max_bin': 28}. Best is trial 38 with value: 0.7227230253394161.\n",
            "[I 2023-06-18 20:01:42,597] Trial 63 finished with value: 0.7175550699883401 and parameters: {'num_leaves': 87, 'n_estimators': 348, 'max_depth': 3, 'max_bin': 28}. Best is trial 38 with value: 0.7227230253394161.\n",
            "[I 2023-06-18 20:01:42,853] Trial 64 finished with value: 0.7199076889521455 and parameters: {'num_leaves': 88, 'n_estimators': 350, 'max_depth': 3, 'max_bin': 34}. Best is trial 38 with value: 0.7227230253394161.\n",
            "[I 2023-06-18 20:01:43,452] Trial 68 finished with value: 0.7204460579881671 and parameters: {'num_leaves': 89, 'n_estimators': 529, 'max_depth': 2, 'max_bin': 34}. Best is trial 38 with value: 0.7227230253394161.\n",
            "[I 2023-06-18 20:01:43,881] Trial 26 finished with value: 0.7069638990504882 and parameters: {'num_leaves': 85, 'n_estimators': 495, 'max_depth': 15, 'max_bin': 40}. Best is trial 38 with value: 0.7227230253394161.\n",
            "[I 2023-06-18 20:01:44,297] Trial 67 finished with value: 0.7151891663089966 and parameters: {'num_leaves': 88, 'n_estimators': 309, 'max_depth': 4, 'max_bin': 29}. Best is trial 38 with value: 0.7227230253394161.\n",
            "[I 2023-06-18 20:01:45,298] Trial 73 finished with value: 0.7221771825088209 and parameters: {'num_leaves': 95, 'n_estimators': 445, 'max_depth': 2, 'max_bin': 42}. Best is trial 38 with value: 0.7227230253394161.\n",
            "[I 2023-06-18 20:01:45,475] Trial 71 finished with value: 0.7164799216965609 and parameters: {'num_leaves': 48, 'n_estimators': 290, 'max_depth': 4, 'max_bin': 32}. Best is trial 38 with value: 0.7227230253394161.\n",
            "[I 2023-06-18 20:01:45,622] Trial 69 finished with value: 0.7103905150858818 and parameters: {'num_leaves': 96, 'n_estimators': 445, 'max_depth': 4, 'max_bin': 34}. Best is trial 38 with value: 0.7227230253394161.\n",
            "[I 2023-06-18 20:01:45,847] Trial 72 finished with value: 0.716609863391461 and parameters: {'num_leaves': 96, 'n_estimators': 286, 'max_depth': 4, 'max_bin': 32}. Best is trial 38 with value: 0.7227230253394161.\n",
            "[I 2023-06-18 20:01:46,354] Trial 70 finished with value: 0.7087837954392091 and parameters: {'num_leaves': 48, 'n_estimators': 563, 'max_depth': 4, 'max_bin': 32}. Best is trial 38 with value: 0.7227230253394161.\n",
            "[I 2023-06-18 20:01:46,589] Trial 66 finished with value: 0.708222548186057 and parameters: {'num_leaves': 86, 'n_estimators': 381, 'max_depth': 5, 'max_bin': 28}. Best is trial 38 with value: 0.7227230253394161.\n",
            "[I 2023-06-18 20:01:47,301] Trial 76 finished with value: 0.7167015041733376 and parameters: {'num_leaves': 92, 'n_estimators': 180, 'max_depth': 5, 'max_bin': 41}. Best is trial 38 with value: 0.7227230253394161.\n",
            "[I 2023-06-18 20:01:47,441] Trial 79 finished with value: 0.7221611019728187 and parameters: {'num_leaves': 93, 'n_estimators': 457, 'max_depth': 2, 'max_bin': 46}. Best is trial 38 with value: 0.7227230253394161.\n",
            "[I 2023-06-18 20:01:48,303] Trial 81 finished with value: 0.721746717524042 and parameters: {'num_leaves': 56, 'n_estimators': 446, 'max_depth': 2, 'max_bin': 41}. Best is trial 38 with value: 0.7227230253394161.\n",
            "[I 2023-06-18 20:01:49,172] Trial 82 finished with value: 0.7222682933639429 and parameters: {'num_leaves': 64, 'n_estimators': 448, 'max_depth': 2, 'max_bin': 46}. Best is trial 38 with value: 0.7227230253394161.\n",
            "[I 2023-06-18 20:01:49,304] Trial 80 finished with value: 0.7193338879169098 and parameters: {'num_leaves': 93, 'n_estimators': 994, 'max_depth': 2, 'max_bin': 36}. Best is trial 38 with value: 0.7227230253394161.\n",
            "[I 2023-06-18 20:01:50,140] Trial 83 finished with value: 0.722299175302402 and parameters: {'num_leaves': 62, 'n_estimators': 447, 'max_depth': 2, 'max_bin': 46}. Best is trial 38 with value: 0.7227230253394161.\n",
            "[I 2023-06-18 20:01:50,385] Trial 84 finished with value: 0.7219101176978286 and parameters: {'num_leaves': 61, 'n_estimators': 527, 'max_depth': 2, 'max_bin': 46}. Best is trial 38 with value: 0.7227230253394161.\n",
            "[I 2023-06-18 20:01:51,272] Trial 85 finished with value: 0.7217631087067624 and parameters: {'num_leaves': 72, 'n_estimators': 626, 'max_depth': 2, 'max_bin': 46}. Best is trial 38 with value: 0.7227230253394161.\n",
            "[I 2023-06-18 20:01:51,502] Trial 65 finished with value: 0.7053014091812259 and parameters: {'num_leaves': 87, 'n_estimators': 377, 'max_depth': 7, 'max_bin': 28}. Best is trial 38 with value: 0.7227230253394161.\n",
            "[I 2023-06-18 20:01:52,282] Trial 87 finished with value: 0.7221136826649482 and parameters: {'num_leaves': 65, 'n_estimators': 423, 'max_depth': 2, 'max_bin': 42}. Best is trial 38 with value: 0.7227230253394161.\n",
            "[I 2023-06-18 20:01:52,654] Trial 27 finished with value: 0.6899722179503223 and parameters: {'num_leaves': 88, 'n_estimators': 784, 'max_depth': 9, 'max_bin': 7}. Best is trial 38 with value: 0.7227230253394161.\n",
            "[I 2023-06-18 20:01:52,987] Trial 88 finished with value: 0.7219007800229456 and parameters: {'num_leaves': 75, 'n_estimators': 549, 'max_depth': 2, 'max_bin': 47}. Best is trial 38 with value: 0.7227230253394161.\n",
            "[I 2023-06-18 20:01:53,616] Trial 90 finished with value: 0.7220119550013976 and parameters: {'num_leaves': 62, 'n_estimators': 415, 'max_depth': 2, 'max_bin': 42}. Best is trial 38 with value: 0.7227230253394161.\n",
            "[I 2023-06-18 20:01:53,736] Trial 89 finished with value: 0.7220001321527686 and parameters: {'num_leaves': 63, 'n_estimators': 458, 'max_depth': 2, 'max_bin': 42}. Best is trial 38 with value: 0.7227230253394161.\n",
            "[I 2023-06-18 20:01:53,999] Trial 91 finished with value: 0.7220957017019639 and parameters: {'num_leaves': 65, 'n_estimators': 421, 'max_depth': 2, 'max_bin': 42}. Best is trial 38 with value: 0.7227230253394161.\n",
            "[I 2023-06-18 20:01:54,664] Trial 92 finished with value: 0.7220898176876541 and parameters: {'num_leaves': 65, 'n_estimators': 456, 'max_depth': 2, 'max_bin': 43}. Best is trial 38 with value: 0.7227230253394161.\n",
            "[I 2023-06-18 20:01:54,881] Trial 77 finished with value: 0.7082431239628053 and parameters: {'num_leaves': 64, 'n_estimators': 447, 'max_depth': 7, 'max_bin': 41}. Best is trial 38 with value: 0.7227230253394161.\n",
            "[I 2023-06-18 20:01:55,079] Trial 94 finished with value: 0.7231885751300184 and parameters: {'num_leaves': 58, 'n_estimators': 406, 'max_depth': 2, 'max_bin': 49}. Best is trial 94 with value: 0.7231885751300184.\n",
            "[I 2023-06-18 20:01:55,386] Trial 93 finished with value: 0.719778277184 and parameters: {'num_leaves': 66, 'n_estimators': 388, 'max_depth': 3, 'max_bin': 49}. Best is trial 94 with value: 0.7231885751300184.\n",
            "[I 2023-06-18 20:01:55,973] Trial 95 finished with value: 0.7219377469824143 and parameters: {'num_leaves': 59, 'n_estimators': 427, 'max_depth': 2, 'max_bin': 45}. Best is trial 94 with value: 0.7231885751300184.\n",
            "[I 2023-06-18 20:01:56,206] Trial 97 finished with value: 0.7224433519263312 and parameters: {'num_leaves': 66, 'n_estimators': 415, 'max_depth': 2, 'max_bin': 48}. Best is trial 94 with value: 0.7231885751300184.\n",
            "[I 2023-06-18 20:01:56,386] Trial 96 finished with value: 0.7220571815089039 and parameters: {'num_leaves': 66, 'n_estimators': 509, 'max_depth': 2, 'max_bin': 49}. Best is trial 94 with value: 0.7231885751300184.\n",
            "[I 2023-06-18 20:01:56,623] Trial 98 finished with value: 0.7219377469824143 and parameters: {'num_leaves': 59, 'n_estimators': 427, 'max_depth': 2, 'max_bin': 45}. Best is trial 94 with value: 0.7231885751300184.\n",
            "[I 2023-06-18 20:01:57,245] Trial 99 finished with value: 0.7218911134280077 and parameters: {'num_leaves': 66, 'n_estimators': 473, 'max_depth': 2, 'max_bin': 47}. Best is trial 94 with value: 0.7231885751300184.\n",
            "[I 2023-06-18 20:01:57,292] Trial 100 finished with value: 0.7230621236423642 and parameters: {'num_leaves': 59, 'n_estimators': 400, 'max_depth': 2, 'max_bin': 49}. Best is trial 94 with value: 0.7231885751300184.\n",
            "[I 2023-06-18 20:01:57,461] Trial 101 finished with value: 0.7219680989941186 and parameters: {'num_leaves': 59, 'n_estimators': 401, 'max_depth': 2, 'max_bin': 47}. Best is trial 94 with value: 0.7231885751300184.\n",
            "[I 2023-06-18 20:01:57,957] Trial 75 finished with value: 0.7054392632307727 and parameters: {'num_leaves': 96, 'n_estimators': 389, 'max_depth': 8, 'max_bin': 46}. Best is trial 94 with value: 0.7231885751300184.\n",
            "[I 2023-06-18 20:01:58,287] Trial 103 finished with value: 0.7230451659862163 and parameters: {'num_leaves': 55, 'n_estimators': 395, 'max_depth': 2, 'max_bin': 50}. Best is trial 94 with value: 0.7231885751300184.\n",
            "[I 2023-06-18 20:01:58,615] Trial 74 finished with value: 0.7070802088364592 and parameters: {'num_leaves': 97, 'n_estimators': 399, 'max_depth': 7, 'max_bin': 41}. Best is trial 94 with value: 0.7231885751300184.\n",
            "[I 2023-06-18 20:01:59,145] Trial 78 finished with value: 0.7062667347214441 and parameters: {'num_leaves': 93, 'n_estimators': 392, 'max_depth': 7, 'max_bin': 42}. Best is trial 94 with value: 0.7231885751300184.\n",
            "[I 2023-06-18 20:01:59,614] Trial 105 finished with value: 0.7204675291583974 and parameters: {'num_leaves': 56, 'n_estimators': 511, 'max_depth': 3, 'max_bin': 50}. Best is trial 94 with value: 0.7231885751300184.\n",
            "[I 2023-06-18 20:02:00,541] Trial 110 finished with value: 0.721082993400548 and parameters: {'num_leaves': 52, 'n_estimators': 328, 'max_depth': 3, 'max_bin': 48}. Best is trial 94 with value: 0.7231885751300184.\n",
            "[I 2023-06-18 20:02:00,741] Trial 109 finished with value: 0.7203765827633026 and parameters: {'num_leaves': 56, 'n_estimators': 508, 'max_depth': 3, 'max_bin': 50}. Best is trial 94 with value: 0.7231885751300184.\n",
            "[I 2023-06-18 20:02:01,326] Trial 111 finished with value: 0.7231697170468885 and parameters: {'num_leaves': 53, 'n_estimators': 372, 'max_depth': 2, 'max_bin': 49}. Best is trial 94 with value: 0.7231885751300184.\n",
            "[I 2023-06-18 20:02:01,513] Trial 112 finished with value: 0.7227104167373236 and parameters: {'num_leaves': 70, 'n_estimators': 369, 'max_depth': 2, 'max_bin': 48}. Best is trial 94 with value: 0.7231885751300184.\n",
            "[I 2023-06-18 20:02:02,028] Trial 113 finished with value: 0.723143494809203 and parameters: {'num_leaves': 50, 'n_estimators': 364, 'max_depth': 2, 'max_bin': 49}. Best is trial 94 with value: 0.7231885751300184.\n",
            "[I 2023-06-18 20:02:02,539] Trial 114 finished with value: 0.7203125529926754 and parameters: {'num_leaves': 54, 'n_estimators': 368, 'max_depth': 3, 'max_bin': 49}. Best is trial 94 with value: 0.7231885751300184.\n",
            "[I 2023-06-18 20:02:03,116] Trial 86 finished with value: 0.7088921380505244 and parameters: {'num_leaves': 73, 'n_estimators': 420, 'max_depth': 9, 'max_bin': 47}. Best is trial 94 with value: 0.7231885751300184.\n",
            "[I 2023-06-18 20:02:03,600] Trial 116 finished with value: 0.7210906133818128 and parameters: {'num_leaves': 51, 'n_estimators': 329, 'max_depth': 3, 'max_bin': 48}. Best is trial 94 with value: 0.7231885751300184.\n",
            "[I 2023-06-18 20:02:04,181] Trial 117 finished with value: 0.7207459051646004 and parameters: {'num_leaves': 46, 'n_estimators': 366, 'max_depth': 3, 'max_bin': 48}. Best is trial 94 with value: 0.7231885751300184.\n",
            "[I 2023-06-18 20:02:04,367] Trial 118 finished with value: 0.7231388351084296 and parameters: {'num_leaves': 49, 'n_estimators': 368, 'max_depth': 2, 'max_bin': 49}. Best is trial 94 with value: 0.7231885751300184.\n",
            "[I 2023-06-18 20:02:04,871] Trial 119 finished with value: 0.7230198208686764 and parameters: {'num_leaves': 49, 'n_estimators': 320, 'max_depth': 2, 'max_bin': 49}. Best is trial 94 with value: 0.7231885751300184.\n",
            "[I 2023-06-18 20:02:05,184] Trial 120 finished with value: 0.723093846154296 and parameters: {'num_leaves': 51, 'n_estimators': 369, 'max_depth': 2, 'max_bin': 49}. Best is trial 94 with value: 0.7231885751300184.\n",
            "[I 2023-06-18 20:02:05,334] Trial 102 finished with value: 0.7109587244801894 and parameters: {'num_leaves': 53, 'n_estimators': 473, 'max_depth': 10, 'max_bin': 47}. Best is trial 94 with value: 0.7231885751300184.\n",
            "[I 2023-06-18 20:02:05,679] Trial 121 finished with value: 0.7228050360730278 and parameters: {'num_leaves': 44, 'n_estimators': 277, 'max_depth': 2, 'max_bin': 49}. Best is trial 94 with value: 0.7231885751300184.\n",
            "[I 2023-06-18 20:02:06,020] Trial 122 finished with value: 0.7228818937257843 and parameters: {'num_leaves': 42, 'n_estimators': 310, 'max_depth': 2, 'max_bin': 49}. Best is trial 94 with value: 0.7231885751300184.\n",
            "[I 2023-06-18 20:02:06,175] Trial 123 finished with value: 0.7232315540171519 and parameters: {'num_leaves': 41, 'n_estimators': 320, 'max_depth': 2, 'max_bin': 50}. Best is trial 123 with value: 0.7232315540171519.\n",
            "[I 2023-06-18 20:02:06,466] Trial 124 finished with value: 0.7228818937257843 and parameters: {'num_leaves': 41, 'n_estimators': 310, 'max_depth': 2, 'max_bin': 49}. Best is trial 123 with value: 0.7232315540171519.\n",
            "[I 2023-06-18 20:02:06,744] Trial 125 finished with value: 0.7231754366011711 and parameters: {'num_leaves': 44, 'n_estimators': 278, 'max_depth': 2, 'max_bin': 50}. Best is trial 123 with value: 0.7232315540171519.\n",
            "[I 2023-06-18 20:02:07,198] Trial 126 finished with value: 0.7231589905984416 and parameters: {'num_leaves': 38, 'n_estimators': 275, 'max_depth': 3, 'max_bin': 50}. Best is trial 123 with value: 0.7232315540171519.\n",
            "[I 2023-06-18 20:02:07,413] Trial 128 finished with value: 0.7231919191505735 and parameters: {'num_leaves': 40, 'n_estimators': 279, 'max_depth': 2, 'max_bin': 50}. Best is trial 123 with value: 0.7232315540171519.\n",
            "[I 2023-06-18 20:02:07,520] Trial 127 finished with value: 0.7232393567317802 and parameters: {'num_leaves': 41, 'n_estimators': 273, 'max_depth': 3, 'max_bin': 50}. Best is trial 127 with value: 0.7232393567317802.\n",
            "[I 2023-06-18 20:02:07,823] Trial 107 finished with value: 0.7071564269224427 and parameters: {'num_leaves': 52, 'n_estimators': 515, 'max_depth': 11, 'max_bin': 48}. Best is trial 127 with value: 0.7232393567317802.\n",
            "[I 2023-06-18 20:02:08,183] Trial 129 finished with value: 0.7233327700272842 and parameters: {'num_leaves': 39, 'n_estimators': 308, 'max_depth': 2, 'max_bin': 50}. Best is trial 129 with value: 0.7233327700272842.\n",
            "[I 2023-06-18 20:02:08,688] Trial 108 finished with value: 0.7092657181391954 and parameters: {'num_leaves': 56, 'n_estimators': 512, 'max_depth': 10, 'max_bin': 48}. Best is trial 129 with value: 0.7233327700272842.\n",
            "[I 2023-06-18 20:02:08,850] Trial 115 finished with value: 0.7115975603195525 and parameters: {'num_leaves': 53, 'n_estimators': 333, 'max_depth': 11, 'max_bin': 49}. Best is trial 129 with value: 0.7233327700272842.\n",
            "[I 2023-06-18 20:02:08,941] Trial 131 finished with value: 0.7236372769044911 and parameters: {'num_leaves': 37, 'n_estimators': 233, 'max_depth': 3, 'max_bin': 50}. Best is trial 131 with value: 0.7236372769044911.\n",
            "[I 2023-06-18 20:02:09,170] Trial 130 finished with value: 0.7225755777882774 and parameters: {'num_leaves': 38, 'n_estimators': 305, 'max_depth': 3, 'max_bin': 50}. Best is trial 131 with value: 0.7236372769044911.\n",
            "[I 2023-06-18 20:02:09,300] Trial 132 finished with value: 0.723254761154337 and parameters: {'num_leaves': 39, 'n_estimators': 271, 'max_depth': 3, 'max_bin': 50}. Best is trial 131 with value: 0.7236372769044911.\n",
            "[I 2023-06-18 20:02:09,601] Trial 133 finished with value: 0.7233855251493735 and parameters: {'num_leaves': 37, 'n_estimators': 228, 'max_depth': 3, 'max_bin': 50}. Best is trial 131 with value: 0.7236372769044911.\n",
            "[I 2023-06-18 20:02:10,010] Trial 104 finished with value: 0.7097841144185688 and parameters: {'num_leaves': 55, 'n_estimators': 602, 'max_depth': 11, 'max_bin': 50}. Best is trial 131 with value: 0.7236372769044911.\n",
            "[I 2023-06-18 20:02:10,347] Trial 134 finished with value: 0.7231941850442829 and parameters: {'num_leaves': 36, 'n_estimators': 269, 'max_depth': 3, 'max_bin': 50}. Best is trial 131 with value: 0.7236372769044911.\n",
            "[I 2023-06-18 20:02:10,459] Trial 135 finished with value: 0.7231941850442829 and parameters: {'num_leaves': 38, 'n_estimators': 269, 'max_depth': 3, 'max_bin': 50}. Best is trial 131 with value: 0.7236372769044911.\n",
            "[I 2023-06-18 20:02:10,566] Trial 136 finished with value: 0.7232723949239304 and parameters: {'num_leaves': 38, 'n_estimators': 270, 'max_depth': 3, 'max_bin': 50}. Best is trial 131 with value: 0.7236372769044911.\n",
            "[I 2023-06-18 20:02:10,667] Trial 138 finished with value: 0.7233101293635267 and parameters: {'num_leaves': 37, 'n_estimators': 224, 'max_depth': 3, 'max_bin': 50}. Best is trial 131 with value: 0.7236372769044911.\n",
            "[I 2023-06-18 20:02:10,881] Trial 106 finished with value: 0.7093008577650278 and parameters: {'num_leaves': 56, 'n_estimators': 514, 'max_depth': 10, 'max_bin': 48}. Best is trial 131 with value: 0.7236372769044911.\n",
            "[I 2023-06-18 20:02:11,000] Trial 137 finished with value: 0.7232723949239304 and parameters: {'num_leaves': 36, 'n_estimators': 270, 'max_depth': 3, 'max_bin': 50}. Best is trial 131 with value: 0.7236372769044911.\n",
            "[I 2023-06-18 20:02:11,402] Trial 139 finished with value: 0.723254761154337 and parameters: {'num_leaves': 36, 'n_estimators': 271, 'max_depth': 3, 'max_bin': 50}. Best is trial 131 with value: 0.7236372769044911.\n",
            "[I 2023-06-18 20:02:11,497] Trial 140 finished with value: 0.723343332015704 and parameters: {'num_leaves': 36, 'n_estimators': 225, 'max_depth': 3, 'max_bin': 50}. Best is trial 131 with value: 0.7236372769044911.\n",
            "[I 2023-06-18 20:02:12,324] Trial 141 finished with value: 0.7201352102632413 and parameters: {'num_leaves': 36, 'n_estimators': 228, 'max_depth': 4, 'max_bin': 50}. Best is trial 131 with value: 0.7236372769044911.\n",
            "[I 2023-06-18 20:02:12,440] Trial 142 finished with value: 0.7201167176468386 and parameters: {'num_leaves': 36, 'n_estimators': 227, 'max_depth': 4, 'max_bin': 50}. Best is trial 131 with value: 0.7236372769044911.\n",
            "[I 2023-06-18 20:02:12,594] Trial 144 finished with value: 0.7202505150157121 and parameters: {'num_leaves': 35, 'n_estimators': 229, 'max_depth': 4, 'max_bin': 50}. Best is trial 131 with value: 0.7236372769044911.\n",
            "[I 2023-06-18 20:02:12,635] Trial 143 finished with value: 0.7168556397655866 and parameters: {'num_leaves': 36, 'n_estimators': 232, 'max_depth': 4, 'max_bin': 20}. Best is trial 131 with value: 0.7236372769044911.\n",
            "[I 2023-06-18 20:02:12,789] Trial 145 finished with value: 0.7201431408912243 and parameters: {'num_leaves': 35, 'n_estimators': 224, 'max_depth': 4, 'max_bin': 50}. Best is trial 131 with value: 0.7236372769044911.\n",
            "[I 2023-06-18 20:02:12,971] Trial 146 finished with value: 0.7202152109298526 and parameters: {'num_leaves': 34, 'n_estimators': 231, 'max_depth': 4, 'max_bin': 50}. Best is trial 131 with value: 0.7236372769044911.\n",
            "[I 2023-06-18 20:02:13,357] Trial 147 finished with value: 0.7142662714558207 and parameters: {'num_leaves': 34, 'n_estimators': 225, 'max_depth': 4, 'max_bin': 19}. Best is trial 131 with value: 0.7236372769044911.\n",
            "[I 2023-06-18 20:02:13,473] Trial 148 finished with value: 0.7201359594700323 and parameters: {'num_leaves': 35, 'n_estimators': 225, 'max_depth': 4, 'max_bin': 50}. Best is trial 131 with value: 0.7236372769044911.\n",
            "[I 2023-06-18 20:02:13,717] Trial 150 finished with value: 0.724385588302024 and parameters: {'num_leaves': 33, 'n_estimators': 192, 'max_depth': 3, 'max_bin': 50}. Best is trial 150 with value: 0.724385588302024.\n",
            "[I 2023-06-18 20:02:13,836] Trial 152 finished with value: 0.7228794816453838 and parameters: {'num_leaves': 31, 'n_estimators': 192, 'max_depth': 3, 'max_bin': 47}. Best is trial 150 with value: 0.724385588302024.\n",
            "[I 2023-06-18 20:02:13,948] Trial 151 finished with value: 0.7152644981381664 and parameters: {'num_leaves': 32, 'n_estimators': 203, 'max_depth': 3, 'max_bin': 13}. Best is trial 150 with value: 0.724385588302024.\n",
            "[I 2023-06-18 20:02:14,039] Trial 153 finished with value: 0.722920505285526 and parameters: {'num_leaves': 28, 'n_estimators': 186, 'max_depth': 3, 'max_bin': 47}. Best is trial 150 with value: 0.724385588302024.\n",
            "[I 2023-06-18 20:02:14,161] Trial 154 finished with value: 0.722920505285526 and parameters: {'num_leaves': 30, 'n_estimators': 186, 'max_depth': 3, 'max_bin': 47}. Best is trial 150 with value: 0.724385588302024.\n",
            "[I 2023-06-18 20:02:14,620] Trial 156 finished with value: 0.7230225253224587 and parameters: {'num_leaves': 30, 'n_estimators': 195, 'max_depth': 3, 'max_bin': 47}. Best is trial 150 with value: 0.724385588302024.\n",
            "[I 2023-06-18 20:02:14,786] Trial 159 finished with value: 0.7228871016266486 and parameters: {'num_leaves': 25, 'n_estimators': 143, 'max_depth': 3, 'max_bin': 47}. Best is trial 150 with value: 0.724385588302024.\n",
            "[I 2023-06-18 20:02:14,922] Trial 149 finished with value: 0.7124863114437281 and parameters: {'num_leaves': 34, 'n_estimators': 240, 'max_depth': 4, 'max_bin': 14}. Best is trial 150 with value: 0.724385588302024.\n",
            "[I 2023-06-18 20:02:14,963] Trial 155 finished with value: 0.7220280355373999 and parameters: {'num_leaves': 31, 'n_estimators': 257, 'max_depth': 3, 'max_bin': 47}. Best is trial 150 with value: 0.724385588302024.\n",
            "[I 2023-06-18 20:02:15,073] Trial 157 finished with value: 0.7229170516249528 and parameters: {'num_leaves': 31, 'n_estimators': 199, 'max_depth': 3, 'max_bin': 47}. Best is trial 150 with value: 0.724385588302024.\n",
            "[I 2023-06-18 20:02:15,118] Trial 160 finished with value: 0.7220610920028864 and parameters: {'num_leaves': 41, 'n_estimators': 151, 'max_depth': 3, 'max_bin': 48}. Best is trial 150 with value: 0.724385588302024.\n",
            "[I 2023-06-18 20:02:15,169] Trial 161 finished with value: 0.7219010723963273 and parameters: {'num_leaves': 40, 'n_estimators': 142, 'max_depth': 3, 'max_bin': 48}. Best is trial 150 with value: 0.724385588302024.\n",
            "[I 2023-06-18 20:02:15,488] Trial 158 finished with value: 0.7219978662590593 and parameters: {'num_leaves': 28, 'n_estimators': 255, 'max_depth': 3, 'max_bin': 47}. Best is trial 150 with value: 0.724385588302024.\n",
            "[I 2023-06-18 20:02:15,999] Trial 166 finished with value: 0.7216926467217343 and parameters: {'num_leaves': 40, 'n_estimators': 161, 'max_depth': 3, 'max_bin': 48}. Best is trial 150 with value: 0.724385588302024.\n",
            "[I 2023-06-18 20:02:16,197] Trial 162 finished with value: 0.7215834818102824 and parameters: {'num_leaves': 40, 'n_estimators': 258, 'max_depth': 3, 'max_bin': 48}. Best is trial 150 with value: 0.724385588302024.\n",
            "[I 2023-06-18 20:02:16,397] Trial 163 finished with value: 0.7218308296913356 and parameters: {'num_leaves': 40, 'n_estimators': 254, 'max_depth': 3, 'max_bin': 48}. Best is trial 150 with value: 0.724385588302024.\n",
            "[I 2023-06-18 20:02:16,567] Trial 164 finished with value: 0.7216285804044343 and parameters: {'num_leaves': 39, 'n_estimators': 256, 'max_depth': 3, 'max_bin': 48}. Best is trial 150 with value: 0.724385588302024.\n",
            "[I 2023-06-18 20:02:16,676] Trial 165 finished with value: 0.7214468703476086 and parameters: {'num_leaves': 40, 'n_estimators': 273, 'max_depth': 3, 'max_bin': 48}. Best is trial 150 with value: 0.724385588302024.\n",
            "[I 2023-06-18 20:02:16,783] Trial 167 finished with value: 0.7232220518822413 and parameters: {'num_leaves': 39, 'n_estimators': 261, 'max_depth': 3, 'max_bin': 50}. Best is trial 150 with value: 0.724385588302024.\n",
            "[I 2023-06-18 20:02:16,906] Trial 168 finished with value: 0.7232059896195755 and parameters: {'num_leaves': 38, 'n_estimators': 267, 'max_depth': 3, 'max_bin': 50}. Best is trial 150 with value: 0.724385588302024.\n",
            "[I 2023-06-18 20:02:17,240] Trial 169 finished with value: 0.7229592813052952 and parameters: {'num_leaves': 40, 'n_estimators': 289, 'max_depth': 3, 'max_bin': 50}. Best is trial 150 with value: 0.724385588302024.\n",
            "[I 2023-06-18 20:02:17,710] Trial 170 finished with value: 0.7232206448353412 and parameters: {'num_leaves': 38, 'n_estimators': 276, 'max_depth': 3, 'max_bin': 50}. Best is trial 150 with value: 0.724385588302024.\n",
            "[I 2023-06-18 20:02:17,933] Trial 171 finished with value: 0.7230231466158951 and parameters: {'num_leaves': 38, 'n_estimators': 287, 'max_depth': 3, 'max_bin': 50}. Best is trial 150 with value: 0.724385588302024.\n",
            "[I 2023-06-18 20:02:18,163] Trial 172 finished with value: 0.7227262231732803 and parameters: {'num_leaves': 43, 'n_estimators': 300, 'max_depth': 3, 'max_bin': 50}. Best is trial 150 with value: 0.724385588302024.\n",
            "[I 2023-06-18 20:02:18,277] Trial 173 finished with value: 0.722916265871489 and parameters: {'num_leaves': 45, 'n_estimators': 290, 'max_depth': 3, 'max_bin': 50}. Best is trial 150 with value: 0.724385588302024.\n",
            "[I 2023-06-18 20:02:18,459] Trial 175 finished with value: 0.7226583560020161 and parameters: {'num_leaves': 37, 'n_estimators': 299, 'max_depth': 3, 'max_bin': 50}. Best is trial 150 with value: 0.724385588302024.\n",
            "[I 2023-06-18 20:02:18,566] Trial 176 finished with value: 0.72274367420951 and parameters: {'num_leaves': 37, 'n_estimators': 295, 'max_depth': 3, 'max_bin': 50}. Best is trial 150 with value: 0.724385588302024.\n",
            "[I 2023-06-18 20:02:19,165] Trial 178 finished with value: 0.7229592813052952 and parameters: {'num_leaves': 38, 'n_estimators': 289, 'max_depth': 3, 'max_bin': 50}. Best is trial 150 with value: 0.724385588302024.\n",
            "[I 2023-06-18 20:02:19,632] Trial 177 finished with value: 0.7191877925926619 and parameters: {'num_leaves': 37, 'n_estimators': 296, 'max_depth': 4, 'max_bin': 50}. Best is trial 150 with value: 0.724385588302024.\n",
            "[I 2023-06-18 20:02:20,109] Trial 180 finished with value: 0.7189629940086848 and parameters: {'num_leaves': 37, 'n_estimators': 269, 'max_depth': 4, 'max_bin': 49}. Best is trial 150 with value: 0.724385588302024.\n",
            "[I 2023-06-18 20:02:20,236] Trial 181 finished with value: 0.7191964176074267 and parameters: {'num_leaves': 37, 'n_estimators': 264, 'max_depth': 4, 'max_bin': 49}. Best is trial 150 with value: 0.724385588302024.\n",
            "[I 2023-06-18 20:02:20,356] Trial 179 finished with value: 0.7191333745969632 and parameters: {'num_leaves': 37, 'n_estimators': 299, 'max_depth': 4, 'max_bin': 50}. Best is trial 150 with value: 0.724385588302024.\n",
            "[I 2023-06-18 20:02:20,474] Trial 182 finished with value: 0.7190683397928359 and parameters: {'num_leaves': 37, 'n_estimators': 270, 'max_depth': 4, 'max_bin': 49}. Best is trial 150 with value: 0.724385588302024.\n",
            "[I 2023-06-18 20:02:20,687] Trial 183 finished with value: 0.7190683397928359 and parameters: {'num_leaves': 33, 'n_estimators': 270, 'max_depth': 4, 'max_bin': 49}. Best is trial 150 with value: 0.724385588302024.\n",
            "[I 2023-06-18 20:02:21,250] Trial 184 finished with value: 0.7189629940086848 and parameters: {'num_leaves': 33, 'n_estimators': 269, 'max_depth': 4, 'max_bin': 49}. Best is trial 150 with value: 0.724385588302024.\n",
            "[I 2023-06-18 20:02:21,348] Trial 187 finished with value: 0.7229272846933179 and parameters: {'num_leaves': 42, 'n_estimators': 209, 'max_depth': 3, 'max_bin': 49}. Best is trial 150 with value: 0.724385588302024.\n",
            "[I 2023-06-18 20:02:21,496] Trial 189 finished with value: 0.7229231914659718 and parameters: {'num_leaves': 33, 'n_estimators': 210, 'max_depth': 3, 'max_bin': 49}. Best is trial 150 with value: 0.724385588302024.\n",
            "[I 2023-06-18 20:02:21,626] Trial 188 finished with value: 0.722509501403977 and parameters: {'num_leaves': 33, 'n_estimators': 252, 'max_depth': 3, 'max_bin': 49}. Best is trial 150 with value: 0.724385588302024.\n",
            "[I 2023-06-18 20:02:21,789] Trial 185 finished with value: 0.7198143122033142 and parameters: {'num_leaves': 42, 'n_estimators': 247, 'max_depth': 4, 'max_bin': 49}. Best is trial 150 with value: 0.724385588302024.\n",
            "[I 2023-06-18 20:02:21,991] Trial 186 finished with value: 0.7203324709293145 and parameters: {'num_leaves': 33, 'n_estimators': 213, 'max_depth': 4, 'max_bin': 49}. Best is trial 150 with value: 0.724385588302024.\n",
            "[I 2023-06-18 20:02:22,292] Trial 191 finished with value: 0.7227645789063132 and parameters: {'num_leaves': 42, 'n_estimators': 212, 'max_depth': 3, 'max_bin': 49}. Best is trial 150 with value: 0.724385588302024.\n",
            "[I 2023-06-18 20:02:22,595] Trial 193 finished with value: 0.7105184010304407 and parameters: {'num_leaves': 14, 'n_estimators': 239, 'max_depth': 3, 'max_bin': 8}. Best is trial 150 with value: 0.724385588302024.\n",
            "[I 2023-06-18 20:02:23,146] Trial 197 finished with value: 0.7232964243612519 and parameters: {'num_leaves': 46, 'n_estimators': 323, 'max_depth': 2, 'max_bin': 50}. Best is trial 150 with value: 0.724385588302024.\n",
            "[I 2023-06-18 20:02:23,316] Trial 174 finished with value: 0.7135752286944592 and parameters: {'num_leaves': 43, 'n_estimators': 283, 'max_depth': 13, 'max_bin': 50}. Best is trial 150 with value: 0.724385588302024.\n",
            "[I 2023-06-18 20:02:23,536] Trial 196 finished with value: 0.7225834353229147 and parameters: {'num_leaves': 14, 'n_estimators': 323, 'max_depth': 3, 'max_bin': 50}. Best is trial 150 with value: 0.724385588302024.\n",
            "[I 2023-06-18 20:02:23,683] Trial 198 finished with value: 0.7231674146065065 and parameters: {'num_leaves': 39, 'n_estimators': 327, 'max_depth': 2, 'max_bin': 50}. Best is trial 150 with value: 0.724385588302024.\n",
            "[I 2023-06-18 20:02:24,212] Trial 202 finished with value: 0.7207816660838691 and parameters: {'num_leaves': 35, 'n_estimators': 171, 'max_depth': 2, 'max_bin': 48}. Best is trial 150 with value: 0.724385588302024.\n",
            "[I 2023-06-18 20:02:24,276] Trial 199 finished with value: 0.723230969270388 and parameters: {'num_leaves': 39, 'n_estimators': 326, 'max_depth': 2, 'max_bin': 50}. Best is trial 150 with value: 0.724385588302024.\n",
            "[I 2023-06-18 20:02:24,407] Trial 200 finished with value: 0.7233111709436995 and parameters: {'num_leaves': 39, 'n_estimators': 322, 'max_depth': 2, 'max_bin': 50}. Best is trial 150 with value: 0.724385588302024.\n",
            "[I 2023-06-18 20:02:24,597] Trial 201 finished with value: 0.723139200575157 and parameters: {'num_leaves': 46, 'n_estimators': 317, 'max_depth': 2, 'max_bin': 50}. Best is trial 150 with value: 0.724385588302024.\n",
            "[I 2023-06-18 20:02:24,745] Trial 190 finished with value: 0.7182842492026977 and parameters: {'num_leaves': 33, 'n_estimators': 210, 'max_depth': 13, 'max_bin': 49}. Best is trial 150 with value: 0.724385588302024.\n",
            "[I 2023-06-18 20:02:25,096] Trial 203 finished with value: 0.722840120878851 and parameters: {'num_leaves': 47, 'n_estimators': 241, 'max_depth': 2, 'max_bin': 50}. Best is trial 150 with value: 0.724385588302024.\n",
            "[I 2023-06-18 20:02:25,187] Trial 204 finished with value: 0.7229483355768118 and parameters: {'num_leaves': 39, 'n_estimators': 243, 'max_depth': 2, 'max_bin': 50}. Best is trial 150 with value: 0.724385588302024.\n",
            "[I 2023-06-18 20:02:25,484] Trial 205 finished with value: 0.722262719996351 and parameters: {'num_leaves': 45, 'n_estimators': 311, 'max_depth': 2, 'max_bin': 48}. Best is trial 150 with value: 0.724385588302024.\n",
            "[I 2023-06-18 20:02:25,927] Trial 206 finished with value: 0.7218000756662312 and parameters: {'num_leaves': 35, 'n_estimators': 243, 'max_depth': 3, 'max_bin': 48}. Best is trial 150 with value: 0.724385588302024.\n",
            "[I 2023-06-18 20:02:26,028] Trial 195 finished with value: 0.7011327220926683 and parameters: {'num_leaves': 39, 'n_estimators': 836, 'max_depth': 3, 'max_bin': 8}. Best is trial 150 with value: 0.724385588302024.\n",
            "[I 2023-06-18 20:02:26,166] Trial 207 finished with value: 0.7218000756662312 and parameters: {'num_leaves': 39, 'n_estimators': 243, 'max_depth': 3, 'max_bin': 48}. Best is trial 150 with value: 0.724385588302024.\n",
            "[I 2023-06-18 20:02:26,298] Trial 208 finished with value: 0.7209179851731611 and parameters: {'num_leaves': 35, 'n_estimators': 314, 'max_depth': 2, 'max_bin': 26}. Best is trial 150 with value: 0.724385588302024.\n",
            "[I 2023-06-18 20:02:27,065] Trial 209 finished with value: 0.7208968977429945 and parameters: {'num_leaves': 39, 'n_estimators': 339, 'max_depth': 3, 'max_bin': 48}. Best is trial 150 with value: 0.724385588302024.\n",
            "[I 2023-06-18 20:02:27,143] Trial 212 finished with value: 0.7230923111940413 and parameters: {'num_leaves': 42, 'n_estimators': 337, 'max_depth': 2, 'max_bin': 50}. Best is trial 150 with value: 0.724385588302024.\n",
            "[I 2023-06-18 20:02:27,296] Trial 213 finished with value: 0.7229974725783005 and parameters: {'num_leaves': 41, 'n_estimators': 344, 'max_depth': 2, 'max_bin': 50}. Best is trial 150 with value: 0.724385588302024.\n",
            "[I 2023-06-18 20:02:27,476] Trial 210 finished with value: 0.7223144152649312 and parameters: {'num_leaves': 35, 'n_estimators': 336, 'max_depth': 3, 'max_bin': 50}. Best is trial 150 with value: 0.724385588302024.\n",
            "[I 2023-06-18 20:02:27,889] Trial 211 finished with value: 0.7221264191803956 and parameters: {'num_leaves': 39, 'n_estimators': 349, 'max_depth': 3, 'max_bin': 50}. Best is trial 150 with value: 0.724385588302024.\n",
            "[I 2023-06-18 20:02:28,120] Trial 215 finished with value: 0.722988317636781 and parameters: {'num_leaves': 41, 'n_estimators': 271, 'max_depth': 2, 'max_bin': 50}. Best is trial 150 with value: 0.724385588302024.\n",
            "[I 2023-06-18 20:02:28,162] Trial 214 finished with value: 0.7223557312784552 and parameters: {'num_leaves': 42, 'n_estimators': 335, 'max_depth': 3, 'max_bin': 50}. Best is trial 150 with value: 0.724385588302024.\n",
            "[I 2023-06-18 20:02:28,451] Trial 218 finished with value: 0.7228050360730278 and parameters: {'num_leaves': 38, 'n_estimators': 277, 'max_depth': 2, 'max_bin': 49}. Best is trial 150 with value: 0.724385588302024.\n",
            "[I 2023-06-18 20:02:28,753] Trial 216 finished with value: 0.7232206448353412 and parameters: {'num_leaves': 41, 'n_estimators': 276, 'max_depth': 3, 'max_bin': 50}. Best is trial 150 with value: 0.724385588302024.\n",
            "[I 2023-06-18 20:02:28,914] Trial 217 finished with value: 0.7224877378603648 and parameters: {'num_leaves': 37, 'n_estimators': 273, 'max_depth': 3, 'max_bin': 49}. Best is trial 150 with value: 0.724385588302024.\n",
            "[I 2023-06-18 20:02:29,011] Trial 219 finished with value: 0.7231111875505074 and parameters: {'num_leaves': 37, 'n_estimators': 282, 'max_depth': 2, 'max_bin': 49}. Best is trial 150 with value: 0.724385588302024.\n",
            "[I 2023-06-18 20:02:29,093] Trial 194 finished with value: 0.7140738532238844 and parameters: {'num_leaves': 42, 'n_estimators': 246, 'max_depth': 13, 'max_bin': 50}. Best is trial 150 with value: 0.724385588302024.\n",
            "[I 2023-06-18 20:02:29,306] Trial 220 finished with value: 0.7229666454598507 and parameters: {'num_leaves': 36, 'n_estimators': 280, 'max_depth': 2, 'max_bin': 49}. Best is trial 150 with value: 0.724385588302024.\n",
            "[I 2023-06-18 20:02:29,374] Trial 221 finished with value: 0.7229555900913491 and parameters: {'num_leaves': 36, 'n_estimators': 279, 'max_depth': 2, 'max_bin': 49}. Best is trial 150 with value: 0.724385588302024.\n",
            "[I 2023-06-18 20:02:29,697] Trial 222 finished with value: 0.7231771177481169 and parameters: {'num_leaves': 36, 'n_estimators': 287, 'max_depth': 2, 'max_bin': 49}. Best is trial 150 with value: 0.724385588302024.\n",
            "[I 2023-06-18 20:02:30,116] Trial 192 finished with value: 0.7131454215497895 and parameters: {'num_leaves': 42, 'n_estimators': 325, 'max_depth': 13, 'max_bin': 49}. Best is trial 150 with value: 0.724385588302024.\n",
            "[I 2023-06-18 20:02:30,646] Trial 223 finished with value: 0.7223302947942334 and parameters: {'num_leaves': 36, 'n_estimators': 282, 'max_depth': 3, 'max_bin': 49}. Best is trial 150 with value: 0.724385588302024.\n",
            "[I 2023-06-18 20:02:30,864] Trial 224 finished with value: 0.7220759847720247 and parameters: {'num_leaves': 36, 'n_estimators': 290, 'max_depth': 3, 'max_bin': 49}. Best is trial 150 with value: 0.724385588302024.\n",
            "[I 2023-06-18 20:02:30,977] Trial 225 finished with value: 0.7218587513493031 and parameters: {'num_leaves': 35, 'n_estimators': 301, 'max_depth': 3, 'max_bin': 49}. Best is trial 150 with value: 0.724385588302024.\n",
            "[I 2023-06-18 20:02:31,101] Trial 226 finished with value: 0.7212679195645743 and parameters: {'num_leaves': 44, 'n_estimators': 303, 'max_depth': 3, 'max_bin': 48}. Best is trial 150 with value: 0.724385588302024.\n",
            "[I 2023-06-18 20:02:31,339] Trial 227 finished with value: 0.7214998995697434 and parameters: {'num_leaves': 44, 'n_estimators': 300, 'max_depth': 3, 'max_bin': 48}. Best is trial 150 with value: 0.724385588302024.\n",
            "[I 2023-06-18 20:02:31,413] Trial 228 finished with value: 0.7211567628594585 and parameters: {'num_leaves': 40, 'n_estimators': 307, 'max_depth': 3, 'max_bin': 48}. Best is trial 150 with value: 0.724385588302024.\n",
            "[I 2023-06-18 20:02:31,906] Trial 229 finished with value: 0.7225755777882774 and parameters: {'num_leaves': 40, 'n_estimators': 305, 'max_depth': 3, 'max_bin': 50}. Best is trial 150 with value: 0.724385588302024.\n",
            "[I 2023-06-18 20:02:32,149] Trial 230 finished with value: 0.7226450895598144 and parameters: {'num_leaves': 44, 'n_estimators': 309, 'max_depth': 3, 'max_bin': 50}. Best is trial 150 with value: 0.724385588302024.\n",
            "[I 2023-06-18 20:02:32,439] Trial 236 finished with value: 0.7228550136479894 and parameters: {'num_leaves': 38, 'n_estimators': 252, 'max_depth': 2, 'max_bin': 50}. Best is trial 150 with value: 0.724385588302024.\n",
            "[I 2023-06-18 20:02:32,797] Trial 233 finished with value: 0.7231731158874526 and parameters: {'num_leaves': 44, 'n_estimators': 258, 'max_depth': 3, 'max_bin': 50}. Best is trial 150 with value: 0.724385588302024.\n",
            "[I 2023-06-18 20:02:32,843] Trial 231 finished with value: 0.7225898858106521 and parameters: {'num_leaves': 40, 'n_estimators': 301, 'max_depth': 3, 'max_bin': 50}. Best is trial 150 with value: 0.724385588302024.\n",
            "[I 2023-06-18 20:02:32,953] Trial 234 finished with value: 0.7231801328486173 and parameters: {'num_leaves': 38, 'n_estimators': 254, 'max_depth': 3, 'max_bin': 50}. Best is trial 150 with value: 0.724385588302024.\n",
            "[I 2023-06-18 20:02:33,103] Trial 237 finished with value: 0.7228901350004854 and parameters: {'num_leaves': 38, 'n_estimators': 256, 'max_depth': 2, 'max_bin': 50}. Best is trial 150 with value: 0.724385588302024.\n",
            "[I 2023-06-18 20:02:33,170] Trial 232 finished with value: 0.7226385294320589 and parameters: {'num_leaves': 44, 'n_estimators': 308, 'max_depth': 3, 'max_bin': 50}. Best is trial 150 with value: 0.724385588302024.\n",
            "[I 2023-06-18 20:02:33,288] Trial 235 finished with value: 0.723105175622843 and parameters: {'num_leaves': 40, 'n_estimators': 255, 'max_depth': 3, 'max_bin': 50}. Best is trial 150 with value: 0.724385588302024.\n",
            "[I 2023-06-18 20:02:33,478] Trial 238 finished with value: 0.7228873026333485 and parameters: {'num_leaves': 38, 'n_estimators': 257, 'max_depth': 2, 'max_bin': 50}. Best is trial 150 with value: 0.724385588302024.\n",
            "[I 2023-06-18 20:02:33,873] Trial 239 finished with value: 0.7230307117771507 and parameters: {'num_leaves': 38, 'n_estimators': 263, 'max_depth': 2, 'max_bin': 50}. Best is trial 150 with value: 0.724385588302024.\n",
            "[I 2023-06-18 20:02:34,059] Trial 240 finished with value: 0.7224556133350329 and parameters: {'num_leaves': 38, 'n_estimators': 222, 'max_depth': 2, 'max_bin': 50}. Best is trial 150 with value: 0.724385588302024.\n",
            "[I 2023-06-18 20:02:34,150] Trial 242 finished with value: 0.7224556133350329 and parameters: {'num_leaves': 38, 'n_estimators': 222, 'max_depth': 2, 'max_bin': 50}. Best is trial 150 with value: 0.724385588302024.\n",
            "[I 2023-06-18 20:02:34,281] Trial 241 finished with value: 0.722860934208972 and parameters: {'num_leaves': 38, 'n_estimators': 266, 'max_depth': 2, 'max_bin': 49}. Best is trial 150 with value: 0.724385588302024.\n",
            "[I 2023-06-18 20:02:34,413] Trial 245 finished with value: 0.7222654792701425 and parameters: {'num_leaves': 38, 'n_estimators': 225, 'max_depth': 2, 'max_bin': 49}. Best is trial 150 with value: 0.724385588302024.\n",
            "[I 2023-06-18 20:02:34,856] Trial 243 finished with value: 0.7232960954411972 and parameters: {'num_leaves': 38, 'n_estimators': 226, 'max_depth': 3, 'max_bin': 50}. Best is trial 150 with value: 0.724385588302024.\n",
            "[I 2023-06-18 20:02:34,910] Trial 244 finished with value: 0.7228098419604922 and parameters: {'num_leaves': 38, 'n_estimators': 229, 'max_depth': 3, 'max_bin': 49}. Best is trial 150 with value: 0.724385588302024.\n",
            "[I 2023-06-18 20:02:34,989] Trial 248 finished with value: 0.7221856247902221 and parameters: {'num_leaves': 35, 'n_estimators': 214, 'max_depth': 2, 'max_bin': 49}. Best is trial 150 with value: 0.724385588302024.\n",
            "[I 2023-06-18 20:02:35,173] Trial 246 finished with value: 0.7219930603715949 and parameters: {'num_leaves': 34, 'n_estimators': 227, 'max_depth': 3, 'max_bin': 48}. Best is trial 150 with value: 0.724385588302024.\n",
            "[I 2023-06-18 20:02:35,444] Trial 247 finished with value: 0.7228052553530643 and parameters: {'num_leaves': 32, 'n_estimators': 220, 'max_depth': 3, 'max_bin': 49}. Best is trial 150 with value: 0.724385588302024.\n",
            "[I 2023-06-18 20:02:35,794] Trial 249 finished with value: 0.7225211597925786 and parameters: {'num_leaves': 35, 'n_estimators': 239, 'max_depth': 3, 'max_bin': 49}. Best is trial 150 with value: 0.724385588302024.\n",
            "[I 2023-06-18 20:02:35,895] Trial 250 finished with value: 0.7226694479171906 and parameters: {'num_leaves': 34, 'n_estimators': 233, 'max_depth': 3, 'max_bin': 49}. Best is trial 150 with value: 0.724385588302024.\n",
            "[I 2023-06-18 20:02:35,992] Trial 251 finished with value: 0.7221230568865041 and parameters: {'num_leaves': 34, 'n_estimators': 233, 'max_depth': 3, 'max_bin': 48}. Best is trial 150 with value: 0.724385588302024.\n",
            "[I 2023-06-18 20:02:36,171] Trial 252 finished with value: 0.7217403949496591 and parameters: {'num_leaves': 34, 'n_estimators': 185, 'max_depth': 3, 'max_bin': 48}. Best is trial 150 with value: 0.724385588302024.\n",
            "[I 2023-06-18 20:02:36,266] Trial 254 finished with value: 0.7216941634086527 and parameters: {'num_leaves': 41, 'n_estimators': 182, 'max_depth': 3, 'max_bin': 48}. Best is trial 150 with value: 0.724385588302024.\n",
            "[I 2023-06-18 20:02:36,302] Trial 253 finished with value: 0.7219258875871127 and parameters: {'num_leaves': 34, 'n_estimators': 189, 'max_depth': 3, 'max_bin': 48}. Best is trial 150 with value: 0.724385588302024.\n",
            "[I 2023-06-18 20:02:36,550] Trial 255 finished with value: 0.7219572080856443 and parameters: {'num_leaves': 41, 'n_estimators': 192, 'max_depth': 3, 'max_bin': 48}. Best is trial 150 with value: 0.724385588302024.\n",
            "[I 2023-06-18 20:02:36,756] Trial 256 finished with value: 0.7215439565837223 and parameters: {'num_leaves': 40, 'n_estimators': 180, 'max_depth': 3, 'max_bin': 48}. Best is trial 150 with value: 0.724385588302024.\n",
            "[I 2023-06-18 20:02:37,130] Trial 257 finished with value: 0.7222167991020629 and parameters: {'num_leaves': 41, 'n_estimators': 194, 'max_depth': 3, 'max_bin': 48}. Best is trial 150 with value: 0.724385588302024.\n",
            "[I 2023-06-18 20:02:37,231] Trial 258 finished with value: 0.724110008116285 and parameters: {'num_leaves': 41, 'n_estimators': 189, 'max_depth': 3, 'max_bin': 50}. Best is trial 150 with value: 0.724385588302024.\n",
            "[I 2023-06-18 20:02:37,278] Trial 259 finished with value: 0.7244320573964034 and parameters: {'num_leaves': 41, 'n_estimators': 181, 'max_depth': 3, 'max_bin': 50}. Best is trial 259 with value: 0.7244320573964034.\n",
            "[I 2023-06-18 20:02:37,510] Trial 260 finished with value: 0.7242575653074423 and parameters: {'num_leaves': 40, 'n_estimators': 190, 'max_depth': 3, 'max_bin': 50}. Best is trial 259 with value: 0.7244320573964034.\n",
            "[I 2023-06-18 20:02:37,951] Trial 261 finished with value: 0.7231941850442829 and parameters: {'num_leaves': 41, 'n_estimators': 269, 'max_depth': 3, 'max_bin': 50}. Best is trial 259 with value: 0.7244320573964034.\n",
            "[I 2023-06-18 20:02:37,996] Trial 262 finished with value: 0.7232096442868485 and parameters: {'num_leaves': 41, 'n_estimators': 268, 'max_depth': 3, 'max_bin': 50}. Best is trial 259 with value: 0.7244320573964034.\n",
            "[I 2023-06-18 20:02:38,242] Trial 263 finished with value: 0.7232096442868485 and parameters: {'num_leaves': 41, 'n_estimators': 268, 'max_depth': 3, 'max_bin': 50}. Best is trial 259 with value: 0.7244320573964034.\n",
            "[I 2023-06-18 20:02:38,346] Trial 266 finished with value: 0.7231939109442374 and parameters: {'num_leaves': 42, 'n_estimators': 276, 'max_depth': 2, 'max_bin': 50}. Best is trial 259 with value: 0.7244320573964034.\n",
            "[I 2023-06-18 20:02:38,478] Trial 264 finished with value: 0.7232187992283682 and parameters: {'num_leaves': 40, 'n_estimators': 265, 'max_depth': 3, 'max_bin': 50}. Best is trial 259 with value: 0.7244320573964034.\n",
            "[I 2023-06-18 20:02:38,545] Trial 271 finished with value: 0.7061550754995783 and parameters: {'num_leaves': 43, 'n_estimators': 10, 'max_depth': 4, 'max_bin': 50}. Best is trial 259 with value: 0.7244320573964034.\n",
            "[I 2023-06-18 20:02:38,977] Trial 267 finished with value: 0.723373519567381 and parameters: {'num_leaves': 42, 'n_estimators': 157, 'max_depth': 4, 'max_bin': 50}. Best is trial 259 with value: 0.7244320573964034.\n",
            "[I 2023-06-18 20:02:39,193] Trial 269 finished with value: 0.722743765576192 and parameters: {'num_leaves': 43, 'n_estimators': 111, 'max_depth': 4, 'max_bin': 50}. Best is trial 259 with value: 0.7244320573964034.\n",
            "[I 2023-06-18 20:02:39,384] Trial 268 finished with value: 0.7229342651078098 and parameters: {'num_leaves': 41, 'n_estimators': 165, 'max_depth': 4, 'max_bin': 50}. Best is trial 259 with value: 0.7244320573964034.\n",
            "[I 2023-06-18 20:02:39,753] Trial 270 finished with value: 0.7225099216907135 and parameters: {'num_leaves': 42, 'n_estimators': 174, 'max_depth': 4, 'max_bin': 50}. Best is trial 259 with value: 0.7244320573964034.\n",
            "[I 2023-06-18 20:02:39,773] Trial 273 finished with value: 0.7227311204274265 and parameters: {'num_leaves': 43, 'n_estimators': 132, 'max_depth': 4, 'max_bin': 46}. Best is trial 259 with value: 0.7244320573964034.\n",
            "[I 2023-06-18 20:02:39,908] Trial 272 finished with value: 0.7230382952117427 and parameters: {'num_leaves': 46, 'n_estimators': 149, 'max_depth': 4, 'max_bin': 50}. Best is trial 259 with value: 0.7244320573964034.\n",
            "[I 2023-06-18 20:02:40,104] Trial 274 finished with value: 0.7215459118307134 and parameters: {'num_leaves': 43, 'n_estimators': 159, 'max_depth': 4, 'max_bin': 49}. Best is trial 259 with value: 0.7244320573964034.\n",
            "[I 2023-06-18 20:02:40,237] Trial 277 finished with value: 0.723169790140234 and parameters: {'num_leaves': 47, 'n_estimators': 131, 'max_depth': 3, 'max_bin': 49}. Best is trial 259 with value: 0.7244320573964034.\n",
            "[I 2023-06-18 20:02:40,559] Trial 275 finished with value: 0.721999309852632 and parameters: {'num_leaves': 40, 'n_estimators': 158, 'max_depth': 4, 'max_bin': 46}. Best is trial 259 with value: 0.7244320573964034.\n",
            "[I 2023-06-18 20:02:40,791] Trial 279 finished with value: 0.7233713815870261 and parameters: {'num_leaves': 46, 'n_estimators': 153, 'max_depth': 3, 'max_bin': 49}. Best is trial 259 with value: 0.7244320573964034.\n",
            "[I 2023-06-18 20:02:40,907] Trial 280 finished with value: 0.7234287964098888 and parameters: {'num_leaves': 39, 'n_estimators': 156, 'max_depth': 3, 'max_bin': 49}. Best is trial 259 with value: 0.7244320573964034.\n",
            "[I 2023-06-18 20:02:41,020] Trial 278 finished with value: 0.7229170516249528 and parameters: {'num_leaves': 46, 'n_estimators': 199, 'max_depth': 3, 'max_bin': 47}. Best is trial 259 with value: 0.7244320573964034.\n",
            "[I 2023-06-18 20:02:41,335] Trial 281 finished with value: 0.7228527660276163 and parameters: {'num_leaves': 40, 'n_estimators': 203, 'max_depth': 3, 'max_bin': 47}. Best is trial 259 with value: 0.7244320573964034.\n",
            "[I 2023-06-18 20:02:41,469] Trial 276 finished with value: 0.7211292980349 and parameters: {'num_leaves': 47, 'n_estimators': 131, 'max_depth': 5, 'max_bin': 46}. Best is trial 259 with value: 0.7244320573964034.\n",
            "[I 2023-06-18 20:02:41,552] Trial 282 finished with value: 0.7226370310184769 and parameters: {'num_leaves': 40, 'n_estimators': 205, 'max_depth': 3, 'max_bin': 47}. Best is trial 259 with value: 0.7244320573964034.\n",
            "[I 2023-06-18 20:02:41,575] Trial 286 finished with value: 0.7217492118344557 and parameters: {'num_leaves': 36, 'n_estimators': 76, 'max_depth': 3, 'max_bin': 49}. Best is trial 259 with value: 0.7244320573964034.\n",
            "[I 2023-06-18 20:02:41,810] Trial 283 finished with value: 0.7225807674158052 and parameters: {'num_leaves': 39, 'n_estimators': 206, 'max_depth': 3, 'max_bin': 47}. Best is trial 259 with value: 0.7244320573964034.\n",
            "[I 2023-06-18 20:02:42,010] Trial 288 finished with value: 0.7215376888293487 and parameters: {'num_leaves': 37, 'n_estimators': 94, 'max_depth': 3, 'max_bin': 49}. Best is trial 259 with value: 0.7244320573964034.\n",
            "[I 2023-06-18 20:02:42,371] Trial 290 finished with value: 0.7232975390347702 and parameters: {'num_leaves': 37, 'n_estimators': 168, 'max_depth': 3, 'max_bin': 49}. Best is trial 259 with value: 0.7244320573964034.\n",
            "[I 2023-06-18 20:02:42,453] Trial 284 finished with value: 0.7191838638253432 and parameters: {'num_leaves': 46, 'n_estimators': 100, 'max_depth': 5, 'max_bin': 47}. Best is trial 259 with value: 0.7244320573964034.\n",
            "[I 2023-06-18 20:02:42,636] Trial 287 finished with value: 0.7224682584837985 and parameters: {'num_leaves': 36, 'n_estimators': 82, 'max_depth': 5, 'max_bin': 49}. Best is trial 259 with value: 0.7244320573964034.\n",
            "[I 2023-06-18 20:02:42,693] Trial 292 finished with value: 0.723351865663787 and parameters: {'num_leaves': 45, 'n_estimators': 141, 'max_depth': 3, 'max_bin': 49}. Best is trial 259 with value: 0.7244320573964034.\n",
            "[I 2023-06-18 20:02:43,160] Trial 265 finished with value: 0.7159080941816528 and parameters: {'num_leaves': 36, 'n_estimators': 259, 'max_depth': 8, 'max_bin': 50}. Best is trial 259 with value: 0.7244320573964034.\n",
            "[I 2023-06-18 20:02:43,241] Trial 293 finished with value: 0.7234978330746803 and parameters: {'num_leaves': 36, 'n_estimators': 161, 'max_depth': 3, 'max_bin': 49}. Best is trial 259 with value: 0.7244320573964034.\n",
            "[I 2023-06-18 20:02:43,417] Trial 294 finished with value: 0.723356397451206 and parameters: {'num_leaves': 36, 'n_estimators': 165, 'max_depth': 3, 'max_bin': 49}. Best is trial 259 with value: 0.7244320573964034.\n",
            "[I 2023-06-18 20:02:43,556] Trial 296 finished with value: 0.7219396108627236 and parameters: {'num_leaves': 45, 'n_estimators': 141, 'max_depth': 3, 'max_bin': 48}. Best is trial 259 with value: 0.7244320573964034.\n",
            "[I 2023-06-18 20:02:43,693] Trial 295 finished with value: 0.7232975390347702 and parameters: {'num_leaves': 32, 'n_estimators': 168, 'max_depth': 3, 'max_bin': 49}. Best is trial 259 with value: 0.7244320573964034.\n",
            "[I 2023-06-18 20:02:43,741] Trial 297 finished with value: 0.7201748999498286 and parameters: {'num_leaves': 49, 'n_estimators': 150, 'max_depth': 2, 'max_bin': 48}. Best is trial 259 with value: 0.7244320573964034.\n",
            "[I 2023-06-18 20:02:43,796] Trial 298 finished with value: 0.7201748999498286 and parameters: {'num_leaves': 49, 'n_estimators': 150, 'max_depth': 2, 'max_bin': 48}. Best is trial 259 with value: 0.7244320573964034.\n",
            "[I 2023-06-18 20:02:43,902] Trial 285 finished with value: 0.7180677649867673 and parameters: {'num_leaves': 36, 'n_estimators': 119, 'max_depth': 9, 'max_bin': 47}. Best is trial 259 with value: 0.7244320573964034.\n",
            "[I 2023-06-18 20:02:44,015] Trial 289 finished with value: 0.7190788104145738 and parameters: {'num_leaves': 36, 'n_estimators': 113, 'max_depth': 9, 'max_bin': 49}. Best is trial 259 with value: 0.7244320573964034.\n",
            "[I 2023-06-18 20:02:44,062] Trial 299 finished with value: 0.7218018664531951 and parameters: {'num_leaves': 31, 'n_estimators': 163, 'max_depth': 3, 'max_bin': 48}. Best is trial 259 with value: 0.7244320573964034.\n",
            "[I 2023-06-18 20:02:44,282] Trial 291 finished with value: 0.7167128153685484 and parameters: {'num_leaves': 37, 'n_estimators': 173, 'max_depth': 8, 'max_bin': 49}. Best is trial 259 with value: 0.7244320573964034.\n"
          ]
        }
      ],
      "source": [
        "study = optuna.create_study(direction='maximize')\n",
        "study.optimize(objective_lgmb, n_trials=300, n_jobs=-1)"
      ]
    },
    {
      "cell_type": "code",
      "execution_count": 57,
      "metadata": {
        "id": "fpPS4-E-2Ycm"
      },
      "outputs": [
        {
          "data": {
            "text/plain": [
              "{'num_leaves': 41, 'n_estimators': 181, 'max_depth': 3, 'max_bin': 50}"
            ]
          },
          "execution_count": 57,
          "metadata": {},
          "output_type": "execute_result"
        }
      ],
      "source": [
        "study.best_params"
      ]
    },
    {
      "attachments": {},
      "cell_type": "markdown",
      "metadata": {
        "id": "VSWz4A5w7mpW"
      },
      "source": [
        "Обучите модель с найденными гиперпараметрами на Xtrain, ytrain и оцените ROC-AUC на тестовых данных."
      ]
    },
    {
      "cell_type": "code",
      "execution_count": 58,
      "metadata": {
        "id": "C2i6MY720D1Y"
      },
      "outputs": [
        {
          "data": {
            "text/html": [
              "<style>#sk-container-id-6 {color: black;background-color: white;}#sk-container-id-6 pre{padding: 0;}#sk-container-id-6 div.sk-toggleable {background-color: white;}#sk-container-id-6 label.sk-toggleable__label {cursor: pointer;display: block;width: 100%;margin-bottom: 0;padding: 0.3em;box-sizing: border-box;text-align: center;}#sk-container-id-6 label.sk-toggleable__label-arrow:before {content: \"▸\";float: left;margin-right: 0.25em;color: #696969;}#sk-container-id-6 label.sk-toggleable__label-arrow:hover:before {color: black;}#sk-container-id-6 div.sk-estimator:hover label.sk-toggleable__label-arrow:before {color: black;}#sk-container-id-6 div.sk-toggleable__content {max-height: 0;max-width: 0;overflow: hidden;text-align: left;background-color: #f0f8ff;}#sk-container-id-6 div.sk-toggleable__content pre {margin: 0.2em;color: black;border-radius: 0.25em;background-color: #f0f8ff;}#sk-container-id-6 input.sk-toggleable__control:checked~div.sk-toggleable__content {max-height: 200px;max-width: 100%;overflow: auto;}#sk-container-id-6 input.sk-toggleable__control:checked~label.sk-toggleable__label-arrow:before {content: \"▾\";}#sk-container-id-6 div.sk-estimator input.sk-toggleable__control:checked~label.sk-toggleable__label {background-color: #d4ebff;}#sk-container-id-6 div.sk-label input.sk-toggleable__control:checked~label.sk-toggleable__label {background-color: #d4ebff;}#sk-container-id-6 input.sk-hidden--visually {border: 0;clip: rect(1px 1px 1px 1px);clip: rect(1px, 1px, 1px, 1px);height: 1px;margin: -1px;overflow: hidden;padding: 0;position: absolute;width: 1px;}#sk-container-id-6 div.sk-estimator {font-family: monospace;background-color: #f0f8ff;border: 1px dotted black;border-radius: 0.25em;box-sizing: border-box;margin-bottom: 0.5em;}#sk-container-id-6 div.sk-estimator:hover {background-color: #d4ebff;}#sk-container-id-6 div.sk-parallel-item::after {content: \"\";width: 100%;border-bottom: 1px solid gray;flex-grow: 1;}#sk-container-id-6 div.sk-label:hover label.sk-toggleable__label {background-color: #d4ebff;}#sk-container-id-6 div.sk-serial::before {content: \"\";position: absolute;border-left: 1px solid gray;box-sizing: border-box;top: 0;bottom: 0;left: 50%;z-index: 0;}#sk-container-id-6 div.sk-serial {display: flex;flex-direction: column;align-items: center;background-color: white;padding-right: 0.2em;padding-left: 0.2em;position: relative;}#sk-container-id-6 div.sk-item {position: relative;z-index: 1;}#sk-container-id-6 div.sk-parallel {display: flex;align-items: stretch;justify-content: center;background-color: white;position: relative;}#sk-container-id-6 div.sk-item::before, #sk-container-id-6 div.sk-parallel-item::before {content: \"\";position: absolute;border-left: 1px solid gray;box-sizing: border-box;top: 0;bottom: 0;left: 50%;z-index: -1;}#sk-container-id-6 div.sk-parallel-item {display: flex;flex-direction: column;z-index: 1;position: relative;background-color: white;}#sk-container-id-6 div.sk-parallel-item:first-child::after {align-self: flex-end;width: 50%;}#sk-container-id-6 div.sk-parallel-item:last-child::after {align-self: flex-start;width: 50%;}#sk-container-id-6 div.sk-parallel-item:only-child::after {width: 0;}#sk-container-id-6 div.sk-dashed-wrapped {border: 1px dashed gray;margin: 0 0.4em 0.5em 0.4em;box-sizing: border-box;padding-bottom: 0.4em;background-color: white;}#sk-container-id-6 div.sk-label label {font-family: monospace;font-weight: bold;display: inline-block;line-height: 1.2em;}#sk-container-id-6 div.sk-label-container {text-align: center;}#sk-container-id-6 div.sk-container {/* jupyter's `normalize.less` sets `[hidden] { display: none; }` but bootstrap.min.css set `[hidden] { display: none !important; }` so we also need the `!important` here to be able to override the default hidden behavior on the sphinx rendered scikit-learn.org. See: https://github.com/scikit-learn/scikit-learn/issues/21755 */display: inline-block !important;position: relative;}#sk-container-id-6 div.sk-text-repr-fallback {display: none;}</style><div id=\"sk-container-id-6\" class=\"sk-top-container\"><div class=\"sk-text-repr-fallback\"><pre>LGBMClassifier(max_bin=50, max_depth=3, n_estimators=181, num_leaves=41,\n",
              "               random_state=111)</pre><b>In a Jupyter environment, please rerun this cell to show the HTML representation or trust the notebook. <br />On GitHub, the HTML representation is unable to render, please try loading this page with nbviewer.org.</b></div><div class=\"sk-container\" hidden><div class=\"sk-item\"><div class=\"sk-estimator sk-toggleable\"><input class=\"sk-toggleable__control sk-hidden--visually\" id=\"sk-estimator-id-6\" type=\"checkbox\" checked><label for=\"sk-estimator-id-6\" class=\"sk-toggleable__label sk-toggleable__label-arrow\">LGBMClassifier</label><div class=\"sk-toggleable__content\"><pre>LGBMClassifier(max_bin=50, max_depth=3, n_estimators=181, num_leaves=41,\n",
              "               random_state=111)</pre></div></div></div></div></div>"
            ],
            "text/plain": [
              "LGBMClassifier(max_bin=50, max_depth=3, n_estimators=181, num_leaves=41,\n",
              "               random_state=111)"
            ]
          },
          "execution_count": 58,
          "metadata": {},
          "output_type": "execute_result"
        }
      ],
      "source": [
        "# your code here\n",
        "lgbm.set_params(**study.best_params)\n",
        "lgbm.fit(Xtrain, ytrain)"
      ]
    },
    {
      "cell_type": "code",
      "execution_count": 59,
      "metadata": {},
      "outputs": [
        {
          "name": "stdout",
          "output_type": "stream",
          "text": [
            "opt: 0.732418702370703\n",
            "def: 0.7341149074685321\n"
          ]
        }
      ],
      "source": [
        "lgbm_pred = lgbm.predict_proba(Xtest)[:,1]\n",
        "score_lgbm = roc_auc_score(ytest, lgbm_pred)\n",
        "print(f'opt: {score_lgbm}\\ndef: {score_lgbm_def}')"
      ]
    },
    {
      "attachments": {},
      "cell_type": "markdown",
      "metadata": {
        "id": "bP4nfUCA5gnm"
      },
      "source": [
        "## Quiz\n",
        "\n",
        "Чему равно количество листьев в LGBM после подбора гиперпараметров?"
      ]
    },
    {
      "attachments": {},
      "cell_type": "markdown",
      "metadata": {
        "id": "pPVSkXK76b17"
      },
      "source": [
        "## Работа над улучшением модели\n",
        "\n",
        "* Попробуйте при помощи Optuna подобрать и другие гиперпарамтеры\n",
        "* Также подберите гиперпараметры у CatBoost (а не только у LightGBM)"
      ]
    },
    {
      "cell_type": "code",
      "execution_count": null,
      "metadata": {
        "id": "NTjHyWL-6lm-"
      },
      "outputs": [],
      "source": [
        "# your code here"
      ]
    },
    {
      "attachments": {},
      "cell_type": "markdown",
      "metadata": {
        "id": "3kJk1Czm6nJg"
      },
      "source": [
        "## Quiz\n",
        "\n",
        "Поделитесь своими результатами!"
      ]
    }
  ],
  "metadata": {
    "colab": {
      "provenance": []
    },
    "kernelspec": {
      "display_name": "Python 3",
      "name": "python3"
    },
    "language_info": {
      "codemirror_mode": {
        "name": "ipython",
        "version": 3
      },
      "file_extension": ".py",
      "mimetype": "text/x-python",
      "name": "python",
      "nbconvert_exporter": "python",
      "pygments_lexer": "ipython3",
      "version": "3.9.16"
    }
  },
  "nbformat": 4,
  "nbformat_minor": 0
}
