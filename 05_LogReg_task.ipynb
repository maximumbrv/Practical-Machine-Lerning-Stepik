{
  "cells": [
    {
      "attachments": {},
      "cell_type": "markdown",
      "metadata": {
        "id": "peyKH6cGW0lN"
      },
      "source": [
        "# Логистическая регрессия"
      ]
    },
    {
      "attachments": {},
      "cell_type": "markdown",
      "metadata": {
        "id": "Q7ytv2GMjpGZ"
      },
      "source": [
        "Обучим логистическую регрессию для предсказания того, откликнется клиент\n",
        "на рекламное предложение (target = 1) или нет (target = 0)."
      ]
    },
    {
      "attachments": {},
      "cell_type": "markdown",
      "metadata": {
        "id": "x3mt2yCHYO0-"
      },
      "source": [
        "## Подлючение библиотек, загрузка и обзор данных"
      ]
    },
    {
      "cell_type": "code",
      "execution_count": 1,
      "metadata": {
        "id": "aPDB2wP8jndz"
      },
      "outputs": [],
      "source": [
        "import matplotlib.pyplot as plt\n",
        "import numpy as np\n",
        "import pandas as pd\n",
        "\n",
        "import warnings\n",
        "warnings.filterwarnings(\"ignore\")"
      ]
    },
    {
      "cell_type": "code",
      "execution_count": 2,
      "metadata": {
        "id": "7Zw7RmtAjn8O"
      },
      "outputs": [],
      "source": [
        "data = pd.read_csv('https://raw.githubusercontent.com/evgpat/edu_stepik_practical_ml/main/datasets/clients_data.csv')"
      ]
    },
    {
      "cell_type": "code",
      "execution_count": 3,
      "metadata": {
        "id": "3QbRGWqJjxOv"
      },
      "outputs": [
        {
          "data": {
            "text/html": [
              "<div>\n",
              "<style scoped>\n",
              "    .dataframe tbody tr th:only-of-type {\n",
              "        vertical-align: middle;\n",
              "    }\n",
              "\n",
              "    .dataframe tbody tr th {\n",
              "        vertical-align: top;\n",
              "    }\n",
              "\n",
              "    .dataframe thead th {\n",
              "        text-align: right;\n",
              "    }\n",
              "</style>\n",
              "<table border=\"1\" class=\"dataframe\">\n",
              "  <thead>\n",
              "    <tr style=\"text-align: right;\">\n",
              "      <th></th>\n",
              "      <th>AGE</th>\n",
              "      <th>SOCSTATUS_WORK_FL</th>\n",
              "      <th>SOCSTATUS_PENS_FL</th>\n",
              "      <th>GENDER</th>\n",
              "      <th>CHILD_TOTAL</th>\n",
              "      <th>DEPENDANTS</th>\n",
              "      <th>PERSONAL_INCOME</th>\n",
              "      <th>LOAN_NUM_TOTAL</th>\n",
              "      <th>LOAN_NUM_CLOSED</th>\n",
              "      <th>LOAN_DLQ_NUM</th>\n",
              "      <th>TARGET</th>\n",
              "    </tr>\n",
              "  </thead>\n",
              "  <tbody>\n",
              "    <tr>\n",
              "      <th>0</th>\n",
              "      <td>49</td>\n",
              "      <td>1</td>\n",
              "      <td>0</td>\n",
              "      <td>1</td>\n",
              "      <td>2</td>\n",
              "      <td>1</td>\n",
              "      <td>5000.0</td>\n",
              "      <td>1</td>\n",
              "      <td>1</td>\n",
              "      <td>2</td>\n",
              "      <td>0</td>\n",
              "    </tr>\n",
              "    <tr>\n",
              "      <th>1</th>\n",
              "      <td>32</td>\n",
              "      <td>1</td>\n",
              "      <td>0</td>\n",
              "      <td>1</td>\n",
              "      <td>3</td>\n",
              "      <td>3</td>\n",
              "      <td>12000.0</td>\n",
              "      <td>1</td>\n",
              "      <td>1</td>\n",
              "      <td>1</td>\n",
              "      <td>0</td>\n",
              "    </tr>\n",
              "    <tr>\n",
              "      <th>2</th>\n",
              "      <td>52</td>\n",
              "      <td>1</td>\n",
              "      <td>0</td>\n",
              "      <td>1</td>\n",
              "      <td>4</td>\n",
              "      <td>0</td>\n",
              "      <td>9000.0</td>\n",
              "      <td>2</td>\n",
              "      <td>1</td>\n",
              "      <td>0</td>\n",
              "      <td>0</td>\n",
              "    </tr>\n",
              "    <tr>\n",
              "      <th>3</th>\n",
              "      <td>39</td>\n",
              "      <td>1</td>\n",
              "      <td>0</td>\n",
              "      <td>1</td>\n",
              "      <td>1</td>\n",
              "      <td>1</td>\n",
              "      <td>25000.0</td>\n",
              "      <td>1</td>\n",
              "      <td>1</td>\n",
              "      <td>3</td>\n",
              "      <td>0</td>\n",
              "    </tr>\n",
              "    <tr>\n",
              "      <th>4</th>\n",
              "      <td>30</td>\n",
              "      <td>1</td>\n",
              "      <td>0</td>\n",
              "      <td>0</td>\n",
              "      <td>0</td>\n",
              "      <td>0</td>\n",
              "      <td>12000.0</td>\n",
              "      <td>2</td>\n",
              "      <td>1</td>\n",
              "      <td>2</td>\n",
              "      <td>0</td>\n",
              "    </tr>\n",
              "  </tbody>\n",
              "</table>\n",
              "</div>"
            ],
            "text/plain": [
              "   AGE  SOCSTATUS_WORK_FL  SOCSTATUS_PENS_FL  GENDER  CHILD_TOTAL  DEPENDANTS  \\\n",
              "0   49                  1                  0       1            2           1   \n",
              "1   32                  1                  0       1            3           3   \n",
              "2   52                  1                  0       1            4           0   \n",
              "3   39                  1                  0       1            1           1   \n",
              "4   30                  1                  0       0            0           0   \n",
              "\n",
              "   PERSONAL_INCOME  LOAN_NUM_TOTAL  LOAN_NUM_CLOSED  LOAN_DLQ_NUM  TARGET  \n",
              "0           5000.0               1                1             2       0  \n",
              "1          12000.0               1                1             1       0  \n",
              "2           9000.0               2                1             0       0  \n",
              "3          25000.0               1                1             3       0  \n",
              "4          12000.0               2                1             2       0  "
            ]
          },
          "execution_count": 3,
          "metadata": {},
          "output_type": "execute_result"
        }
      ],
      "source": [
        "data.head()"
      ]
    },
    {
      "cell_type": "code",
      "execution_count": 4,
      "metadata": {
        "id": "bkG1LjB0s81d"
      },
      "outputs": [],
      "source": [
        "from sklearn.model_selection import train_test_split\n",
        "\n",
        "X = data.drop('TARGET', axis=1)\n",
        "y = data['TARGET']\n",
        "\n",
        "Xtrain, Xtest, ytrain, ytest = train_test_split(X, y, train_size=0.7, random_state=123)"
      ]
    },
    {
      "attachments": {},
      "cell_type": "markdown",
      "metadata": {
        "id": "C78zRrXtYLbZ"
      },
      "source": [
        "## Практика"
      ]
    },
    {
      "attachments": {},
      "cell_type": "markdown",
      "metadata": {
        "id": "-4z9iGIAmcNA"
      },
      "source": [
        "**Задание**\n",
        "Выведите на экран количество объектов каждого класса. Сколько процентов объектов относятся к положительному классу?\n",
        "Ответ округлите до целого числа (например, если доля объектов положительного класса равна 0.412, в ответ запишите 41,\n",
        "имея в виду 41 процент)."
      ]
    },
    {
      "cell_type": "code",
      "execution_count": 9,
      "metadata": {
        "id": "K2-WIJismssr"
      },
      "outputs": [
        {
          "data": {
            "text/plain": [
              "12"
            ]
          },
          "execution_count": 9,
          "metadata": {},
          "output_type": "execute_result"
        }
      ],
      "source": [
        "# ваш код здесь\n",
        "round((y.value_counts()[1] / len(y)) * 100)"
      ]
    },
    {
      "attachments": {},
      "cell_type": "markdown",
      "metadata": {
        "id": "zGmfshG9rmBn"
      },
      "source": [
        "Обучим логистическую регрессию с параметрами по умолчанию."
      ]
    },
    {
      "cell_type": "code",
      "execution_count": 10,
      "metadata": {
        "id": "7tOX78zbrPHB"
      },
      "outputs": [],
      "source": [
        "from sklearn.linear_model import LogisticRegression\n",
        "\n",
        "lr = LogisticRegression()"
      ]
    },
    {
      "cell_type": "code",
      "execution_count": 11,
      "metadata": {
        "id": "gvNVW51Erzpm"
      },
      "outputs": [],
      "source": [
        "lr.fit(Xtrain, ytrain)\n",
        "\n",
        "prediction = lr.predict(Xtest)"
      ]
    },
    {
      "cell_type": "code",
      "execution_count": 15,
      "metadata": {},
      "outputs": [
        {
          "data": {
            "text/plain": [
              "0    4567\n",
              "dtype: int64"
            ]
          },
          "execution_count": 15,
          "metadata": {},
          "output_type": "execute_result"
        }
      ],
      "source": [
        "pd.Series(prediction).value_counts()"
      ]
    },
    {
      "attachments": {},
      "cell_type": "markdown",
      "metadata": {
        "id": "R8QvDicCUicz"
      },
      "source": [
        "Метрику accuracy не стоит использовать при сильном дисбалансе классов. Поэтому посчитайте f1_score для оценки качества модели на тестовых данных.\n",
        "\n",
        "f1_score принимает значения от 0 до 1. Чем ближе к 1, тем лучше модель."
      ]
    },
    {
      "cell_type": "code",
      "execution_count": 16,
      "metadata": {
        "id": "gxnxFzSxlfmQ"
      },
      "outputs": [
        {
          "name": "stdout",
          "output_type": "stream",
          "text": [
            "f1: 0.0\n",
            "acc: 0.8776001751696957\n",
            "pre: 0.0\n",
            "rec: 0.0\n"
          ]
        }
      ],
      "source": [
        "from sklearn.metrics import f1_score, accuracy_score, precision_score, recall_score\n",
        "\n",
        "print('f1:', f1_score(ytest, prediction))\n",
        "print('acc:', accuracy_score(ytest, prediction))\n",
        "print('pre:', precision_score(ytest, prediction))\n",
        "print('rec:', recall_score(ytest, prediction))"
      ]
    },
    {
      "attachments": {},
      "cell_type": "markdown",
      "metadata": {
        "id": "czwpRRsHorHu"
      },
      "source": [
        "**Вопрос**\n",
        "Чему равен `f1_score`?"
      ]
    },
    {
      "attachments": {},
      "cell_type": "markdown",
      "metadata": {
        "id": "FF1I6KbTomdK"
      },
      "source": [
        "Удивительно, да?\n",
        "\n",
        "Давайте разберемся, почему качество такое низкое."
      ]
    },
    {
      "attachments": {},
      "cell_type": "markdown",
      "metadata": {
        "id": "CvWGh7m9sTKM"
      },
      "source": [
        "Предскажем вероятности классов с помощью обученной логистической регрессии на тестовых данных."
      ]
    },
    {
      "cell_type": "code",
      "execution_count": 62,
      "metadata": {
        "id": "LNqjcxrwsLzl"
      },
      "outputs": [
        {
          "data": {
            "text/plain": [
              "array([0.65876604, 0.02628033])"
            ]
          },
          "execution_count": 62,
          "metadata": {},
          "output_type": "execute_result"
        }
      ],
      "source": [
        "probs_test = lr.predict_proba(Xtest)\n",
        "\n",
        "probs_test.min(axis=0)"
      ]
    },
    {
      "attachments": {},
      "cell_type": "markdown",
      "metadata": {
        "id": "wmASiDk_pPfK"
      },
      "source": [
        "По вероятностям видно, что вероятности отнесения к положительному классу очень низкие.\n",
        "\n",
        "Попробуем изменить порог для перевода вероятности в классы."
      ]
    },
    {
      "attachments": {},
      "cell_type": "markdown",
      "metadata": {
        "id": "vJYfPb5yp1N6"
      },
      "source": [
        "**Вопрос**\n",
        "Чему равен `f1_score`, если все объекты с вероятностью не меньшей 0.1, относить к положительному классу?\n",
        "\n",
        "Ответ округлите до сотых."
      ]
    },
    {
      "cell_type": "code",
      "execution_count": 63,
      "metadata": {
        "id": "9A-GCeebqAdU"
      },
      "outputs": [
        {
          "data": {
            "text/plain": [
              "array([1, 1, 1, ..., 0, 0, 0])"
            ]
          },
          "execution_count": 63,
          "metadata": {},
          "output_type": "execute_result"
        }
      ],
      "source": [
        "# ваш код здесь\n",
        "prediction_10 = np.where(probs_test >= 0.1, 1, 0)[:, 1]\n",
        "prediction_10\n"
      ]
    },
    {
      "cell_type": "code",
      "execution_count": 64,
      "metadata": {},
      "outputs": [
        {
          "name": "stdout",
          "output_type": "stream",
          "text": [
            "f1: 0.2469521725539231\n",
            "acc: 0.4725202539960587\n",
            "pre: 0.14962121212121213\n",
            "rec: 0.7066189624329159\n"
          ]
        }
      ],
      "source": [
        "print('f1:', f1_score(ytest, prediction_10))\n",
        "print('acc:', accuracy_score(ytest, prediction_10))\n",
        "print('pre:', precision_score(ytest, prediction_10))\n",
        "print('rec:', recall_score(ytest, prediction_10))"
      ]
    },
    {
      "cell_type": "code",
      "execution_count": 65,
      "metadata": {},
      "outputs": [
        {
          "data": {
            "text/plain": [
              "0.25"
            ]
          },
          "execution_count": 65,
          "metadata": {},
          "output_type": "execute_result"
        }
      ],
      "source": [
        "round(f1_score(ytest, prediction_10), 2)"
      ]
    },
    {
      "attachments": {},
      "cell_type": "markdown",
      "metadata": {
        "id": "lIKKWKCFVBh1"
      },
      "source": [
        "У обученной модели можно посмотреть веса (как и в линейной регрессии).\n",
        "Выведем на экран веса модели (`model.coef_`, `model.intercept_`)."
      ]
    },
    {
      "cell_type": "code",
      "execution_count": 72,
      "metadata": {
        "id": "zZ6NmMGIVE_D"
      },
      "outputs": [
        {
          "data": {
            "text/plain": [
              "(array([-5.55214705e-02, -7.90868782e-04, -4.28172545e-04, -1.07248154e-03,\n",
              "        -1.34958177e-03, -4.95807875e-04,  1.13131722e-05, -1.80011616e-03,\n",
              "        -1.26843809e-03, -1.45283567e-05]),\n",
              " array([-0.00115086]))"
            ]
          },
          "execution_count": 72,
          "metadata": {},
          "output_type": "execute_result"
        }
      ],
      "source": [
        "lr.coef_[0], lr.intercept_"
      ]
    },
    {
      "cell_type": "code",
      "execution_count": 73,
      "metadata": {},
      "outputs": [
        {
          "data": {
            "text/html": [
              "<div>\n",
              "<style scoped>\n",
              "    .dataframe tbody tr th:only-of-type {\n",
              "        vertical-align: middle;\n",
              "    }\n",
              "\n",
              "    .dataframe tbody tr th {\n",
              "        vertical-align: top;\n",
              "    }\n",
              "\n",
              "    .dataframe thead th {\n",
              "        text-align: right;\n",
              "    }\n",
              "</style>\n",
              "<table border=\"1\" class=\"dataframe\">\n",
              "  <thead>\n",
              "    <tr style=\"text-align: right;\">\n",
              "      <th></th>\n",
              "      <th>feature</th>\n",
              "      <th>coefs</th>\n",
              "    </tr>\n",
              "  </thead>\n",
              "  <tbody>\n",
              "    <tr>\n",
              "      <th>0</th>\n",
              "      <td>AGE</td>\n",
              "      <td>-0.055521</td>\n",
              "    </tr>\n",
              "    <tr>\n",
              "      <th>1</th>\n",
              "      <td>SOCSTATUS_WORK_FL</td>\n",
              "      <td>-0.000791</td>\n",
              "    </tr>\n",
              "    <tr>\n",
              "      <th>2</th>\n",
              "      <td>SOCSTATUS_PENS_FL</td>\n",
              "      <td>-0.000428</td>\n",
              "    </tr>\n",
              "    <tr>\n",
              "      <th>3</th>\n",
              "      <td>GENDER</td>\n",
              "      <td>-0.001072</td>\n",
              "    </tr>\n",
              "    <tr>\n",
              "      <th>4</th>\n",
              "      <td>CHILD_TOTAL</td>\n",
              "      <td>-0.001350</td>\n",
              "    </tr>\n",
              "    <tr>\n",
              "      <th>5</th>\n",
              "      <td>DEPENDANTS</td>\n",
              "      <td>-0.000496</td>\n",
              "    </tr>\n",
              "    <tr>\n",
              "      <th>6</th>\n",
              "      <td>PERSONAL_INCOME</td>\n",
              "      <td>0.000011</td>\n",
              "    </tr>\n",
              "    <tr>\n",
              "      <th>7</th>\n",
              "      <td>LOAN_NUM_TOTAL</td>\n",
              "      <td>-0.001800</td>\n",
              "    </tr>\n",
              "    <tr>\n",
              "      <th>8</th>\n",
              "      <td>LOAN_NUM_CLOSED</td>\n",
              "      <td>-0.001268</td>\n",
              "    </tr>\n",
              "    <tr>\n",
              "      <th>9</th>\n",
              "      <td>LOAN_DLQ_NUM</td>\n",
              "      <td>-0.000015</td>\n",
              "    </tr>\n",
              "  </tbody>\n",
              "</table>\n",
              "</div>"
            ],
            "text/plain": [
              "             feature     coefs\n",
              "0                AGE -0.055521\n",
              "1  SOCSTATUS_WORK_FL -0.000791\n",
              "2  SOCSTATUS_PENS_FL -0.000428\n",
              "3             GENDER -0.001072\n",
              "4        CHILD_TOTAL -0.001350\n",
              "5         DEPENDANTS -0.000496\n",
              "6    PERSONAL_INCOME  0.000011\n",
              "7     LOAN_NUM_TOTAL -0.001800\n",
              "8    LOAN_NUM_CLOSED -0.001268\n",
              "9       LOAN_DLQ_NUM -0.000015"
            ]
          },
          "execution_count": 73,
          "metadata": {},
          "output_type": "execute_result"
        }
      ],
      "source": [
        "coefs = pd.DataFrame({'feature': X.columns, 'coefs': lr.coef_[0]})\n",
        "coefs"
      ]
    },
    {
      "cell_type": "code",
      "execution_count": 78,
      "metadata": {},
      "outputs": [
        {
          "data": {
            "text/html": [
              "<div>\n",
              "<style scoped>\n",
              "    .dataframe tbody tr th:only-of-type {\n",
              "        vertical-align: middle;\n",
              "    }\n",
              "\n",
              "    .dataframe tbody tr th {\n",
              "        vertical-align: top;\n",
              "    }\n",
              "\n",
              "    .dataframe thead th {\n",
              "        text-align: right;\n",
              "    }\n",
              "</style>\n",
              "<table border=\"1\" class=\"dataframe\">\n",
              "  <thead>\n",
              "    <tr style=\"text-align: right;\">\n",
              "      <th></th>\n",
              "      <th>feature</th>\n",
              "      <th>coefs</th>\n",
              "    </tr>\n",
              "  </thead>\n",
              "  <tbody>\n",
              "    <tr>\n",
              "      <th>0</th>\n",
              "      <td>AGE</td>\n",
              "      <td>-0.055521</td>\n",
              "    </tr>\n",
              "    <tr>\n",
              "      <th>7</th>\n",
              "      <td>LOAN_NUM_TOTAL</td>\n",
              "      <td>-0.001800</td>\n",
              "    </tr>\n",
              "    <tr>\n",
              "      <th>4</th>\n",
              "      <td>CHILD_TOTAL</td>\n",
              "      <td>-0.001350</td>\n",
              "    </tr>\n",
              "    <tr>\n",
              "      <th>8</th>\n",
              "      <td>LOAN_NUM_CLOSED</td>\n",
              "      <td>-0.001268</td>\n",
              "    </tr>\n",
              "    <tr>\n",
              "      <th>3</th>\n",
              "      <td>GENDER</td>\n",
              "      <td>-0.001072</td>\n",
              "    </tr>\n",
              "    <tr>\n",
              "      <th>1</th>\n",
              "      <td>SOCSTATUS_WORK_FL</td>\n",
              "      <td>-0.000791</td>\n",
              "    </tr>\n",
              "    <tr>\n",
              "      <th>5</th>\n",
              "      <td>DEPENDANTS</td>\n",
              "      <td>-0.000496</td>\n",
              "    </tr>\n",
              "    <tr>\n",
              "      <th>2</th>\n",
              "      <td>SOCSTATUS_PENS_FL</td>\n",
              "      <td>-0.000428</td>\n",
              "    </tr>\n",
              "    <tr>\n",
              "      <th>9</th>\n",
              "      <td>LOAN_DLQ_NUM</td>\n",
              "      <td>-0.000015</td>\n",
              "    </tr>\n",
              "    <tr>\n",
              "      <th>6</th>\n",
              "      <td>PERSONAL_INCOME</td>\n",
              "      <td>0.000011</td>\n",
              "    </tr>\n",
              "  </tbody>\n",
              "</table>\n",
              "</div>"
            ],
            "text/plain": [
              "             feature     coefs\n",
              "0                AGE -0.055521\n",
              "7     LOAN_NUM_TOTAL -0.001800\n",
              "4        CHILD_TOTAL -0.001350\n",
              "8    LOAN_NUM_CLOSED -0.001268\n",
              "3             GENDER -0.001072\n",
              "1  SOCSTATUS_WORK_FL -0.000791\n",
              "5         DEPENDANTS -0.000496\n",
              "2  SOCSTATUS_PENS_FL -0.000428\n",
              "9       LOAN_DLQ_NUM -0.000015\n",
              "6    PERSONAL_INCOME  0.000011"
            ]
          },
          "execution_count": 78,
          "metadata": {},
          "output_type": "execute_result"
        }
      ],
      "source": [
        "coefs.sort_values('coefs')"
      ]
    },
    {
      "attachments": {},
      "cell_type": "markdown",
      "metadata": {
        "id": "OVnkivI5qOLH"
      },
      "source": [
        "Создайте `pd.DataFrame`, где в первом столбце стоят названия признаков, а во втором - их веса (так удобнее анализировать результат).\n",
        "Отсортируйте таблицу по убыванию весов.\n",
        "\n",
        "**Вопрос**\n",
        "Какой признак имеет наибольший положительный вес?"
      ]
    },
    {
      "cell_type": "code",
      "execution_count": null,
      "metadata": {
        "id": "0IhVjQWnqUi2"
      },
      "outputs": [],
      "source": [
        "# ваш код здесь"
      ]
    },
    {
      "attachments": {},
      "cell_type": "markdown",
      "metadata": {
        "id": "WNWrbhnLYFnZ"
      },
      "source": [
        "## Бонус"
      ]
    },
    {
      "attachments": {},
      "cell_type": "markdown",
      "metadata": {
        "id": "dFsZU0ya2i70"
      },
      "source": [
        "**Задание 1**\n",
        "Подберите порог для перевода вероятностей в классы, дающий максимальное значение `f1_score`."
      ]
    },
    {
      "cell_type": "code",
      "execution_count": null,
      "metadata": {
        "id": "myf1uNxR2vJ6"
      },
      "outputs": [],
      "source": [
        "# ваш код здесь"
      ]
    },
    {
      "attachments": {},
      "cell_type": "markdown",
      "metadata": {
        "id": "rlW4fTH_2xU7"
      },
      "source": [
        "**Задание 2**\n",
        "Во вложенном цикле подберите одновременно коэффициент регуляризации `C` у логистической регрессии и порог для перевода вероятностей в классы, дающие максимальное значение `f1_score`.\n",
        "\n",
        "По-хорошему, чтобы не переобучиться, эти величины надо подбирать не по тесту, а по отдельной выборке.\n",
        "\n",
        "Поэтому разобъем данные изначально на три части: `Xtrain`, `Xval`, `Xtest`.\n",
        "\n",
        "*   В цикле при подборе `С` и порога будем обучаться по `Xtrain`, а предсказывать и измерять качество по `Xval`.\n",
        "\n",
        "*   Качество итоговой модели с найденными `C` и порогом измерьте по `Xtest`.\n",
        "\n",
        "Так не переобучимся!\n"
      ]
    },
    {
      "cell_type": "code",
      "execution_count": 79,
      "metadata": {
        "id": "euwCnWE_3Gke"
      },
      "outputs": [],
      "source": [
        "Xtrain_new, Xval, ytrain_new, yval = train_test_split(Xtrain, ytrain, train_size=0.7, random_state=123)\n",
        "\n",
        "# ваш код для подбора C и порога здесь"
      ]
    },
    {
      "cell_type": "code",
      "execution_count": 84,
      "metadata": {
        "id": "AVvUBwZ64Cbd"
      },
      "outputs": [
        {
          "name": "stdout",
          "output_type": "stream",
          "text": [
            "C: 0.01, prob: 0.05, f1: 0.21716848174247275\n",
            "C: 0.01, prob: 0.1, f1: 0.22916666666666666\n",
            "C: 0.01, prob: 0.15, f1: 0.2192691029900332\n",
            "C: 0.01, prob: 0.2, f1: 0.2042175360710322\n",
            "C: 0.01, prob: 0.25, f1: 0.07459207459207459\n",
            "C: 0.01, prob: 0.3, f1: 0.0056022408963585435\n",
            "C: 0.01, prob: 0.35, f1: 0.0\n",
            "C: 0.1, prob: 0.05, f1: 0.21723806472284526\n",
            "C: 0.1, prob: 0.1, f1: 0.22927050294517445\n",
            "C: 0.1, prob: 0.15, f1: 0.2192691029900332\n",
            "C: 0.1, prob: 0.2, f1: 0.2042175360710322\n",
            "C: 0.1, prob: 0.25, f1: 0.07459207459207459\n",
            "C: 0.1, prob: 0.3, f1: 0.0056022408963585435\n",
            "C: 0.1, prob: 0.35, f1: 0.0\n",
            "C: 1, prob: 0.05, f1: 0.21723806472284526\n",
            "C: 1, prob: 0.1, f1: 0.22927050294517445\n",
            "C: 1, prob: 0.15, f1: 0.2192691029900332\n",
            "C: 1, prob: 0.2, f1: 0.2042175360710322\n",
            "C: 1, prob: 0.25, f1: 0.07459207459207459\n",
            "C: 1, prob: 0.3, f1: 0.0056022408963585435\n",
            "C: 1, prob: 0.35, f1: 0.0\n",
            "C: 10, prob: 0.05, f1: 0.21723806472284526\n",
            "C: 10, prob: 0.1, f1: 0.22927050294517445\n",
            "C: 10, prob: 0.15, f1: 0.2192691029900332\n",
            "C: 10, prob: 0.2, f1: 0.2042175360710322\n",
            "C: 10, prob: 0.25, f1: 0.07459207459207459\n",
            "C: 10, prob: 0.3, f1: 0.0056022408963585435\n",
            "C: 10, prob: 0.35, f1: 0.0\n",
            "C: 100, prob: 0.05, f1: 0.21723806472284526\n",
            "C: 100, prob: 0.1, f1: 0.22927050294517445\n",
            "C: 100, prob: 0.15, f1: 0.2192691029900332\n",
            "C: 100, prob: 0.2, f1: 0.2042175360710322\n",
            "C: 100, prob: 0.25, f1: 0.07459207459207459\n",
            "C: 100, prob: 0.3, f1: 0.0056022408963585435\n",
            "C: 100, prob: 0.35, f1: 0.0\n",
            "C: 1000, prob: 0.05, f1: 0.21723806472284526\n",
            "C: 1000, prob: 0.1, f1: 0.22927050294517445\n",
            "C: 1000, prob: 0.15, f1: 0.2192691029900332\n",
            "C: 1000, prob: 0.2, f1: 0.2042175360710322\n",
            "C: 1000, prob: 0.25, f1: 0.07459207459207459\n",
            "C: 1000, prob: 0.3, f1: 0.0056022408963585435\n",
            "C: 1000, prob: 0.35, f1: 0.0\n",
            "C: 10000, prob: 0.05, f1: 0.21723806472284526\n",
            "C: 10000, prob: 0.1, f1: 0.22927050294517445\n",
            "C: 10000, prob: 0.15, f1: 0.2192691029900332\n",
            "C: 10000, prob: 0.2, f1: 0.2042175360710322\n",
            "C: 10000, prob: 0.25, f1: 0.07459207459207459\n",
            "C: 10000, prob: 0.3, f1: 0.0056022408963585435\n",
            "C: 10000, prob: 0.35, f1: 0.0\n",
            "{'C': 0.1, 'prob': 0.1, 'f1': 0.22927050294517445}\n"
          ]
        }
      ],
      "source": [
        "params = {'C': [0.01, 0.1, 1, 10, 100, 1000, 10000], 'prob': [0.05, 0.1, 0.15, 0.20, 0.25, 0.30, 0.35]}\n",
        "best_params = {'C': 0, 'prob': 0, 'f1': -1}\n",
        "for C in params['C']:\n",
        "    for prob in params['prob']:\n",
        "        model = LogisticRegression(C=C)\n",
        "        model.fit(Xtrain, ytrain) # обучаемся на всех тренировочных данных\n",
        "        prediction = model.predict_proba(Xval)\n",
        "        classes = np.where(prediction >= prob, 1, 0)[:, 1] # переведите полученные вероятности в классы по найденному порогу\n",
        "        f1 = f1_score(yval, classes)\n",
        "        if f1 > best_params['f1']:\n",
        "            best_params['C'] = C\n",
        "            best_params['prob'] = prob\n",
        "            best_params['f1'] = f1\n",
        "        print(f'C: {C}, prob: {prob}, f1: {f1}')\n",
        "print(best_params)\n"
      ]
    },
    {
      "cell_type": "code",
      "execution_count": 85,
      "metadata": {},
      "outputs": [],
      "source": [
        "model = LogisticRegression(C=best_params['C'])\n",
        "model.fit(Xtrain, ytrain)\n",
        "prediction = model.predict_proba(Xtest)\n",
        "classes = np.where(prediction >= best_params['prob'], 1, 0)[:, 1]\n",
        "f1_test = f1_score(ytest, classes)"
      ]
    },
    {
      "cell_type": "code",
      "execution_count": 86,
      "metadata": {
        "id": "iMhzejf94XKp"
      },
      "outputs": [
        {
          "data": {
            "text/plain": [
              "0.25"
            ]
          },
          "execution_count": 86,
          "metadata": {},
          "output_type": "execute_result"
        }
      ],
      "source": [
        "# вычислите значение f1_score на тестовых данных\n",
        "round(f1_test, 2)"
      ]
    }
  ],
  "metadata": {
    "colab": {
      "provenance": []
    },
    "kernelspec": {
      "display_name": "Python 3",
      "name": "python3"
    },
    "language_info": {
      "codemirror_mode": {
        "name": "ipython",
        "version": 3
      },
      "file_extension": ".py",
      "mimetype": "text/x-python",
      "name": "python",
      "nbconvert_exporter": "python",
      "pygments_lexer": "ipython3",
      "version": "3.9.13"
    }
  },
  "nbformat": 4,
  "nbformat_minor": 0
}
